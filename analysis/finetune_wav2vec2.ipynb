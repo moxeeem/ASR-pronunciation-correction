{
 "cells": [
  {
   "cell_type": "code",
   "execution_count": 1,
   "metadata": {
    "id": "c8eh87Hoee5d"
   },
   "outputs": [],
   "source": [
    "'''\n",
    "%%capture\n",
    "%pip install transformers==4.4.0\n",
    "%pip install soundfile\n",
    "%pip install jiwer\n",
    "\n",
    "%pip install datasets>=1.18.3\n",
    "%pip install evaluate\n",
    "'''\n",
    "import os\n",
    "import re\n",
    "import ast\n",
    "import random\n",
    "import librosa\n",
    "import json\n",
    "import evaluate\n",
    "import numpy as np\n",
    "import pandas as pd\n",
    "from datasets import ClassLabel\n",
    "from datasets import load_dataset\n",
    "from datasets import Dataset, DatasetDict\n",
    "from IPython.display import display, HTML\n",
    "from transformers import Wav2Vec2CTCTokenizer\n",
    "from transformers import Wav2Vec2FeatureExtractor\n",
    "from transformers import Wav2Vec2Processor\n",
    "import soundfile as sf\n",
    "\n",
    "import torch\n",
    "from dataclasses import dataclass, field\n",
    "from typing import Any, Dict, List, Optional, Union\n",
    "\n",
    "import IPython.display as ipd\n",
    "\n",
    "from jiwer import cer\n",
    "from jiwer import wer\n",
    "import evaluate\n",
    "\n",
    "from transformers import Wav2Vec2ForCTC\n",
    "from transformers import TrainingArguments\n",
    "from transformers import Trainer\n",
    "from scipy.io.wavfile import write"
   ]
  },
  {
   "cell_type": "markdown",
   "metadata": {},
   "source": [
    "# **Fine-tuning XLSR-Wav2Vec2 for Phoneme Recognition**"
   ]
  },
  {
   "cell_type": "markdown",
   "metadata": {},
   "source": [
    "## Чтение и подготовка датасета"
   ]
  },
  {
   "cell_type": "code",
   "execution_count": 2,
   "metadata": {},
   "outputs": [
    {
     "data": {
      "text/html": [
       "<div>\n",
       "<style scoped>\n",
       "    .dataframe tbody tr th:only-of-type {\n",
       "        vertical-align: middle;\n",
       "    }\n",
       "\n",
       "    .dataframe tbody tr th {\n",
       "        vertical-align: top;\n",
       "    }\n",
       "\n",
       "    .dataframe thead th {\n",
       "        text-align: right;\n",
       "    }\n",
       "</style>\n",
       "<table border=\"1\" class=\"dataframe\">\n",
       "  <thead>\n",
       "    <tr style=\"text-align: right;\">\n",
       "      <th></th>\n",
       "      <th>audio_path</th>\n",
       "      <th>sentence</th>\n",
       "      <th>phonemes</th>\n",
       "      <th>duration</th>\n",
       "      <th>dataset</th>\n",
       "    </tr>\n",
       "  </thead>\n",
       "  <tbody>\n",
       "    <tr>\n",
       "      <th>0</th>\n",
       "      <td>/home/morph/Desktop/FINAL/processed_dataset/1.wav</td>\n",
       "      <td>This has been attributed to helium film flow i...</td>\n",
       "      <td>['ðɪs', 'hɛz', 'bɛn', 'ɪt͡ʃɪbutɪd', 'tu', 'hɪl...</td>\n",
       "      <td>0.001351</td>\n",
       "      <td>TIMIT</td>\n",
       "    </tr>\n",
       "    <tr>\n",
       "      <th>1</th>\n",
       "      <td>/home/morph/Desktop/FINAL/processed_dataset/2.wav</td>\n",
       "      <td>Steve collects rare and novel coins.</td>\n",
       "      <td>['stiv', 'kəlɛks', 'ɹɛɹ', 'ɪn', 'nɑvəl', 'kɔɪns']</td>\n",
       "      <td>0.000798</td>\n",
       "      <td>TIMIT</td>\n",
       "    </tr>\n",
       "    <tr>\n",
       "      <th>2</th>\n",
       "      <td>/home/morph/Desktop/FINAL/processed_dataset/3.wav</td>\n",
       "      <td>Cyclical programs will never compile.</td>\n",
       "      <td>['sɪklɪkəl', 'pɹoʊɡɹæmz', 'wəl', 'nɛvɚ', 'kəmp...</td>\n",
       "      <td>0.000731</td>\n",
       "      <td>TIMIT</td>\n",
       "    </tr>\n",
       "    <tr>\n",
       "      <th>3</th>\n",
       "      <td>/home/morph/Desktop/FINAL/processed_dataset/4.wav</td>\n",
       "      <td>Receiving no answer, they set the fire.</td>\n",
       "      <td>['ɹisivɪŋ', 'noʊ', 'ænsɚ', 'ðeɪ', 'sɛ', 'ðɪ', ...</td>\n",
       "      <td>0.000706</td>\n",
       "      <td>TIMIT</td>\n",
       "    </tr>\n",
       "    <tr>\n",
       "      <th>4</th>\n",
       "      <td>/home/morph/Desktop/FINAL/processed_dataset/5.wav</td>\n",
       "      <td>Don't ask me to carry an oily rag like that.</td>\n",
       "      <td>['doʊn', 'æsk', 'mɪ', 'tɪ', 'kɛɹi', 'ɪn', 'ɔli...</td>\n",
       "      <td>0.000743</td>\n",
       "      <td>TIMIT</td>\n",
       "    </tr>\n",
       "    <tr>\n",
       "      <th>...</th>\n",
       "      <td>...</td>\n",
       "      <td>...</td>\n",
       "      <td>...</td>\n",
       "      <td>...</td>\n",
       "      <td>...</td>\n",
       "    </tr>\n",
       "    <tr>\n",
       "      <th>15107</th>\n",
       "      <td>/home/morph/Desktop/FINAL/processed_dataset/15...</td>\n",
       "      <td>The original storyline was developed by David ...</td>\n",
       "      <td>['dʌ', 'ɔɹɪ͡ʒʌnʌl', 'stɔɹi', 'laɪn', 'wʌz', 'd...</td>\n",
       "      <td>0.002595</td>\n",
       "      <td>CV</td>\n",
       "    </tr>\n",
       "    <tr>\n",
       "      <th>15108</th>\n",
       "      <td>/home/morph/Desktop/FINAL/processed_dataset/15...</td>\n",
       "      <td>All high-speed rail lines, except those in Rus...</td>\n",
       "      <td>['ɔl', 'haɪ', 'spɹid', 'ɹeɪlaɪns', 'ɛksɛpt', '...</td>\n",
       "      <td>0.002945</td>\n",
       "      <td>CV</td>\n",
       "    </tr>\n",
       "    <tr>\n",
       "      <th>15109</th>\n",
       "      <td>/home/morph/Desktop/FINAL/processed_dataset/15...</td>\n",
       "      <td>For your first installation, I highly recommen...</td>\n",
       "      <td>['fɹɚ', 'jɚ', 'fɚst', 'ˌɪnstʌleɪʃʌn', 'aɪ', 'h...</td>\n",
       "      <td>0.002379</td>\n",
       "      <td>CV</td>\n",
       "    </tr>\n",
       "    <tr>\n",
       "      <th>15110</th>\n",
       "      <td>/home/morph/Desktop/FINAL/processed_dataset/15...</td>\n",
       "      <td>Pat Burchat is the deputy director.</td>\n",
       "      <td>['hæt', 'bɚt', 't͡ʃæp', 'ɪz', 'ðʌ', 'dɛpjʌti',...</td>\n",
       "      <td>0.001188</td>\n",
       "      <td>CV</td>\n",
       "    </tr>\n",
       "    <tr>\n",
       "      <th>15111</th>\n",
       "      <td>/home/morph/Desktop/FINAL/processed_dataset/15...</td>\n",
       "      <td>It has a station on the railway; and its post ...</td>\n",
       "      <td>['ɪ', 'hæz', 'ʌ', 'steɪʃʌn', 'ɑn', 'ðʌ', 'ɹeɪl...</td>\n",
       "      <td>0.001772</td>\n",
       "      <td>CV</td>\n",
       "    </tr>\n",
       "  </tbody>\n",
       "</table>\n",
       "<p>15112 rows × 5 columns</p>\n",
       "</div>"
      ],
      "text/plain": [
       "                                              audio_path  \\\n",
       "0      /home/morph/Desktop/FINAL/processed_dataset/1.wav   \n",
       "1      /home/morph/Desktop/FINAL/processed_dataset/2.wav   \n",
       "2      /home/morph/Desktop/FINAL/processed_dataset/3.wav   \n",
       "3      /home/morph/Desktop/FINAL/processed_dataset/4.wav   \n",
       "4      /home/morph/Desktop/FINAL/processed_dataset/5.wav   \n",
       "...                                                  ...   \n",
       "15107  /home/morph/Desktop/FINAL/processed_dataset/15...   \n",
       "15108  /home/morph/Desktop/FINAL/processed_dataset/15...   \n",
       "15109  /home/morph/Desktop/FINAL/processed_dataset/15...   \n",
       "15110  /home/morph/Desktop/FINAL/processed_dataset/15...   \n",
       "15111  /home/morph/Desktop/FINAL/processed_dataset/15...   \n",
       "\n",
       "                                                sentence  \\\n",
       "0      This has been attributed to helium film flow i...   \n",
       "1                   Steve collects rare and novel coins.   \n",
       "2                  Cyclical programs will never compile.   \n",
       "3                Receiving no answer, they set the fire.   \n",
       "4           Don't ask me to carry an oily rag like that.   \n",
       "...                                                  ...   \n",
       "15107  The original storyline was developed by David ...   \n",
       "15108  All high-speed rail lines, except those in Rus...   \n",
       "15109  For your first installation, I highly recommen...   \n",
       "15110                Pat Burchat is the deputy director.   \n",
       "15111  It has a station on the railway; and its post ...   \n",
       "\n",
       "                                                phonemes  duration dataset  \n",
       "0      ['ðɪs', 'hɛz', 'bɛn', 'ɪt͡ʃɪbutɪd', 'tu', 'hɪl...  0.001351   TIMIT  \n",
       "1      ['stiv', 'kəlɛks', 'ɹɛɹ', 'ɪn', 'nɑvəl', 'kɔɪns']  0.000798   TIMIT  \n",
       "2      ['sɪklɪkəl', 'pɹoʊɡɹæmz', 'wəl', 'nɛvɚ', 'kəmp...  0.000731   TIMIT  \n",
       "3      ['ɹisivɪŋ', 'noʊ', 'ænsɚ', 'ðeɪ', 'sɛ', 'ðɪ', ...  0.000706   TIMIT  \n",
       "4      ['doʊn', 'æsk', 'mɪ', 'tɪ', 'kɛɹi', 'ɪn', 'ɔli...  0.000743   TIMIT  \n",
       "...                                                  ...       ...     ...  \n",
       "15107  ['dʌ', 'ɔɹɪ͡ʒʌnʌl', 'stɔɹi', 'laɪn', 'wʌz', 'd...  0.002595      CV  \n",
       "15108  ['ɔl', 'haɪ', 'spɹid', 'ɹeɪlaɪns', 'ɛksɛpt', '...  0.002945      CV  \n",
       "15109  ['fɹɚ', 'jɚ', 'fɚst', 'ˌɪnstʌleɪʃʌn', 'aɪ', 'h...  0.002379      CV  \n",
       "15110  ['hæt', 'bɚt', 't͡ʃæp', 'ɪz', 'ðʌ', 'dɛpjʌti',...  0.001188      CV  \n",
       "15111  ['ɪ', 'hæz', 'ʌ', 'steɪʃʌn', 'ɑn', 'ðʌ', 'ɹeɪl...  0.001772      CV  \n",
       "\n",
       "[15112 rows x 5 columns]"
      ]
     },
     "execution_count": 2,
     "metadata": {},
     "output_type": "execute_result"
    }
   ],
   "source": [
    "df = pd.read_csv('/home/morph/Desktop/FINAL/updated_FINAL_DATASET.csv')\n",
    "df"
   ]
  },
  {
   "cell_type": "code",
   "execution_count": 3,
   "metadata": {},
   "outputs": [
    {
     "data": {
      "text/html": [
       "<div>\n",
       "<style scoped>\n",
       "    .dataframe tbody tr th:only-of-type {\n",
       "        vertical-align: middle;\n",
       "    }\n",
       "\n",
       "    .dataframe tbody tr th {\n",
       "        vertical-align: top;\n",
       "    }\n",
       "\n",
       "    .dataframe thead th {\n",
       "        text-align: right;\n",
       "    }\n",
       "</style>\n",
       "<table border=\"1\" class=\"dataframe\">\n",
       "  <thead>\n",
       "    <tr style=\"text-align: right;\">\n",
       "      <th></th>\n",
       "      <th>audio_path</th>\n",
       "      <th>sentence</th>\n",
       "      <th>phonemes</th>\n",
       "      <th>duration</th>\n",
       "      <th>dataset</th>\n",
       "    </tr>\n",
       "  </thead>\n",
       "  <tbody>\n",
       "    <tr>\n",
       "      <th>0</th>\n",
       "      <td>/home/morph/Desktop/FINAL/processed_dataset/1.wav</td>\n",
       "      <td>This has been attributed to helium film flow i...</td>\n",
       "      <td>[ðɪs, hɛz, bɛn, ɪt͡ʃɪbutɪd, tu, hɪliɪm, fɪlm, ...</td>\n",
       "      <td>0.001351</td>\n",
       "      <td>TIMIT</td>\n",
       "    </tr>\n",
       "    <tr>\n",
       "      <th>1</th>\n",
       "      <td>/home/morph/Desktop/FINAL/processed_dataset/2.wav</td>\n",
       "      <td>Steve collects rare and novel coins.</td>\n",
       "      <td>[stiv, kəlɛks, ɹɛɹ, ɪn, nɑvəl, kɔɪns]</td>\n",
       "      <td>0.000798</td>\n",
       "      <td>TIMIT</td>\n",
       "    </tr>\n",
       "    <tr>\n",
       "      <th>2</th>\n",
       "      <td>/home/morph/Desktop/FINAL/processed_dataset/3.wav</td>\n",
       "      <td>Cyclical programs will never compile.</td>\n",
       "      <td>[sɪklɪkəl, pɹoʊɡɹæmz, wəl, nɛvɚ, kəmpɑl]</td>\n",
       "      <td>0.000731</td>\n",
       "      <td>TIMIT</td>\n",
       "    </tr>\n",
       "    <tr>\n",
       "      <th>3</th>\n",
       "      <td>/home/morph/Desktop/FINAL/processed_dataset/4.wav</td>\n",
       "      <td>Receiving no answer, they set the fire.</td>\n",
       "      <td>[ɹisivɪŋ, noʊ, ænsɚ, ðeɪ, sɛ, ðɪ, faɪɚ]</td>\n",
       "      <td>0.000706</td>\n",
       "      <td>TIMIT</td>\n",
       "    </tr>\n",
       "    <tr>\n",
       "      <th>4</th>\n",
       "      <td>/home/morph/Desktop/FINAL/processed_dataset/5.wav</td>\n",
       "      <td>Don't ask me to carry an oily rag like that.</td>\n",
       "      <td>[doʊn, æsk, mɪ, tɪ, kɛɹi, ɪn, ɔli, ɹæɡ, laɪk, ...</td>\n",
       "      <td>0.000743</td>\n",
       "      <td>TIMIT</td>\n",
       "    </tr>\n",
       "    <tr>\n",
       "      <th>...</th>\n",
       "      <td>...</td>\n",
       "      <td>...</td>\n",
       "      <td>...</td>\n",
       "      <td>...</td>\n",
       "      <td>...</td>\n",
       "    </tr>\n",
       "    <tr>\n",
       "      <th>15107</th>\n",
       "      <td>/home/morph/Desktop/FINAL/processed_dataset/15...</td>\n",
       "      <td>The original storyline was developed by David ...</td>\n",
       "      <td>[dʌ, ɔɹɪ͡ʒʌnʌl, stɔɹi, laɪn, wʌz, dɛvɛlʌpt, ba...</td>\n",
       "      <td>0.002595</td>\n",
       "      <td>CV</td>\n",
       "    </tr>\n",
       "    <tr>\n",
       "      <th>15108</th>\n",
       "      <td>/home/morph/Desktop/FINAL/processed_dataset/15...</td>\n",
       "      <td>All high-speed rail lines, except those in Rus...</td>\n",
       "      <td>[ɔl, haɪ, spɹid, ɹeɪlaɪns, ɛksɛpt, doʊz, ɪn, ʌ...</td>\n",
       "      <td>0.002945</td>\n",
       "      <td>CV</td>\n",
       "    </tr>\n",
       "    <tr>\n",
       "      <th>15109</th>\n",
       "      <td>/home/morph/Desktop/FINAL/processed_dataset/15...</td>\n",
       "      <td>For your first installation, I highly recommen...</td>\n",
       "      <td>[fɹɚ, jɚ, fɚst, ˌɪnstʌleɪʃʌn, aɪ, haɪli, ɹɛkʌm...</td>\n",
       "      <td>0.002379</td>\n",
       "      <td>CV</td>\n",
       "    </tr>\n",
       "    <tr>\n",
       "      <th>15110</th>\n",
       "      <td>/home/morph/Desktop/FINAL/processed_dataset/15...</td>\n",
       "      <td>Pat Burchat is the deputy director.</td>\n",
       "      <td>[hæt, bɚt, t͡ʃæp, ɪz, ðʌ, dɛpjʌti, dɚɛktɚ]</td>\n",
       "      <td>0.001188</td>\n",
       "      <td>CV</td>\n",
       "    </tr>\n",
       "    <tr>\n",
       "      <th>15111</th>\n",
       "      <td>/home/morph/Desktop/FINAL/processed_dataset/15...</td>\n",
       "      <td>It has a station on the railway; and its post ...</td>\n",
       "      <td>[ɪ, hæz, ʌ, steɪʃʌn, ɑn, ðʌ, ɹeɪlwˌeɪ, æn, oʊs...</td>\n",
       "      <td>0.001772</td>\n",
       "      <td>CV</td>\n",
       "    </tr>\n",
       "  </tbody>\n",
       "</table>\n",
       "<p>15112 rows × 5 columns</p>\n",
       "</div>"
      ],
      "text/plain": [
       "                                              audio_path  \\\n",
       "0      /home/morph/Desktop/FINAL/processed_dataset/1.wav   \n",
       "1      /home/morph/Desktop/FINAL/processed_dataset/2.wav   \n",
       "2      /home/morph/Desktop/FINAL/processed_dataset/3.wav   \n",
       "3      /home/morph/Desktop/FINAL/processed_dataset/4.wav   \n",
       "4      /home/morph/Desktop/FINAL/processed_dataset/5.wav   \n",
       "...                                                  ...   \n",
       "15107  /home/morph/Desktop/FINAL/processed_dataset/15...   \n",
       "15108  /home/morph/Desktop/FINAL/processed_dataset/15...   \n",
       "15109  /home/morph/Desktop/FINAL/processed_dataset/15...   \n",
       "15110  /home/morph/Desktop/FINAL/processed_dataset/15...   \n",
       "15111  /home/morph/Desktop/FINAL/processed_dataset/15...   \n",
       "\n",
       "                                                sentence  \\\n",
       "0      This has been attributed to helium film flow i...   \n",
       "1                   Steve collects rare and novel coins.   \n",
       "2                  Cyclical programs will never compile.   \n",
       "3                Receiving no answer, they set the fire.   \n",
       "4           Don't ask me to carry an oily rag like that.   \n",
       "...                                                  ...   \n",
       "15107  The original storyline was developed by David ...   \n",
       "15108  All high-speed rail lines, except those in Rus...   \n",
       "15109  For your first installation, I highly recommen...   \n",
       "15110                Pat Burchat is the deputy director.   \n",
       "15111  It has a station on the railway; and its post ...   \n",
       "\n",
       "                                                phonemes  duration dataset  \n",
       "0      [ðɪs, hɛz, bɛn, ɪt͡ʃɪbutɪd, tu, hɪliɪm, fɪlm, ...  0.001351   TIMIT  \n",
       "1                  [stiv, kəlɛks, ɹɛɹ, ɪn, nɑvəl, kɔɪns]  0.000798   TIMIT  \n",
       "2               [sɪklɪkəl, pɹoʊɡɹæmz, wəl, nɛvɚ, kəmpɑl]  0.000731   TIMIT  \n",
       "3                [ɹisivɪŋ, noʊ, ænsɚ, ðeɪ, sɛ, ðɪ, faɪɚ]  0.000706   TIMIT  \n",
       "4      [doʊn, æsk, mɪ, tɪ, kɛɹi, ɪn, ɔli, ɹæɡ, laɪk, ...  0.000743   TIMIT  \n",
       "...                                                  ...       ...     ...  \n",
       "15107  [dʌ, ɔɹɪ͡ʒʌnʌl, stɔɹi, laɪn, wʌz, dɛvɛlʌpt, ba...  0.002595      CV  \n",
       "15108  [ɔl, haɪ, spɹid, ɹeɪlaɪns, ɛksɛpt, doʊz, ɪn, ʌ...  0.002945      CV  \n",
       "15109  [fɹɚ, jɚ, fɚst, ˌɪnstʌleɪʃʌn, aɪ, haɪli, ɹɛkʌm...  0.002379      CV  \n",
       "15110         [hæt, bɚt, t͡ʃæp, ɪz, ðʌ, dɛpjʌti, dɚɛktɚ]  0.001188      CV  \n",
       "15111  [ɪ, hæz, ʌ, steɪʃʌn, ɑn, ðʌ, ɹeɪlwˌeɪ, æn, oʊs...  0.001772      CV  \n",
       "\n",
       "[15112 rows x 5 columns]"
      ]
     },
     "execution_count": 3,
     "metadata": {},
     "output_type": "execute_result"
    }
   ],
   "source": [
    "def validate_and_fix_phonemes(row):\n",
    "    value = row['phonemes']\n",
    "    if isinstance(value, list) and all(isinstance(item, str) for item in value):\n",
    "        # Если уже корректный список строк, оставить без изменений\n",
    "        return value\n",
    "    try:\n",
    "        # Попытка преобразовать строку в список с использованием ast.literal_eval\n",
    "        parsed_value = ast.literal_eval(value)\n",
    "        if isinstance(parsed_value, list) and all(isinstance(item, str) for item in parsed_value):\n",
    "            return parsed_value\n",
    "    except (ValueError, SyntaxError, TypeError):\n",
    "        pass\n",
    "    # Если не удалось преобразовать, вернуть None или оставить оригинальное значение\n",
    "    return None\n",
    "\n",
    "df['phonemes'] = df.apply(validate_and_fix_phonemes, axis=1)\n",
    "\n",
    "df"
   ]
  },
  {
   "cell_type": "code",
   "execution_count": 4,
   "metadata": {},
   "outputs": [
    {
     "data": {
      "text/html": [
       "<div>\n",
       "<style scoped>\n",
       "    .dataframe tbody tr th:only-of-type {\n",
       "        vertical-align: middle;\n",
       "    }\n",
       "\n",
       "    .dataframe tbody tr th {\n",
       "        vertical-align: top;\n",
       "    }\n",
       "\n",
       "    .dataframe thead th {\n",
       "        text-align: right;\n",
       "    }\n",
       "</style>\n",
       "<table border=\"1\" class=\"dataframe\">\n",
       "  <thead>\n",
       "    <tr style=\"text-align: right;\">\n",
       "      <th></th>\n",
       "      <th>audio_path</th>\n",
       "      <th>sentence</th>\n",
       "      <th>phonemes</th>\n",
       "      <th>duration</th>\n",
       "      <th>dataset</th>\n",
       "    </tr>\n",
       "  </thead>\n",
       "  <tbody>\n",
       "    <tr>\n",
       "      <th>0</th>\n",
       "      <td>/home/morph/Desktop/FINAL/processed_dataset/1.wav</td>\n",
       "      <td>This has been attributed to helium film flow i...</td>\n",
       "      <td>[ðɪs, hɛz, bɛn, ɪt͡ʃɪbutɪd, tu, hɪliɪm, fɪlm, ...</td>\n",
       "      <td>0.001351</td>\n",
       "      <td>TIMIT</td>\n",
       "    </tr>\n",
       "    <tr>\n",
       "      <th>1</th>\n",
       "      <td>/home/morph/Desktop/FINAL/processed_dataset/2.wav</td>\n",
       "      <td>Steve collects rare and novel coins.</td>\n",
       "      <td>[stiv, kəlɛks, ɹɛɹ, ɪn, nɑvəl, kɔɪns]</td>\n",
       "      <td>0.000798</td>\n",
       "      <td>TIMIT</td>\n",
       "    </tr>\n",
       "    <tr>\n",
       "      <th>2</th>\n",
       "      <td>/home/morph/Desktop/FINAL/processed_dataset/3.wav</td>\n",
       "      <td>Cyclical programs will never compile.</td>\n",
       "      <td>[sɪklɪkəl, pɹoʊɡɹæmz, wəl, nɛvɚ, kəmpɑl]</td>\n",
       "      <td>0.000731</td>\n",
       "      <td>TIMIT</td>\n",
       "    </tr>\n",
       "    <tr>\n",
       "      <th>3</th>\n",
       "      <td>/home/morph/Desktop/FINAL/processed_dataset/4.wav</td>\n",
       "      <td>Receiving no answer, they set the fire.</td>\n",
       "      <td>[ɹisivɪŋ, noʊ, ænsɚ, ðeɪ, sɛ, ðɪ, faɪɚ]</td>\n",
       "      <td>0.000706</td>\n",
       "      <td>TIMIT</td>\n",
       "    </tr>\n",
       "    <tr>\n",
       "      <th>4</th>\n",
       "      <td>/home/morph/Desktop/FINAL/processed_dataset/5.wav</td>\n",
       "      <td>Don't ask me to carry an oily rag like that.</td>\n",
       "      <td>[doʊn, æsk, mɪ, tɪ, kɛɹi, ɪn, ɔli, ɹæɡ, laɪk, ...</td>\n",
       "      <td>0.000743</td>\n",
       "      <td>TIMIT</td>\n",
       "    </tr>\n",
       "    <tr>\n",
       "      <th>...</th>\n",
       "      <td>...</td>\n",
       "      <td>...</td>\n",
       "      <td>...</td>\n",
       "      <td>...</td>\n",
       "      <td>...</td>\n",
       "    </tr>\n",
       "    <tr>\n",
       "      <th>15107</th>\n",
       "      <td>/home/morph/Desktop/FINAL/processed_dataset/15...</td>\n",
       "      <td>The original storyline was developed by David ...</td>\n",
       "      <td>[dʌ, ɔɹɪ͡ʒʌnʌl, stɔɹi, laɪn, wʌz, dɛvɛlʌpt, ba...</td>\n",
       "      <td>0.002595</td>\n",
       "      <td>CV</td>\n",
       "    </tr>\n",
       "    <tr>\n",
       "      <th>15108</th>\n",
       "      <td>/home/morph/Desktop/FINAL/processed_dataset/15...</td>\n",
       "      <td>All high-speed rail lines, except those in Rus...</td>\n",
       "      <td>[ɔl, haɪ, spɹid, ɹeɪlaɪns, ɛksɛpt, doʊz, ɪn, ʌ...</td>\n",
       "      <td>0.002945</td>\n",
       "      <td>CV</td>\n",
       "    </tr>\n",
       "    <tr>\n",
       "      <th>15109</th>\n",
       "      <td>/home/morph/Desktop/FINAL/processed_dataset/15...</td>\n",
       "      <td>For your first installation, I highly recommen...</td>\n",
       "      <td>[fɹɚ, jɚ, fɚst, ɪnstʌleɪʃʌn, aɪ, haɪli, ɹɛkʌmɛ...</td>\n",
       "      <td>0.002379</td>\n",
       "      <td>CV</td>\n",
       "    </tr>\n",
       "    <tr>\n",
       "      <th>15110</th>\n",
       "      <td>/home/morph/Desktop/FINAL/processed_dataset/15...</td>\n",
       "      <td>Pat Burchat is the deputy director.</td>\n",
       "      <td>[hæt, bɚt, t͡ʃæp, ɪz, ðʌ, dɛpjʌti, dɚɛktɚ]</td>\n",
       "      <td>0.001188</td>\n",
       "      <td>CV</td>\n",
       "    </tr>\n",
       "    <tr>\n",
       "      <th>15111</th>\n",
       "      <td>/home/morph/Desktop/FINAL/processed_dataset/15...</td>\n",
       "      <td>It has a station on the railway; and its post ...</td>\n",
       "      <td>[ɪ, hæz, ʌ, steɪʃʌn, ɑn, ðʌ, ɹeɪlweɪ, æn, oʊs,...</td>\n",
       "      <td>0.001772</td>\n",
       "      <td>CV</td>\n",
       "    </tr>\n",
       "  </tbody>\n",
       "</table>\n",
       "<p>15112 rows × 5 columns</p>\n",
       "</div>"
      ],
      "text/plain": [
       "                                              audio_path  \\\n",
       "0      /home/morph/Desktop/FINAL/processed_dataset/1.wav   \n",
       "1      /home/morph/Desktop/FINAL/processed_dataset/2.wav   \n",
       "2      /home/morph/Desktop/FINAL/processed_dataset/3.wav   \n",
       "3      /home/morph/Desktop/FINAL/processed_dataset/4.wav   \n",
       "4      /home/morph/Desktop/FINAL/processed_dataset/5.wav   \n",
       "...                                                  ...   \n",
       "15107  /home/morph/Desktop/FINAL/processed_dataset/15...   \n",
       "15108  /home/morph/Desktop/FINAL/processed_dataset/15...   \n",
       "15109  /home/morph/Desktop/FINAL/processed_dataset/15...   \n",
       "15110  /home/morph/Desktop/FINAL/processed_dataset/15...   \n",
       "15111  /home/morph/Desktop/FINAL/processed_dataset/15...   \n",
       "\n",
       "                                                sentence  \\\n",
       "0      This has been attributed to helium film flow i...   \n",
       "1                   Steve collects rare and novel coins.   \n",
       "2                  Cyclical programs will never compile.   \n",
       "3                Receiving no answer, they set the fire.   \n",
       "4           Don't ask me to carry an oily rag like that.   \n",
       "...                                                  ...   \n",
       "15107  The original storyline was developed by David ...   \n",
       "15108  All high-speed rail lines, except those in Rus...   \n",
       "15109  For your first installation, I highly recommen...   \n",
       "15110                Pat Burchat is the deputy director.   \n",
       "15111  It has a station on the railway; and its post ...   \n",
       "\n",
       "                                                phonemes  duration dataset  \n",
       "0      [ðɪs, hɛz, bɛn, ɪt͡ʃɪbutɪd, tu, hɪliɪm, fɪlm, ...  0.001351   TIMIT  \n",
       "1                  [stiv, kəlɛks, ɹɛɹ, ɪn, nɑvəl, kɔɪns]  0.000798   TIMIT  \n",
       "2               [sɪklɪkəl, pɹoʊɡɹæmz, wəl, nɛvɚ, kəmpɑl]  0.000731   TIMIT  \n",
       "3                [ɹisivɪŋ, noʊ, ænsɚ, ðeɪ, sɛ, ðɪ, faɪɚ]  0.000706   TIMIT  \n",
       "4      [doʊn, æsk, mɪ, tɪ, kɛɹi, ɪn, ɔli, ɹæɡ, laɪk, ...  0.000743   TIMIT  \n",
       "...                                                  ...       ...     ...  \n",
       "15107  [dʌ, ɔɹɪ͡ʒʌnʌl, stɔɹi, laɪn, wʌz, dɛvɛlʌpt, ba...  0.002595      CV  \n",
       "15108  [ɔl, haɪ, spɹid, ɹeɪlaɪns, ɛksɛpt, doʊz, ɪn, ʌ...  0.002945      CV  \n",
       "15109  [fɹɚ, jɚ, fɚst, ɪnstʌleɪʃʌn, aɪ, haɪli, ɹɛkʌmɛ...  0.002379      CV  \n",
       "15110         [hæt, bɚt, t͡ʃæp, ɪz, ðʌ, dɛpjʌti, dɚɛktɚ]  0.001188      CV  \n",
       "15111  [ɪ, hæz, ʌ, steɪʃʌn, ɑn, ðʌ, ɹeɪlweɪ, æn, oʊs,...  0.001772      CV  \n",
       "\n",
       "[15112 rows x 5 columns]"
      ]
     },
     "execution_count": 4,
     "metadata": {},
     "output_type": "execute_result"
    }
   ],
   "source": [
    "def clean_phoneme_list(phonemes):\n",
    "    cleaned_phonemes = []\n",
    "    for phoneme in phonemes:\n",
    "        # Удаляем пробелы и знаки ударения ˌ и ˈ\n",
    "        cleaned_phoneme = re.sub(r\"[ˌˈ\\s]\", \"\", phoneme)\n",
    "        cleaned_phonemes.append(cleaned_phoneme)\n",
    "    return cleaned_phonemes\n",
    "\n",
    "# Применяем функцию к столбцу\n",
    "df['phonemes'] = df['phonemes'].apply(clean_phoneme_list)\n",
    "\n",
    "df"
   ]
  },
  {
   "cell_type": "code",
   "execution_count": 5,
   "metadata": {},
   "outputs": [],
   "source": [
    "def load_audio(audio_path):\n",
    "    array, sr = librosa.load(audio_path, sr=16000)\n",
    "    return array, sr\n",
    "\n",
    "\n",
    "def prepare_dataset(df):\n",
    "    data = []\n",
    "    for idx, row in df.iterrows():\n",
    "        file_path = row['audio_path']\n",
    "        text = row['sentence']\n",
    "\n",
    "        # Use ast.literal_eval to safely evaluate the phonemes string\n",
    "        phonemes = row['phonemes']\n",
    "        if isinstance(phonemes, str):\n",
    "            phonemes = ast.literal_eval(phonemes)\n",
    "\n",
    "        # Load audio and retrieve the array and sampling rate\n",
    "        array, sr = load_audio(file_path)\n",
    "\n",
    "        # Append the structured dictionary for each row\n",
    "        data.append({\n",
    "            'file': file_path,\n",
    "            'audio': {\n",
    "                'path': file_path,\n",
    "                'array': array,\n",
    "                'sampling_rate': sr\n",
    "            },\n",
    "            'text': text,\n",
    "            'phonemes': phonemes,\n",
    "            'id': idx\n",
    "        })\n",
    "\n",
    "    return data"
   ]
  },
  {
   "cell_type": "code",
   "execution_count": 6,
   "metadata": {},
   "outputs": [
    {
     "data": {
      "application/vnd.jupyter.widget-view+json": {
       "model_id": "b5d73de73121465e9b62105f5847f6bd",
       "version_major": 2,
       "version_minor": 0
      },
      "text/plain": [
       "Saving the dataset (0/7 shards):   0%|          | 0/12089 [00:00<?, ? examples/s]"
      ]
     },
     "metadata": {},
     "output_type": "display_data"
    },
    {
     "data": {
      "application/vnd.jupyter.widget-view+json": {
       "model_id": "d454e216640f47638016471e3959cfa9",
       "version_major": 2,
       "version_minor": 0
      },
      "text/plain": [
       "Saving the dataset (0/2 shards):   0%|          | 0/3023 [00:00<?, ? examples/s]"
      ]
     },
     "metadata": {},
     "output_type": "display_data"
    },
    {
     "name": "stdout",
     "output_type": "stream",
     "text": [
      "DatasetDict({\n",
      "    train: Dataset({\n",
      "        features: ['file', 'audio', 'text', 'phonemes', 'id'],\n",
      "        num_rows: 12089\n",
      "    })\n",
      "    test: Dataset({\n",
      "        features: ['file', 'audio', 'text', 'phonemes', 'id'],\n",
      "        num_rows: 3023\n",
      "    })\n",
      "})\n"
     ]
    }
   ],
   "source": [
    "data = prepare_dataset(df)\n",
    "\n",
    "random.seed(42) \n",
    "random.shuffle(data)\n",
    "\n",
    "train_size = int(len(data) * 0.8)\n",
    "train_data = data[:train_size]\n",
    "test_data = data[train_size:]\n",
    "\n",
    "dataset = DatasetDict({\n",
    "    'train': Dataset.from_list(train_data),\n",
    "    'test': Dataset.from_list(test_data)\n",
    "})\n",
    "\n",
    "dataset.save_to_disk('/home/morph/Desktop/FINAL/ivanov182/timit_huggingface_dataset')\n",
    "\n",
    "print(dataset)"
   ]
  },
  {
   "cell_type": "code",
   "execution_count": 7,
   "metadata": {
    "id": "axHrUHezyJef"
   },
   "outputs": [
    {
     "data": {
      "text/html": [
       "<table border=\"1\" class=\"dataframe\">\n",
       "  <thead>\n",
       "    <tr style=\"text-align: right;\">\n",
       "      <th></th>\n",
       "      <th>audio</th>\n",
       "      <th>text</th>\n",
       "      <th>phonemes</th>\n",
       "    </tr>\n",
       "  </thead>\n",
       "  <tbody>\n",
       "    <tr>\n",
       "      <th>0</th>\n",
       "      <td>{'array': [-0.020477294921875, -0.01971435546875, -0.020538330078125, -0.020172119140625, -0.020599365234375, -0.0216064453125, -0.0213623046875, -0.0213623046875, -0.021514892578125, -0.021942138671875, -0.021820068359375, -0.022369384765625, -0.02252197265625, -0.022552490234375, -0.022308349609375, -0.022186279296875, -0.021728515625, -0.021392822265625, -0.021453857421875, -0.0205078125, -0.019866943359375, -0.0198974609375, -0.01904296875, -0.018707275390625, -0.018768310546875, -0.017730712890625, -0.017547607421875, -0.017242431640625, -0.016571044921875, -0.0169677734375, -0.0166015625, -0.016082763671875, -0.016021728515625, -0.015411376953125, -0.015899658203125, -0.015289306640625, -0.015533447265625, -0.015716552734375, -0.015625, -0.014984130859375, -0.0150146484375, -0.0142822265625, -0.013946533203125, -0.013336181640625, -0.013641357421875, -0.013580322265625, -0.01177978515625, -0.012237548828125, -0.011505126953125, -0.011749267578125, -0.01141357421875, -0.01171875, -0.010528564453125, -0.010101318359375, -0.0096435546875, -0.009613037109375, -0.00885009765625, -0.008880615234375, -0.008209228515625, -0.007843017578125, -0.0069580078125, -0.00677490234375, -0.006256103515625, -0.005706787109375, -0.005218505859375, -0.004547119140625, -0.003997802734375, -0.00360107421875, -0.002655029296875, -0.00238037109375, -0.001373291015625, -0.00128173828125, -0.001373291015625, -0.001495361328125, -0.001251220703125, -0.001708984375, -0.002777099609375, -0.00238037109375, -0.002197265625, -0.001983642578125, -0.0018310546875, -0.002685546875, -0.00262451171875, -0.002655029296875, -0.0028076171875, -0.003204345703125, -0.003326416015625, -0.003509521484375, -0.003021240234375, -0.003448486328125, -0.003509521484375, -0.00360107421875, -0.0023193359375, -0.001861572265625, -0.00140380859375, -0.000885009765625, -0.000335693359375, 0.00054931640625, 0.001556396484375, 0.002532958984375, ...], 'path': '/home/morph/Desktop/FINAL/processed_dataset/6510.wav', 'sampling_rate': 16000}</td>\n",
       "      <td>The farmer works the soil and produces grain</td>\n",
       "      <td>[ðʌ, fɑɹmɚ, wɚks, ðʌ, sɔɪl, ænd, pɹʌdusʌz, ɡɹeɪn]</td>\n",
       "    </tr>\n",
       "    <tr>\n",
       "      <th>1</th>\n",
       "      <td>{'array': [0.00732421875, 0.02044677734375, 0.016357421875, 0.00860595703125, -0.000335693359375, -0.005859375, -0.004547119140625, -0.001953125, 0.000946044921875, 0.00714111328125, 0.010955810546875, 0.01190185546875, 0.015045166015625, 0.008544921875, -0.007171630859375, -0.012786865234375, -0.002227783203125, -0.000701904296875, -0.0037841796875, 0.000213623046875, 0.0006103515625, 0.001617431640625, -0.0023193359375, -0.010528564453125, -0.010528564453125, -0.01275634765625, -0.012847900390625, -0.00054931640625, 0.004302978515625, 0.00823974609375, 0.0145263671875, 0.01361083984375, 0.009033203125, 0.000213623046875, -9.1552734375e-05, -0.00042724609375, -0.00506591796875, -0.0003662109375, -0.000335693359375, -0.002197265625, -0.001739501953125, -6.103515625e-05, 0.00469970703125, -0.003173828125, -0.0107421875, -0.0081787109375, -0.007781982421875, -0.002838134765625, -0.002349853515625, -0.0157470703125, -0.01617431640625, -0.000885009765625, 0.003631591796875, -0.00933837890625, -0.011627197265625, -0.00286865234375, -0.000244140625, -0.000396728515625, -0.000518798828125, -0.000457763671875, -0.00177001953125, -0.001007080078125, -0.00030517578125, 0.003082275390625, -0.005767822265625, -0.017852783203125, -0.01910400390625, -0.007720947265625, -0.006439208984375, -0.018402099609375, -0.01702880859375, -0.01007080078125, 0.00384521484375, 0.0023193359375, -0.01336669921875, -0.016082763671875, -0.006622314453125, -0.00482177734375, -0.012725830078125, -0.01312255859375, -0.006500244140625, -0.004302978515625, -0.00567626953125, -0.007171630859375, -0.010009765625, -0.006500244140625, -0.00775146484375, -0.013397216796875, -0.01220703125, -0.00665283203125, -0.004241943359375, -0.00537109375, -0.009429931640625, -0.01373291015625, -0.008575439453125, -0.003631591796875, -0.00701904296875, -0.01507568359375, -0.010223388671875, -0.0042724609375, ...], 'path': '/home/morph/Desktop/FINAL/processed_dataset/13064.wav', 'sampling_rate': 16000}</td>\n",
       "      <td>I AM IN GREAT TROUBLE SAID SHE TAKING WHAT WAS INTENDED TO BE A HOPELESSLY MELANCHOLY SURVEY OF A FEW SMALL APPLES LYING UNDER THE TREE YET A CRITICAL EAR MIGHT HAVE NOTICED IN HER VOICE A TENTATIVE TONE</td>\n",
       "      <td>[aɪ, æm, ɪn, ɡɹeɪt, tɹʌbəl, sɛd, ʃi, teɪkɪŋ, wʌt, wəz, ɪntɛndɪd, tə, bi, ə, hoʊpləsli, mɛləŋkɑli, sɚveɪ, əv, ə, fju, smɔl, æpəlz, laɪɪŋ, ʌndɚ, ðə, tɹi, jɛt, ə, kɹɪtɪkəl, ɪɹ, maɪt, hæv, noʊtɪst, ɪn, hɚ, vɔɪs, ə, tɛntɪtɪv, toʊn]</td>\n",
       "    </tr>\n",
       "    <tr>\n",
       "      <th>2</th>\n",
       "      <td>{'array': [0.0003662109375, 0.00030517578125, -0.000946044921875, -0.002716064453125, -0.00408935546875, -0.00299072265625, -0.00225830078125, -0.00286865234375, -0.002899169921875, -0.00250244140625, -0.0032958984375, -0.003814697265625, -0.00384521484375, -0.005096435546875, -0.005035400390625, -0.005126953125, -0.0047607421875, -0.00439453125, -0.0050048828125, -0.006744384765625, -0.006134033203125, -0.006072998046875, -0.00634765625, -0.0072021484375, -0.006317138671875, -0.005828857421875, -0.005279541015625, -0.0067138671875, -0.006622314453125, -0.007354736328125, -0.008056640625, -0.0084228515625, -0.00799560546875, -0.00775146484375, -0.00799560546875, -0.0081787109375, -0.00787353515625, -0.00689697265625, -0.007781982421875, -0.007904052734375, -0.00762939453125, -0.007293701171875, -0.0064697265625, -0.0081787109375, -0.008575439453125, -0.00811767578125, -0.008544921875, -0.009368896484375, -0.008880615234375, -0.008056640625, -0.008392333984375, -0.008148193359375, -0.008514404296875, -0.00970458984375, -0.01055908203125, -0.010772705078125, -0.01080322265625, -0.01080322265625, -0.010650634765625, -0.01055908203125, -0.010345458984375, -0.0101318359375, -0.011077880859375, -0.010589599609375, -0.00982666015625, -0.009490966796875, -0.0089111328125, -0.009124755859375, -0.008636474609375, -0.00872802734375, -0.00872802734375, -0.008758544921875, -0.00823974609375, -0.007598876953125, -0.008056640625, -0.006378173828125, -0.006805419921875, -0.00726318359375, -0.0062255859375, -0.004730224609375, -0.00537109375, -0.005889892578125, -0.0052490234375, -0.004791259765625, -0.0037841796875, -0.00372314453125, -0.004119873046875, -0.003692626953125, -0.00299072265625, -0.00250244140625, -0.001739501953125, -0.000732421875, -0.0003662109375, -0.0008544921875, -0.00048828125, 0.000335693359375, 6.103515625e-05, -0.00091552734375, -0.000274658203125, 0.0010986328125, ...], 'path': '/home/morph/Desktop/FINAL/processed_dataset/8009.wav', 'sampling_rate': 16000}</td>\n",
       "      <td>Surely I will excuse you she cried</td>\n",
       "      <td>[ʃʊɹli, aɪ, wɪl, ɪkskjuz, ju, ʃi, kɹaɪd]</td>\n",
       "    </tr>\n",
       "    <tr>\n",
       "      <th>3</th>\n",
       "      <td>{'array': [-0.00531005859375, -0.005889892578125, -0.004608154296875, -0.004791259765625, -0.005340576171875, -0.005767822265625, -0.006500244140625, -0.0079345703125, -0.008514404296875, -0.00909423828125, -0.0098876953125, -0.01019287109375, -0.009307861328125, -0.010650634765625, -0.010101318359375, -0.009521484375, -0.009124755859375, -0.008636474609375, -0.007965087890625, -0.008697509765625, -0.007965087890625, -0.007171630859375, -0.0074462890625, -0.00775146484375, -0.00689697265625, -0.007537841796875, -0.00689697265625, -0.006988525390625, -0.00714111328125, -0.0067138671875, -0.00665283203125, -0.00714111328125, -0.005859375, -0.006561279296875, -0.006744384765625, -0.00616455078125, -0.006683349609375, -0.0062255859375, -0.006378173828125, -0.006439208984375, -0.00701904296875, -0.00665283203125, -0.007965087890625, -0.008941650390625, -0.008880615234375, -0.00933837890625, -0.0101318359375, -0.00909423828125, -0.009979248046875, -0.010101318359375, -0.00848388671875, -0.008026123046875, -0.00799560546875, -0.00701904296875, -0.007659912109375, -0.00677490234375, -0.006866455078125, -0.007843017578125, -0.008941650390625, -0.007843017578125, -0.008392333984375, -0.00872802734375, -0.00689697265625, -0.00726318359375, -0.0076904296875, -0.007293701171875, -0.00775146484375, -0.007659912109375, -0.00726318359375, -0.007965087890625, -0.007904052734375, -0.006561279296875, -0.00726318359375, -0.0072021484375, -0.00762939453125, -0.008575439453125, -0.008941650390625, -0.008453369140625, -0.009063720703125, -0.008087158203125, -0.008819580078125, -0.009674072265625, -0.009185791015625, -0.00958251953125, -0.009368896484375, -0.00994873046875, -0.008575439453125, -0.009063720703125, -0.007598876953125, -0.00616455078125, -0.005401611328125, -0.00555419921875, -0.003814697265625, -0.002288818359375, -0.001739501953125, -0.001007080078125, -0.000457763671875, 0.0001220703125, 0.000518798828125, -0.0001220703125, ...], 'path': '/home/morph/Desktop/FINAL/processed_dataset/11257.wav', 'sampling_rate': 16000}</td>\n",
       "      <td>Yea so are all the lesser animals of today clean</td>\n",
       "      <td>[jeɪ, soʊ, ɑɹ, ɔl, ðʌ, lɛsɚ, ænʌmʌlz, ʌv, tudeɪ, klin]</td>\n",
       "    </tr>\n",
       "    <tr>\n",
       "      <th>4</th>\n",
       "      <td>{'array': [-0.00543212890625, -0.00537109375, -0.005279541015625, -0.004730224609375, -0.004852294921875, -0.004608154296875, -0.0042724609375, -0.004638671875, -0.00445556640625, -0.005157470703125, -0.004913330078125, -0.00531005859375, -0.0048828125, -0.00445556640625, -0.0040283203125, -0.004180908203125, -0.00396728515625, -0.0045166015625, -0.004364013671875, -0.00567626953125, -0.005523681640625, -0.006134033203125, -0.005401611328125, -0.004547119140625, -0.003173828125, -0.00286865234375, -0.00213623046875, -0.001800537109375, -0.001007080078125, -0.00115966796875, -6.103515625e-05, 0.000946044921875, 0.001129150390625, 0.001495361328125, 0.0030517578125, 0.003570556640625, 0.00390625, 0.0047607421875, 0.0047607421875, 0.004608154296875, 0.004730224609375, 0.004913330078125, 0.005157470703125, 0.0052490234375, 0.00482177734375, 0.00439453125, 0.003448486328125, 0.00335693359375, 0.0020751953125, 0.001556396484375, 9.1552734375e-05, -0.001007080078125, -0.00189208984375, -0.00262451171875, -0.00311279296875, -0.003326416015625, -0.003753662109375, -0.00372314453125, -0.002777099609375, -0.0025634765625, -0.00262451171875, -0.002410888671875, -0.00213623046875, -0.001068115234375, -0.00146484375, -0.001129150390625, -0.001129150390625, -0.000701904296875, -0.000457763671875, 0.000457763671875, 0.000579833984375, 0.000732421875, 0.00115966796875, 0.00146484375, 0.00189208984375, 0.001922607421875, 0.001861572265625, 0.001953125, 0.002716064453125, 0.003662109375, 0.003143310546875, 0.002960205078125, 0.0030517578125, 0.00311279296875, 0.003082275390625, 0.003326416015625, 0.00311279296875, 0.003021240234375, 0.002288818359375, 0.001678466796875, 0.00201416015625, 0.00189208984375, 0.001708984375, 0.002410888671875, 0.002044677734375, 0.002777099609375, 0.0035400390625, 0.004241943359375, 0.0054931640625, 0.00592041015625, ...], 'path': '/home/morph/Desktop/FINAL/processed_dataset/10564.wav', 'sampling_rate': 16000}</td>\n",
       "      <td>He deluged me overwhelmed me with argument</td>\n",
       "      <td>[hi, dɛljud͡ʒd, mi, oʊvɚwɛlmd, mi, wɪθ, ɑɹɡjʌmʌnt]</td>\n",
       "    </tr>\n",
       "  </tbody>\n",
       "</table>"
      ],
      "text/plain": [
       "<IPython.core.display.HTML object>"
      ]
     },
     "metadata": {},
     "output_type": "display_data"
    }
   ],
   "source": [
    "def show_random_elements(dataset, num_examples=10):\n",
    "    assert num_examples <= len(dataset), \"Can't pick more elements than there are in the dataset.\"\n",
    "    picks = []\n",
    "    for _ in range(num_examples):\n",
    "        pick = random.randint(0, len(dataset)-1)\n",
    "        while pick in picks:\n",
    "            pick = random.randint(0, len(dataset)-1)\n",
    "        picks.append(pick)\n",
    "\n",
    "    df = pd.DataFrame(dataset[picks])\n",
    "    display(HTML(df.to_html()))\n",
    "\n",
    "show_random_elements(dataset['train'].remove_columns(['file', 'id']), num_examples=5)"
   ]
  },
  {
   "cell_type": "code",
   "execution_count": 8,
   "metadata": {
    "id": "lxq03l87q8SG"
   },
   "outputs": [
    {
     "data": {
      "application/vnd.jupyter.widget-view+json": {
       "model_id": "c0817a9b545f4c47b4f8274246e763fc",
       "version_major": 2,
       "version_minor": 0
      },
      "text/plain": [
       "Map:   0%|          | 0/12089 [00:00<?, ? examples/s]"
      ]
     },
     "metadata": {},
     "output_type": "display_data"
    },
    {
     "data": {
      "application/vnd.jupyter.widget-view+json": {
       "model_id": "4e2e0762e0a049fc8deb54b16b7d3df3",
       "version_major": 2,
       "version_minor": 0
      },
      "text/plain": [
       "Map:   0%|          | 0/3023 [00:00<?, ? examples/s]"
      ]
     },
     "metadata": {},
     "output_type": "display_data"
    }
   ],
   "source": [
    "def get_phonetic_code(x):\n",
    "    \"\"\"\n",
    "    Создаем поле phonetic_codes с разбивкой фонем на отдельные символы, включая пробелы.\n",
    "    \n",
    "    Пример:\n",
    "    Входное поле phonemes: ['stiv', 'kəlɛs', 'ɹɛɹ', 'ɪn', 'nɑvl̩', 'kɔɪns']\n",
    "    Выходное поле phonetic_codes: \n",
    "    ['s', 't', 'ɪ', 'v', ' ', 'k', 'ə', 'l', 'ɛ', 's', ' ', 'ɹ', 'ɛ', 'ɹ', ' ', 'ɪ', 'n', ' ', 'n', 'ɑ', 'v', 'l', '̩', ' ', 'k', 'ɔ', 'ɪ', 'n', 's']\n",
    "    \"\"\"\n",
    "    # Преобразуем список фонем в строку с пробелами между ними\n",
    "    with_space = '|'.join(x['phonemes'])\n",
    "\n",
    "    # Разбиваем строку на отдельные символы, включая пробелы\n",
    "    x['phonetic_codes'] = list(with_space)\n",
    "\n",
    "    return x\n",
    "\n",
    "dataset = dataset.map(get_phonetic_code)"
   ]
  },
  {
   "cell_type": "code",
   "execution_count": 9,
   "metadata": {},
   "outputs": [
    {
     "name": "stdout",
     "output_type": "stream",
     "text": [
      "Due to the lack of a bug bounty program, Johanna decided to sell her exploit on the black market.\n",
      "['dju', 'tu', 'dʌ', 'læk', 'ɔf', 'ʌ', 'bʌɡ', 'baʊn', 'di', 'pɹoʊɡɹɑm', 't͡ʃoʊhænʌ', 'dɪsaɪdɪd', 'tu', 'sɛl', 'hɚ', 'ɛksplɔɪt', 'ɔn', 'ðʌ', 'blæk', 'mɑɹkɛt']\n",
      "['d', 'j', 'u', '|', 't', 'u', '|', 'd', 'ʌ', '|', 'l', 'æ', 'k', '|', 'ɔ', 'f', '|', 'ʌ', '|', 'b', 'ʌ', 'ɡ', '|', 'b', 'a', 'ʊ', 'n', '|', 'd', 'i', '|', 'p', 'ɹ', 'o', 'ʊ', 'ɡ', 'ɹ', 'ɑ', 'm', '|', 't', '͡', 'ʃ', 'o', 'ʊ', 'h', 'æ', 'n', 'ʌ', '|', 'd', 'ɪ', 's', 'a', 'ɪ', 'd', 'ɪ', 'd', '|', 't', 'u', '|', 's', 'ɛ', 'l', '|', 'h', 'ɚ', '|', 'ɛ', 'k', 's', 'p', 'l', 'ɔ', 'ɪ', 't', '|', 'ɔ', 'n', '|', 'ð', 'ʌ', '|', 'b', 'l', 'æ', 'k', '|', 'm', 'ɑ', 'ɹ', 'k', 'ɛ', 't']\n"
     ]
    }
   ],
   "source": [
    "print(dataset['train']['text'][1])\n",
    "print(dataset['train']['phonemes'][1])\n",
    "print(dataset['train']['phonetic_codes'][1])"
   ]
  },
  {
   "cell_type": "code",
   "execution_count": 10,
   "metadata": {
    "colab": {
     "base_uri": "https://localhost:8080/"
    },
    "id": "bMUs86-lxXBw",
    "outputId": "3f0658bd-0ec0-40ec-e377-1f4f4e542736"
   },
   "outputs": [
    {
     "data": {
      "application/vnd.jupyter.widget-view+json": {
       "model_id": "d708949668544264bc5e983909ce1d22",
       "version_major": 2,
       "version_minor": 0
      },
      "text/plain": [
       "Map:   0%|          | 0/12089 [00:00<?, ? examples/s]"
      ]
     },
     "metadata": {},
     "output_type": "display_data"
    },
    {
     "data": {
      "application/vnd.jupyter.widget-view+json": {
       "model_id": "98792ffa9c6448da9153bcc1cac46142",
       "version_major": 2,
       "version_minor": 0
      },
      "text/plain": [
       "Map:   0%|          | 0/3023 [00:00<?, ? examples/s]"
      ]
     },
     "metadata": {},
     "output_type": "display_data"
    },
    {
     "name": "stdout",
     "output_type": "stream",
     "text": [
      "Due to the lack of a bug bounty program, Johanna decided to sell her exploit on the black market.\n",
      "['d', 'j', 'u', '|', 't', 'u', '|', 'd', 'ʌ', '|', 'l', 'æ', 'k', '|', 'ɔ', 'f', '|', 'ʌ', '|', 'b', 'ʌ', 'ɡ', '|', 'b', 'a', 'ʊ', 'n', '|', 'd', 'i', '|', 'p', 'ɹ', 'o', 'ʊ', 'ɡ', 'ɹ', 'ɑ', 'm', '|', 't', '͡', 'ʃ', 'o', 'ʊ', 'h', 'æ', 'n', 'ʌ', '|', 'd', 'ɪ', 's', 'a', 'ɪ', 'd', 'ɪ', 'd', '|', 't', 'u', '|', 's', 'ɛ', 'l', '|', 'h', 'ɚ', '|', 'ɛ', 'k', 's', 'p', 'l', 'ɔ', 'ɪ', 't', '|', 'ɔ', 'n', '|', 'ð', 'ʌ', '|', 'b', 'l', 'æ', 'k', '|', 'm', 'ɑ', 'ɹ', 'k', 'ɛ', 't']\n",
      "dju|tu|dʌ|læk|ɔf|ʌ|bʌɡ|baʊn|di|pɹoʊɡɹɑm|t͡ʃoʊhænʌ|dɪsaɪdɪd|tu|sɛl|hɚ|ɛksplɔɪt|ɔn|ðʌ|blæk|mɑɹkɛt\n"
     ]
    }
   ],
   "source": [
    "def convert_to_ipa(x):\n",
    "    # x['ipa'] = ' '.join([arphabet_to_ipa[code] for code in x['phonetic_codes']])\n",
    "    x['ipa'] = ''.join([x for x in x['phonetic_codes']])\n",
    "    return x\n",
    "\n",
    "dataset = dataset.map(convert_to_ipa)\n",
    "\n",
    "print(dataset['train']['text'][1])\n",
    "print(dataset['train']['phonetic_codes'][1])\n",
    "print(dataset['train']['ipa'][1])"
   ]
  },
  {
   "cell_type": "code",
   "execution_count": 11,
   "metadata": {},
   "outputs": [
    {
     "data": {
      "text/plain": [
       "DatasetDict({\n",
       "    train: Dataset({\n",
       "        features: ['file', 'audio', 'text', 'phonemes', 'id', 'phonetic_codes', 'ipa'],\n",
       "        num_rows: 12089\n",
       "    })\n",
       "    test: Dataset({\n",
       "        features: ['file', 'audio', 'text', 'phonemes', 'id', 'phonetic_codes', 'ipa'],\n",
       "        num_rows: 3023\n",
       "    })\n",
       "})"
      ]
     },
     "execution_count": 11,
     "metadata": {},
     "output_type": "execute_result"
    }
   ],
   "source": [
    "dataset"
   ]
  },
  {
   "cell_type": "code",
   "execution_count": 12,
   "metadata": {},
   "outputs": [
    {
     "data": {
      "text/plain": [
       "DatasetDict({\n",
       "    train: Dataset({\n",
       "        features: ['file', 'audio', 'text', 'phonetic_codes', 'ipa'],\n",
       "        num_rows: 12089\n",
       "    })\n",
       "    test: Dataset({\n",
       "        features: ['file', 'audio', 'text', 'phonetic_codes', 'ipa'],\n",
       "        num_rows: 3023\n",
       "    })\n",
       "})"
      ]
     },
     "execution_count": 12,
     "metadata": {},
     "output_type": "execute_result"
    }
   ],
   "source": [
    "# оставить file audio text phonetic_codes ipa\n",
    "dataset = dataset.remove_columns(['phonemes', 'id'])\n",
    "\n",
    "dataset"
   ]
  },
  {
   "cell_type": "code",
   "execution_count": 13,
   "metadata": {},
   "outputs": [
    {
     "data": {
      "text/html": [
       "<table border=\"1\" class=\"dataframe\">\n",
       "  <thead>\n",
       "    <tr style=\"text-align: right;\">\n",
       "      <th></th>\n",
       "      <th>audio</th>\n",
       "      <th>text</th>\n",
       "      <th>phonetic_codes</th>\n",
       "      <th>ipa</th>\n",
       "    </tr>\n",
       "  </thead>\n",
       "  <tbody>\n",
       "    <tr>\n",
       "      <th>0</th>\n",
       "      <td>{'array': [0.00048828125, -0.00018310546875, 0.0, -3.0517578125e-05, -3.0517578125e-05, 3.0517578125e-05, 6.103515625e-05, 0.0, 3.0517578125e-05, 9.1552734375e-05, 3.0517578125e-05, -3.0517578125e-05, 0.0, 0.0, 3.0517578125e-05, 9.1552734375e-05, 0.0, 3.0517578125e-05, 6.103515625e-05, -3.0517578125e-05, 3.0517578125e-05, 6.103515625e-05, 0.0, 0.0, 0.0, 9.1552734375e-05, 3.0517578125e-05, 3.0517578125e-05, 0.0001220703125, 0.0, 3.0517578125e-05, 0.0001220703125, -3.0517578125e-05, -6.103515625e-05, 0.0, -3.0517578125e-05, 0.0, 0.0, 0.0, -3.0517578125e-05, 6.103515625e-05, 3.0517578125e-05, 3.0517578125e-05, 3.0517578125e-05, 0.0, 9.1552734375e-05, 0.0, 3.0517578125e-05, 0.0, 3.0517578125e-05, -6.103515625e-05, -3.0517578125e-05, -3.0517578125e-05, 9.1552734375e-05, 3.0517578125e-05, -3.0517578125e-05, 9.1552734375e-05, -3.0517578125e-05, 6.103515625e-05, 3.0517578125e-05, 9.1552734375e-05, -3.0517578125e-05, 6.103515625e-05, 3.0517578125e-05, 0.0, 6.103515625e-05, 0.0, 0.0, 0.0, 9.1552734375e-05, 9.1552734375e-05, 6.103515625e-05, -6.103515625e-05, 0.0, 0.0, 0.0, -6.103515625e-05, -3.0517578125e-05, 0.0, 3.0517578125e-05, -3.0517578125e-05, 0.0, 9.1552734375e-05, 0.0, -3.0517578125e-05, 0.0, 0.0, -6.103515625e-05, -3.0517578125e-05, -3.0517578125e-05, -3.0517578125e-05, -6.103515625e-05, 0.0, -6.103515625e-05, 3.0517578125e-05, -3.0517578125e-05, 3.0517578125e-05, -3.0517578125e-05, 0.0, 0.0, ...], 'path': '/home/morph/Desktop/FINAL/processed_dataset/3493.wav', 'sampling_rate': 16000}</td>\n",
       "      <td>A connoisseur will enjoy this shellfish dish.</td>\n",
       "      <td>[ə, |, k, ɑ, n, ə, s, ɚ, |, w, ə, l, |, ɪ, n, d, ͡, ʒ, ɔ, ɪ, |, ð, ɪ, s, |, ʃ, ɛ, l, f, ɪ, ʃ, |, d, ɪ, ʃ]</td>\n",
       "      <td>ə|kɑnəsɚ|wəl|ɪnd͡ʒɔɪ|ðɪs|ʃɛlfɪʃ|dɪʃ</td>\n",
       "    </tr>\n",
       "    <tr>\n",
       "      <th>1</th>\n",
       "      <td>{'array': [0.01788330078125, 0.0179443359375, 0.0184326171875, 0.017822265625, 0.017852783203125, 0.01776123046875, 0.017303466796875, 0.01751708984375, 0.016815185546875, 0.01666259765625, 0.016265869140625, 0.016082763671875, 0.0159912109375, 0.0159912109375, 0.01531982421875, 0.01458740234375, 0.01416015625, 0.013702392578125, 0.013397216796875, 0.012176513671875, 0.0111083984375, 0.0101318359375, 0.00860595703125, 0.00787353515625, 0.007843017578125, 0.006103515625, 0.00518798828125, 0.004852294921875, 0.004547119140625, 0.0025634765625, 0.0018310546875, 0.000762939453125, -0.0001220703125, -0.00079345703125, -0.00054931640625, -0.000518798828125, -0.000701904296875, -0.000244140625, -3.0517578125e-05, -0.000244140625, -6.103515625e-05, 0.001373291015625, 0.00146484375, 0.001068115234375, 0.000640869140625, 0.000244140625, 0.00018310546875, -0.00115966796875, -0.001312255859375, -0.001007080078125, -0.001251220703125, -0.0013427734375, -0.001434326171875, -0.00238037109375, -0.002655029296875, -0.00274658203125, -0.0030517578125, -0.003326416015625, -0.00439453125, -0.00469970703125, -0.004669189453125, -0.005706787109375, -0.00543212890625, -0.00634765625, -0.0062255859375, -0.00677490234375, -0.00823974609375, -0.008575439453125, -0.009796142578125, -0.00994873046875, -0.010467529296875, -0.0108642578125, -0.010498046875, -0.010284423828125, -0.010772705078125, -0.010650634765625, -0.01080322265625, -0.010772705078125, -0.011505126953125, -0.01129150390625, -0.01104736328125, -0.011627197265625, -0.012420654296875, -0.01263427734375, -0.012359619140625, -0.0135498046875, -0.01446533203125, -0.01495361328125, -0.01666259765625, -0.017333984375, -0.017852783203125, -0.018402099609375, -0.0189208984375, -0.019012451171875, -0.0191650390625, -0.019134521484375, -0.01922607421875, -0.019256591796875, -0.019317626953125, -0.019073486328125, ...], 'path': '/home/morph/Desktop/FINAL/processed_dataset/9025.wav', 'sampling_rate': 16000}</td>\n",
       "      <td>He waded into the edge of the water and began scrubbing himself</td>\n",
       "      <td>[h, i, |, w, e, ɪ, d, ɪ, d, |, ɪ, n, t, u, |, ð, ʌ, |, ɛ, d, ͡, ʒ, |, ʌ, v, |, ð, ʌ, |, w, ɔ, t, ɚ, |, ʌ, n, d, |, b, ɪ, ɡ, æ, n, |, s, k, ɹ, ʌ, b, ɪ, ŋ, |, h, ɪ, m, s, ɛ, l, f]</td>\n",
       "      <td>hi|weɪdɪd|ɪntu|ðʌ|ɛd͡ʒ|ʌv|ðʌ|wɔtɚ|ʌnd|bɪɡæn|skɹʌbɪŋ|hɪmsɛlf</td>\n",
       "    </tr>\n",
       "  </tbody>\n",
       "</table>"
      ],
      "text/plain": [
       "<IPython.core.display.HTML object>"
      ]
     },
     "metadata": {},
     "output_type": "display_data"
    }
   ],
   "source": [
    "show_random_elements(dataset[\"test\"].remove_columns([\"file\"]), num_examples=2)"
   ]
  },
  {
   "cell_type": "code",
   "execution_count": 14,
   "metadata": {
    "id": "svKzVJ_hQGK6"
   },
   "outputs": [],
   "source": [
    "chars_to_ignore_regex = '[\\,\\?\\.\\!\\-\\;\\:\\\"\\“\\%\\‘\\”\\�]'\n",
    "\n",
    "def remove_special_characters(batch):\n",
    "    # batch[\"ipa\"] = re.sub(chars_to_ignore_regex, '', batch[\"ipa\"]).lower() + \" \"\n",
    "    batch[\"ipa\"] = re.sub(chars_to_ignore_regex, '', batch[\"ipa\"]) + \" \"\n",
    "    return batch"
   ]
  },
  {
   "cell_type": "code",
   "execution_count": 15,
   "metadata": {},
   "outputs": [
    {
     "data": {
      "application/vnd.jupyter.widget-view+json": {
       "model_id": "2ff2825037594040bc83a7eaccc24704",
       "version_major": 2,
       "version_minor": 0
      },
      "text/plain": [
       "Map:   0%|          | 0/12089 [00:00<?, ? examples/s]"
      ]
     },
     "metadata": {},
     "output_type": "display_data"
    },
    {
     "data": {
      "application/vnd.jupyter.widget-view+json": {
       "model_id": "5e4236c5cc0b4a3d8e4823ee9fe0a5d7",
       "version_major": 2,
       "version_minor": 0
      },
      "text/plain": [
       "Map:   0%|          | 0/3023 [00:00<?, ? examples/s]"
      ]
     },
     "metadata": {},
     "output_type": "display_data"
    }
   ],
   "source": [
    "dataset = dataset.map(remove_special_characters)"
   ]
  },
  {
   "cell_type": "code",
   "execution_count": 16,
   "metadata": {},
   "outputs": [
    {
     "data": {
      "text/html": [
       "<table border=\"1\" class=\"dataframe\">\n",
       "  <thead>\n",
       "    <tr style=\"text-align: right;\">\n",
       "      <th></th>\n",
       "      <th>audio</th>\n",
       "      <th>text</th>\n",
       "      <th>phonetic_codes</th>\n",
       "      <th>ipa</th>\n",
       "    </tr>\n",
       "  </thead>\n",
       "  <tbody>\n",
       "    <tr>\n",
       "      <th>0</th>\n",
       "      <td>{'array': [-0.0001220703125, -3.0517578125e-05, -3.0517578125e-05, 0.0, 3.0517578125e-05, 3.0517578125e-05, 0.000152587890625, 0.000244140625, 0.000274658203125, 0.000274658203125, 0.000274658203125, 0.000274658203125, 0.000274658203125, 0.000152587890625, 9.1552734375e-05, 3.0517578125e-05, 3.0517578125e-05, -3.0517578125e-05, 0.0, -0.0001220703125, 6.103515625e-05, 3.0517578125e-05, 0.00018310546875, 0.00018310546875, 0.0001220703125, 0.000244140625, 9.1552734375e-05, -3.0517578125e-05, -0.00018310546875, -3.0517578125e-05, 6.103515625e-05, -3.0517578125e-05, -9.1552734375e-05, -6.103515625e-05, 0.0, 0.0, 6.103515625e-05, 3.0517578125e-05, -3.0517578125e-05, -3.0517578125e-05, -0.000213623046875, -9.1552734375e-05, 6.103515625e-05, 3.0517578125e-05, 0.000274658203125, 0.000244140625, 0.00018310546875, 0.00030517578125, 0.0001220703125, 6.103515625e-05, -6.103515625e-05, 3.0517578125e-05, 6.103515625e-05, 0.000152587890625, 9.1552734375e-05, -6.103515625e-05, -6.103515625e-05, 3.0517578125e-05, -0.0001220703125, -0.00018310546875, -0.000213623046875, -3.0517578125e-05, 9.1552734375e-05, 6.103515625e-05, 9.1552734375e-05, 0.0, -0.0001220703125, -0.0001220703125, -9.1552734375e-05, -0.00018310546875, -6.103515625e-05, 3.0517578125e-05, 3.0517578125e-05, 9.1552734375e-05, 0.000213623046875, 0.000274658203125, 0.000213623046875, 0.000213623046875, 0.00018310546875, 0.00030517578125, 0.000274658203125, 0.000274658203125, 0.000274658203125, 0.000274658203125, 0.000274658203125, 0.000213623046875, 3.0517578125e-05, 3.0517578125e-05, -9.1552734375e-05, -9.1552734375e-05, -6.103515625e-05, -3.0517578125e-05, -9.1552734375e-05, -0.0001220703125, 3.0517578125e-05, 6.103515625e-05, 9.1552734375e-05, 0.000244140625, 0.000244140625, 0.000152587890625, ...], 'path': '/home/morph/Desktop/FINAL/processed_dataset/816.wav', 'sampling_rate': 16000}</td>\n",
       "      <td>They seem darned proud of it.</td>\n",
       "      <td>[ð, ɪ, |, s, i, m, |, d, ɑ, ɹ, m, |, p, ɹ, a, ʊ, t, |, ʌ, v, |, ɪ]</td>\n",
       "      <td>ðɪ|sim|dɑɹm|pɹaʊt|ʌv|ɪ</td>\n",
       "    </tr>\n",
       "    <tr>\n",
       "      <th>1</th>\n",
       "      <td>{'array': [6.103515625e-05, 9.1552734375e-05, 3.0517578125e-05, 3.0517578125e-05, 0.0, 6.103515625e-05, -3.0517578125e-05, -3.0517578125e-05, 3.0517578125e-05, 0.0, 0.0, 3.0517578125e-05, -9.1552734375e-05, 6.103515625e-05, 0.0, -3.0517578125e-05, -3.0517578125e-05, 0.0001220703125, -3.0517578125e-05, -3.0517578125e-05, 3.0517578125e-05, -0.000152587890625, 6.103515625e-05, 6.103515625e-05, 0.0, -3.0517578125e-05, 3.0517578125e-05, 0.0, -9.1552734375e-05, -3.0517578125e-05, -3.0517578125e-05, 0.0, 3.0517578125e-05, -0.0001220703125, -3.0517578125e-05, -3.0517578125e-05, 0.0, 3.0517578125e-05, 0.0, 0.0, -3.0517578125e-05, -3.0517578125e-05, 3.0517578125e-05, 0.0, 3.0517578125e-05, -3.0517578125e-05, -6.103515625e-05, -3.0517578125e-05, -3.0517578125e-05, 0.0, -3.0517578125e-05, 0.0, 3.0517578125e-05, 0.0, 0.0, 0.0, -6.103515625e-05, 9.1552734375e-05, -3.0517578125e-05, 0.0, 3.0517578125e-05, -3.0517578125e-05, -9.1552734375e-05, -3.0517578125e-05, -3.0517578125e-05, -6.103515625e-05, -3.0517578125e-05, 0.0, 0.0, 0.0, 0.00018310546875, 0.0, 0.0, 6.103515625e-05, -3.0517578125e-05, 9.1552734375e-05, 3.0517578125e-05, 6.103515625e-05, -3.0517578125e-05, -9.1552734375e-05, 0.0, 0.0, 0.0, -6.103515625e-05, -3.0517578125e-05, -3.0517578125e-05, -6.103515625e-05, 3.0517578125e-05, -3.0517578125e-05, -6.103515625e-05, 0.000244140625, 0.0, 0.0, -3.0517578125e-05, 0.0, 0.0, 0.0, -3.0517578125e-05, 0.0, 0.0, ...], 'path': '/home/morph/Desktop/FINAL/processed_dataset/10795.wav', 'sampling_rate': 16000}</td>\n",
       "      <td>I I beg pardon he drawled</td>\n",
       "      <td>[a, ɪ, |, a, ɪ, |, b, ɛ, ɡ, |, p, ɑ, ɹ, d, ʌ, n, |, h, i, |, d, ɹ, ɔ, l, d]</td>\n",
       "      <td>aɪ|aɪ|bɛɡ|pɑɹdʌn|hi|dɹɔld</td>\n",
       "    </tr>\n",
       "  </tbody>\n",
       "</table>"
      ],
      "text/plain": [
       "<IPython.core.display.HTML object>"
      ]
     },
     "metadata": {},
     "output_type": "display_data"
    }
   ],
   "source": [
    "show_random_elements(dataset[\"test\"].remove_columns([\"file\"]), num_examples=2)"
   ]
  },
  {
   "cell_type": "markdown",
   "metadata": {},
   "source": [
    "## Vocabulary"
   ]
  },
  {
   "cell_type": "code",
   "execution_count": 17,
   "metadata": {
    "id": "LwCshNbbeRZR"
   },
   "outputs": [],
   "source": [
    "def extract_all_chars(batch):\n",
    "  all_text = \" \".join(batch[\"ipa\"])\n",
    "  vocab = list(dict.fromkeys(all_text))\n",
    "  return {\"vocab\": [vocab], \"all_text\": [all_text]}"
   ]
  },
  {
   "cell_type": "code",
   "execution_count": 18,
   "metadata": {},
   "outputs": [
    {
     "data": {
      "application/vnd.jupyter.widget-view+json": {
       "model_id": "455abe95ff6442cbb049cde8912e2d91",
       "version_major": 2,
       "version_minor": 0
      },
      "text/plain": [
       "Map:   0%|          | 0/12089 [00:00<?, ? examples/s]"
      ]
     },
     "metadata": {},
     "output_type": "display_data"
    },
    {
     "data": {
      "application/vnd.jupyter.widget-view+json": {
       "model_id": "b7b4a28f105f4c9d8989867e9b23d07c",
       "version_major": 2,
       "version_minor": 0
      },
      "text/plain": [
       "Map:   0%|          | 0/3023 [00:00<?, ? examples/s]"
      ]
     },
     "metadata": {},
     "output_type": "display_data"
    }
   ],
   "source": [
    "vocabs = dataset.map(extract_all_chars, batched=True, batch_size=-1, keep_in_memory=True, remove_columns=dataset.column_names[\"train\"])"
   ]
  },
  {
   "cell_type": "code",
   "execution_count": 19,
   "metadata": {
    "id": "aQfneNsmlJI0"
   },
   "outputs": [],
   "source": [
    "vocab_list = list(\n",
    "    dict.fromkeys(set(vocabs[\"train\"][\"vocab\"][0]) | set(vocabs[\"test\"][\"vocab\"][0]))\n",
    "    )"
   ]
  },
  {
   "cell_type": "code",
   "execution_count": 20,
   "metadata": {},
   "outputs": [
    {
     "data": {
      "text/plain": [
       "dict_items([('z', 0), ('ð', 1), ('i', 2), ('n', 3), ('k', 4), ('ɡ', 5), ('ɛ', 6), ('ʌ', 7), ('|', 8), ('d', 9), ('a', 10), ('ʊ', 11), ('͡', 12), ('s', 13), ('ŋ', 14), ('m', 15), ('t', 16), ('w', 17), ('ɑ', 18), ('j', 19), ('θ', 20), ('e', 21), ('ɔ', 22), ('v', 23), ('o', 24), ('æ', 25), ('ɪ', 26), ('f', 27), ('l', 28), ('ə', 29), ('ʃ', 30), ('ʒ', 31), ('ɚ', 32), ('p', 33), ('b', 34), ('u', 35), (' ', 36), ('h', 37), ('ɹ', 38)])"
      ]
     },
     "execution_count": 20,
     "metadata": {},
     "output_type": "execute_result"
    }
   ],
   "source": [
    "vocab_dict = {v: k for k, v in enumerate(vocab_list)}\n",
    "vocab_dict.items()"
   ]
  },
  {
   "cell_type": "code",
   "execution_count": 21,
   "metadata": {
    "id": "npbIbBoLgaFX"
   },
   "outputs": [],
   "source": [
    "vocab_dict[\"|\"] = vocab_dict[\" \"]\n",
    "del vocab_dict[\" \"]"
   ]
  },
  {
   "cell_type": "code",
   "execution_count": 22,
   "metadata": {},
   "outputs": [
    {
     "data": {
      "text/plain": [
       "dict_items([('z', 0), ('ð', 1), ('i', 2), ('n', 3), ('k', 4), ('ɡ', 5), ('ɛ', 6), ('ʌ', 7), ('|', 36), ('d', 9), ('a', 10), ('ʊ', 11), ('͡', 12), ('s', 13), ('ŋ', 14), ('m', 15), ('t', 16), ('w', 17), ('ɑ', 18), ('j', 19), ('θ', 20), ('e', 21), ('ɔ', 22), ('v', 23), ('o', 24), ('æ', 25), ('ɪ', 26), ('f', 27), ('l', 28), ('ə', 29), ('ʃ', 30), ('ʒ', 31), ('ɚ', 32), ('p', 33), ('b', 34), ('u', 35), ('h', 37), ('ɹ', 38)])"
      ]
     },
     "execution_count": 22,
     "metadata": {},
     "output_type": "execute_result"
    }
   ],
   "source": [
    "vocab_dict.items()"
   ]
  },
  {
   "cell_type": "code",
   "execution_count": 23,
   "metadata": {},
   "outputs": [
    {
     "data": {
      "text/plain": [
       "38"
      ]
     },
     "execution_count": 23,
     "metadata": {},
     "output_type": "execute_result"
    }
   ],
   "source": [
    "len(vocab_dict)"
   ]
  },
  {
   "cell_type": "code",
   "execution_count": 24,
   "metadata": {
    "colab": {
     "base_uri": "https://localhost:8080/"
    },
    "id": "znF0bNunsjbl",
    "outputId": "15af3609-b910-4b0b-e1a9-9c15b2e3b074"
   },
   "outputs": [
    {
     "data": {
      "text/plain": [
       "40"
      ]
     },
     "execution_count": 24,
     "metadata": {},
     "output_type": "execute_result"
    }
   ],
   "source": [
    "# NOTE: in this case it fixed itself, because the 38th symbol was \"|\", which we replace by the position of \" \", \n",
    "# but in other cases, it's better to add +1 to the position of [UNK] and [PAD] symbols\n",
    "vocab_dict[\"[UNK]\"] = len(vocab_dict)+1\n",
    "vocab_dict[\"[PAD]\"] = len(vocab_dict)+1\n",
    "len(vocab_dict)"
   ]
  },
  {
   "cell_type": "code",
   "execution_count": 25,
   "metadata": {},
   "outputs": [],
   "source": [
    "# del vocab_dict[\"[PAD]\"]\n",
    "# del vocab_dict[\"[UNK]\"]"
   ]
  },
  {
   "cell_type": "code",
   "execution_count": 26,
   "metadata": {},
   "outputs": [
    {
     "data": {
      "text/plain": [
       "dict_items([('z', 0), ('ð', 1), ('i', 2), ('n', 3), ('k', 4), ('ɡ', 5), ('ɛ', 6), ('ʌ', 7), ('|', 36), ('d', 9), ('a', 10), ('ʊ', 11), ('͡', 12), ('s', 13), ('ŋ', 14), ('m', 15), ('t', 16), ('w', 17), ('ɑ', 18), ('j', 19), ('θ', 20), ('e', 21), ('ɔ', 22), ('v', 23), ('o', 24), ('æ', 25), ('ɪ', 26), ('f', 27), ('l', 28), ('ə', 29), ('ʃ', 30), ('ʒ', 31), ('ɚ', 32), ('p', 33), ('b', 34), ('u', 35), ('h', 37), ('ɹ', 38), ('[UNK]', 39), ('[PAD]', 40)])"
      ]
     },
     "execution_count": 26,
     "metadata": {},
     "output_type": "execute_result"
    }
   ],
   "source": [
    "vocab_dict.items()"
   ]
  },
  {
   "cell_type": "markdown",
   "metadata": {},
   "source": [
    "Если вы перезапускаете ноутбук без обучения, то создайте копию вокаба, далее, при создании Processor, обращайтесь к копии"
   ]
  },
  {
   "cell_type": "code",
   "execution_count": 27,
   "metadata": {
    "id": "ehyUoh9vk191"
   },
   "outputs": [],
   "source": [
    "with open('/home/morph/Desktop/FINAL/ivanov182/vocab.json', 'w') as vocab_file:\n",
    "    json.dump(vocab_dict, vocab_file)"
   ]
  },
  {
   "cell_type": "markdown",
   "metadata": {},
   "source": [
    "## Tokenizer! and Feature Extractor"
   ]
  },
  {
   "cell_type": "markdown",
   "metadata": {
    "id": "SHJDaKlIVVim"
   },
   "source": [
    "In a final step, we use the json file to instantiate an object of the `Wav2Vec2CTCTokenizer` class."
   ]
  },
  {
   "cell_type": "code",
   "execution_count": 28,
   "metadata": {
    "id": "xriFGEWQkO4M"
   },
   "outputs": [],
   "source": [
    "#from transformers import Wav2Vec2CTCTokenizer\n",
    "\n",
    "tokenizer = Wav2Vec2CTCTokenizer(\"./vocab_checkpoint.json\", unk_token=\"[UNK]\", pad_token=\"[PAD]\", word_delimiter_token=\"|\")"
   ]
  },
  {
   "cell_type": "markdown",
   "metadata": {
    "id": "KvL12DrNV4cx"
   },
   "source": [
    "Next, we will create the feature extractor."
   ]
  },
  {
   "cell_type": "markdown",
   "metadata": {
    "id": "KuUbPW7oV-B5"
   },
   "source": [
    "A Wav2Vec2 feature extractor object requires the following parameters to be instantiated:\n",
    "\n",
    "- `feature_size`: Speech models take a sequence of feature vectors as an input. While the length of this sequence obviously varies, the feature size should not. In the case of Wav2Vec2, the feature size is 1 because the model was trained on the raw speech signal ${}^2$.\n",
    "- `sampling_rate`: The sampling rate at which the model is trained on.\n",
    "- `padding_value`: For batched inference, shorter inputs need to be padded with a specific value\n",
    "- `do_normalize`: Whether the input should be *zero-mean-unit-variance* normalized or not. Usually, speech models perform better when normalizing the input\n",
    "- `return_attention_mask`: Whether the model should make use of an `attention_mask` for batched inference. In general, models should **always** make use of the `attention_mask` to mask padded tokens. However, due to a very specific design choice of `Wav2Vec2`'s \"base\" checkpoint, better results are achieved when using no `attention_mask`. This is **not** recommended for other speech models. For more information, one can take a look at [this](https://github.com/pytorch/fairseq/issues/3227) issue. **Important** If you want to use this notebook to fine-tune [large-lv60](https://huggingface.co/facebook/wav2vec2-large-lv60), this parameter should be set to `True`."
   ]
  },
  {
   "cell_type": "code",
   "execution_count": 29,
   "metadata": {
    "id": "kAR0-2KLkopp"
   },
   "outputs": [],
   "source": [
    "#from transformers import Wav2Vec2FeatureExtractor\n",
    "\n",
    "feature_extractor = Wav2Vec2FeatureExtractor(feature_size=1, sampling_rate=16000, padding_value=0.0, do_normalize=True, return_attention_mask=False)"
   ]
  },
  {
   "cell_type": "code",
   "execution_count": 30,
   "metadata": {
    "id": "KYZtoW-tlZgl"
   },
   "outputs": [],
   "source": [
    "#from transformers import Wav2Vec2Processor\n",
    "\n",
    "processor = Wav2Vec2Processor(feature_extractor=feature_extractor, tokenizer=tokenizer)"
   ]
  },
  {
   "cell_type": "markdown",
   "metadata": {
    "id": "YFmShnl7RE35"
   },
   "source": [
    "## Preprocess данных"
   ]
  },
  {
   "cell_type": "code",
   "execution_count": 31,
   "metadata": {
    "id": "al9Luo4LPpwJ"
   },
   "outputs": [],
   "source": [
    "def speech_file_to_array_fn(batch):\n",
    "    speech_array, sampling_rate = sf.read(batch[\"file\"])\n",
    "    batch[\"speech\"] = speech_array\n",
    "    batch[\"sampling_rate\"] = sampling_rate\n",
    "    batch[\"target_text\"] = batch[\"ipa\"]\n",
    "    return batch"
   ]
  },
  {
   "cell_type": "code",
   "execution_count": 32,
   "metadata": {
    "colab": {
     "base_uri": "https://localhost:8080/"
    },
    "id": "afeicUeWlrRL",
    "outputId": "73576003-227c-4c79-8e72-500dad7446bd"
   },
   "outputs": [
    {
     "data": {
      "application/vnd.jupyter.widget-view+json": {
       "model_id": "08a61f891b8c486981a11201fea3aa26",
       "version_major": 2,
       "version_minor": 0
      },
      "text/plain": [
       "Map:   0%|          | 0/12089 [00:00<?, ? examples/s]"
      ]
     },
     "metadata": {},
     "output_type": "display_data"
    },
    {
     "data": {
      "application/vnd.jupyter.widget-view+json": {
       "model_id": "5d2e755f02824959a225ab3d35fc2e24",
       "version_major": 2,
       "version_minor": 0
      },
      "text/plain": [
       "Map:   0%|          | 0/3023 [00:00<?, ? examples/s]"
      ]
     },
     "metadata": {},
     "output_type": "display_data"
    }
   ],
   "source": [
    "dataset = dataset.map(speech_file_to_array_fn, remove_columns=dataset.column_names[\"train\"],\n",
    "                      # num_proc=4\n",
    "                      )"
   ]
  },
  {
   "cell_type": "code",
   "execution_count": 33,
   "metadata": {
    "colab": {
     "base_uri": "https://localhost:8080/",
     "height": 75
    },
    "id": "dueM6U7Ev0OA",
    "outputId": "5358eb74-8706-4f44-84c1-7d26128f0be7"
   },
   "outputs": [
    {
     "data": {
      "text/html": [
       "\n",
       "                <audio  controls=\"controls\" autoplay=\"autoplay\">\n",
       "                    <source src=\"data:audio/wav;base64,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\" type=\"audio/wav\" />\n",
       "                    Your browser does not support the audio element.\n",
       "                </audio>\n",
       "              "
      ],
      "text/plain": [
       "<IPython.lib.display.Audio object>"
      ]
     },
     "execution_count": 33,
     "metadata": {},
     "output_type": "execute_result"
    }
   ],
   "source": [
    "rand_int = random.randint(0, len(dataset[\"train\"]))\n",
    "ipd.Audio(data=np.asarray(dataset[\"train\"][rand_int][\"speech\"]), autoplay=True, rate=16000)"
   ]
  },
  {
   "cell_type": "code",
   "execution_count": 34,
   "metadata": {
    "colab": {
     "base_uri": "https://localhost:8080/"
    },
    "id": "1Po2g7YPuRTx",
    "outputId": "b200d998-3efa-4f92-80cd-659dcefc99b3"
   },
   "outputs": [
    {
     "name": "stdout",
     "output_type": "stream",
     "text": [
      "Target text: aɪ|hæv|lɔŋ|noʊtɪd|jɔɹ|θɚst|ʌnkwɛnt͡ʃʌbʌl \n",
      "Input array shape: (73600,)\n",
      "Sampling rate: 16000\n"
     ]
    },
    {
     "data": {
      "text/html": [
       "\n",
       "                <audio  controls=\"controls\" autoplay=\"autoplay\">\n",
       "                    <source src=\"data:audio/wav;base64,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\" type=\"audio/wav\" />\n",
       "                    Your browser does not support the audio element.\n",
       "                </audio>\n",
       "              "
      ],
      "text/plain": [
       "<IPython.lib.display.Audio object>"
      ]
     },
     "execution_count": 34,
     "metadata": {},
     "output_type": "execute_result"
    }
   ],
   "source": [
    "rand_int = random.randint(0, len(dataset[\"train\"]))\n",
    "\n",
    "print(\"Target text:\", dataset[\"train\"][rand_int][\"target_text\"])\n",
    "print(\"Input array shape:\", np.asarray(dataset[\"train\"][rand_int][\"speech\"]).shape)\n",
    "print(\"Sampling rate:\", dataset[\"train\"][rand_int][\"sampling_rate\"])\n",
    "\n",
    "ipd.Audio(data=np.asarray(dataset[\"train\"][rand_int][\"speech\"]), autoplay=True, rate=16000)"
   ]
  },
  {
   "cell_type": "code",
   "execution_count": 35,
   "metadata": {
    "id": "eJY7I0XAwe9p"
   },
   "outputs": [],
   "source": [
    "def prepare_dataset(batch):\n",
    "    # check that all files have the correct sampling rate\n",
    "    assert (\n",
    "        len(set(batch[\"sampling_rate\"])) == 1\n",
    "    ), f\"Make sure all inputs have the same sampling rate of {processor.feature_extractor.sampling_rate}.\"\n",
    "\n",
    "    batch[\"input_values\"] = processor(batch[\"speech\"], sampling_rate=batch[\"sampling_rate\"][0]).input_values\n",
    "\n",
    "    with processor.as_target_processor():\n",
    "        batch[\"labels\"] = processor(batch[\"target_text\"]).input_ids\n",
    "    return batch"
   ]
  },
  {
   "cell_type": "code",
   "execution_count": 36,
   "metadata": {
    "colab": {
     "base_uri": "https://localhost:8080/",
     "height": 735,
     "referenced_widgets": [
      "d7b502b349ef4ae7979c392614d7921a",
      "38d1e3d38c69470f9aebf1462c1e77b5",
      "b496b36c85db48b89581550b7bb61c72",
      "99be4740a04b440895462f8c609b8ca2",
      "1cdd25b721b54b618d651a90c6558c4d",
      "b4cefe57ba3048ffbb3f5e14e0893ce7",
      "7f60e35fcec14a6a875fe60499d64866",
      "26b3e153106a40a8bee51a43cc48ed40",
      "45d3c6a41ebe44bd882bfdf483053971",
      "5a25bc22d13248659c80943ece36502a",
      "4a1581d2df774145ac29b38a7c9bb566",
      "907a25248d694d4ea323339e9329463b",
      "8bdc91a879424cae99998259a191e195",
      "4c072429588544c5af48a344f9848937",
      "1eda265ac01447c3bd50b54548478b03",
      "0cd617b4eb2541c09ea02741a6449fd6",
      "26ce1a9132a9438b8a44c52302d85b61",
      "8018b6fa50724d20adac39fb12fa148b",
      "07cf20166d434d95970d1345305cbace",
      "5fdeaefc67a246fb9717778d53285973",
      "b87b31608ad94614ad9fedfcb685bc6e",
      "95620f3f3f204ac4839a6806e168fce3",
      "da098f72ac914e3c843101461c80958f",
      "30356a479da340ad9a17ed8f53c19ee6",
      "9e73f99f1d1b4ecdbfe0f0dc5844955a",
      "fe32247271f74190b10eef2bfcf2e507",
      "e228a9304970445196c9df6fc27716d6",
      "306eb8a6a382423fb144b20f2aa34984",
      "210165189f7d4a128aeb461290266fa0",
      "e8ea82049c2443fdbb0bcf23d3764df9",
      "40c650a488a145a5b6f11c37f993ec6e",
      "029cacd0917745e4805c430f90ca6fb8",
      "6b9edb92d58b43569ccc25249bd0c5fc",
      "4f8874fc37bd44f3ad2072216af11821",
      "98bf606e152845f7af422dfb79e875c3",
      "47f69f01f0d34ee1a237d00d45b3f398",
      "4e521bce60634da6a4c64f9b6d34b4a9",
      "354c4391de0d409f94b11a1cff331484",
      "8c74ee03e07f497088d72b3f55b521c3",
      "42674dc5fcd0452b8128bf1401458f90",
      "d9f69a77108e4a61a96dd4609fe4365c",
      "e6a7354b5e74480d92c3be073d05c6cf",
      "fdeaaa2d47814caca542b6668ea219f1",
      "7f6de27e32554ba0943406b02b9a4b64",
      "e3b3911f8c54445b85fdb72141bebd9b",
      "f978fd9701024c08a2c7d6dfc1b00554",
      "ac0d30e3b3c9419d99b85ca6620d92b3",
      "f4a32346155f4ef590b6d40288e68eb5",
      "b19107d7bb59426d8b8349189672bdce",
      "8ab1e36d6cda412aa9d61d562d37d4b3",
      "e2d6e675b6d24f8496393ec96d150ac7",
      "847526c9c641469e8a7e8aa1d0e05d55",
      "290657585fbd4ab6adcfb9a5b3fbd24d",
      "ca371478247248dd8baa3011a4fbfe47",
      "4037a8dd07484d15a52ad568801ec456",
      "723be6a7ac554c69887a4b814492e7ed",
      "d7080a9c2aa94ff1999c02269a1401d4",
      "7ffb88f51d7b42dc8753697e5caad80d",
      "b89a47dc39734fbdba859277c89e7d55",
      "a83640392e974feda2caf8bf2d8cb295",
      "7ef86d04fdd0489386f585c455f98870",
      "171d534be17d4bc3a361a5d99e345fe7",
      "6d10b5077e844e7385997f45276151a5",
      "b597d2bb04d34fddaca3f32c23b771ac"
     ]
    },
    "id": "-np9xYK-wl8q",
    "outputId": "7106fae8-af56-4561-97a0-b09a575f6cb2"
   },
   "outputs": [
    {
     "data": {
      "application/vnd.jupyter.widget-view+json": {
       "model_id": "316be35a2df543d89f0208e294cea948",
       "version_major": 2,
       "version_minor": 0
      },
      "text/plain": [
       "Map:   0%|          | 0/12089 [00:00<?, ? examples/s]"
      ]
     },
     "metadata": {},
     "output_type": "display_data"
    },
    {
     "name": "stderr",
     "output_type": "stream",
     "text": [
      "/home/morph/.pyenv/versions/3.10.15/lib/python3.10/site-packages/transformers/models/wav2vec2/processing_wav2vec2.py:174: UserWarning: `as_target_processor` is deprecated and will be removed in v5 of Transformers. You can process your labels by using the argument `text` of the regular `__call__` method (either in the same call as your audio inputs, or in a separate call.\n",
      "  warnings.warn(\n"
     ]
    },
    {
     "data": {
      "application/vnd.jupyter.widget-view+json": {
       "model_id": "606221968f4340cb83fdef650e0dba64",
       "version_major": 2,
       "version_minor": 0
      },
      "text/plain": [
       "Map:   0%|          | 0/3023 [00:00<?, ? examples/s]"
      ]
     },
     "metadata": {},
     "output_type": "display_data"
    }
   ],
   "source": [
    "dataset_prepared = dataset.map(prepare_dataset, remove_columns=dataset.column_names[\"train\"], batch_size=8,  batched=True\n",
    "                               #,num_proc=4,\n",
    "                               )"
   ]
  },
  {
   "cell_type": "markdown",
   "metadata": {},
   "source": [
    "## Train Setup"
   ]
  },
  {
   "cell_type": "code",
   "execution_count": 37,
   "metadata": {
    "id": "tborvC9hx88e"
   },
   "outputs": [],
   "source": [
    "@dataclass\n",
    "class DataCollatorCTCWithPadding:\n",
    "    \"\"\"\n",
    "    Data collator that will dynamically pad the inputs received.\n",
    "    Args:\n",
    "        processor (:class:`~transformers.Wav2Vec2Processor`)\n",
    "            The processor used for proccessing the data.\n",
    "        padding (:obj:`bool`, :obj:`str` or :class:`~transformers.tokenization_utils_base.PaddingStrategy`, `optional`, defaults to :obj:`True`):\n",
    "            Select a strategy to pad the returned sequences (according to the model's padding side and padding index)\n",
    "            among:\n",
    "            * :obj:`True` or :obj:`'longest'`: Pad to the longest sequence in the batch (or no padding if only a single\n",
    "              sequence if provided).\n",
    "            * :obj:`'max_length'`: Pad to a maximum length specified with the argument :obj:`max_length` or to the\n",
    "              maximum acceptable input length for the model if that argument is not provided.\n",
    "            * :obj:`False` or :obj:`'do_not_pad'` (default): No padding (i.e., can output a batch with sequences of\n",
    "              different lengths).\n",
    "        max_length (:obj:`int`, `optional`):\n",
    "            Maximum length of the ``input_values`` of the returned list and optionally padding length (see above).\n",
    "        max_length_labels (:obj:`int`, `optional`):\n",
    "            Maximum length of the ``labels`` returned list and optionally padding length (see above).\n",
    "        pad_to_multiple_of (:obj:`int`, `optional`):\n",
    "            If set will pad the sequence to a multiple of the provided value.\n",
    "            This is especially useful to enable the use of Tensor Cores on NVIDIA hardware with compute capability >=\n",
    "            7.5 (Volta).\n",
    "    \"\"\"\n",
    "\n",
    "    processor: Wav2Vec2Processor\n",
    "    padding: Union[bool, str] = True\n",
    "    max_length: Optional[int] = None\n",
    "    max_length_labels: Optional[int] = None\n",
    "    pad_to_multiple_of: Optional[int] = None\n",
    "    pad_to_multiple_of_labels: Optional[int] = None\n",
    "\n",
    "    def __call__(self, features: List[Dict[str, Union[List[int], torch.Tensor]]]) -> Dict[str, torch.Tensor]:\n",
    "        # split inputs and labels since they have to be of different lenghts and need\n",
    "        # different padding methods\n",
    "        input_features = [{\"input_values\": feature[\"input_values\"]} for feature in features]\n",
    "        label_features = [{\"input_ids\": feature[\"labels\"]} for feature in features]\n",
    "\n",
    "        batch = self.processor.pad(\n",
    "            input_features,\n",
    "            padding=self.padding,\n",
    "            max_length=self.max_length,\n",
    "            pad_to_multiple_of=self.pad_to_multiple_of,\n",
    "            return_tensors=\"pt\",\n",
    "        )\n",
    "        with self.processor.as_target_processor():\n",
    "            labels_batch = self.processor.pad(\n",
    "                label_features,\n",
    "                padding=self.padding,\n",
    "                max_length=self.max_length_labels,\n",
    "                pad_to_multiple_of=self.pad_to_multiple_of_labels,\n",
    "                return_tensors=\"pt\",\n",
    "            )\n",
    "\n",
    "        # replace padding with -100 to ignore loss correctly\n",
    "        labels = labels_batch[\"input_ids\"].masked_fill(labels_batch.attention_mask.ne(1), -100)\n",
    "\n",
    "        batch[\"labels\"] = labels\n",
    "\n",
    "        return batch"
   ]
  },
  {
   "cell_type": "code",
   "execution_count": 38,
   "metadata": {
    "id": "lbQf5GuZyQ4_"
   },
   "outputs": [],
   "source": [
    "data_collator = DataCollatorCTCWithPadding(processor=processor, padding=True)"
   ]
  },
  {
   "cell_type": "code",
   "execution_count": 39,
   "metadata": {
    "id": "9Xsux2gmyXso"
   },
   "outputs": [],
   "source": [
    "wer_metric = evaluate.load(\"wer\")\n",
    "cer_metric = evaluate.load(\"cer\")"
   ]
  },
  {
   "cell_type": "code",
   "execution_count": 40,
   "metadata": {},
   "outputs": [
    {
     "name": "stdout",
     "output_type": "stream",
     "text": [
      "0.2\n"
     ]
    }
   ],
   "source": [
    "result = cer_metric.compute(predictions=['hell'],references=['hello'])\n",
    "print(result)"
   ]
  },
  {
   "cell_type": "code",
   "execution_count": 41,
   "metadata": {},
   "outputs": [
    {
     "name": "stdout",
     "output_type": "stream",
     "text": [
      "0.2\n"
     ]
    }
   ],
   "source": [
    "truth = \"hello\"\n",
    "hypothesis = \"hell\"\n",
    "\n",
    "cer_value = cer(truth, hypothesis)\n",
    "\n",
    "print(cer_value)"
   ]
  },
  {
   "cell_type": "code",
   "execution_count": 42,
   "metadata": {},
   "outputs": [],
   "source": [
    "def compute_metrics(pred):\n",
    "\n",
    "    pred_logits = pred.predictions\n",
    "    pred_ids = np.argmax(pred_logits, axis=-1)\n",
    "\n",
    "    pred.label_ids[pred.label_ids == -100] = processor.tokenizer.pad_token_id\n",
    "\n",
    "    pred_str = processor.batch_decode(pred_ids)\n",
    "    # we do not want to group tokens when computing the metrics\n",
    "    label_str = processor.batch_decode(pred.label_ids, group_tokens=False)\n",
    "\n",
    "    cerr = cer(label_str, pred_str)\n",
    "\n",
    "    return {\"cer\": cerr}"
   ]
  },
  {
   "cell_type": "code",
   "execution_count": 43,
   "metadata": {
    "colab": {
     "base_uri": "https://localhost:8080/"
    },
    "id": "e7cqAWIayn6w",
    "outputId": "a21b42f6-7c11-400f-a1d8-27ce282f7dd6"
   },
   "outputs": [
    {
     "name": "stderr",
     "output_type": "stream",
     "text": [
      "Some weights of Wav2Vec2ForCTC were not initialized from the model checkpoint at facebook/wav2vec2-large-xlsr-53 and are newly initialized: ['lm_head.bias', 'lm_head.weight']\n",
      "You should probably TRAIN this model on a down-stream task to be able to use it for predictions and inference.\n"
     ]
    }
   ],
   "source": [
    "model = Wav2Vec2ForCTC.from_pretrained(\n",
    "    \"facebook/wav2vec2-large-xlsr-53\",\n",
    "    attention_dropout=0.1,\n",
    "    hidden_dropout=0.1,\n",
    "    feat_proj_dropout=0.0,\n",
    "    mask_time_prob=0.05,\n",
    "    layerdrop=0.1,\n",
    "    gradient_checkpointing=True,\n",
    "    ctc_loss_reduction=\"mean\",\n",
    "    pad_token_id=processor.tokenizer.pad_token_id,\n",
    "    vocab_size=len(processor.tokenizer)\n",
    ")"
   ]
  },
  {
   "cell_type": "code",
   "execution_count": 44,
   "metadata": {
    "id": "oGI8zObtZ3V0"
   },
   "outputs": [
    {
     "name": "stderr",
     "output_type": "stream",
     "text": [
      "/home/morph/.pyenv/versions/3.10.15/lib/python3.10/site-packages/transformers/models/wav2vec2/modeling_wav2vec2.py:2178: FutureWarning: The method `freeze_feature_extractor` is deprecated and will be removed in Transformers v5. Please use the equivalent `freeze_feature_encoder` method instead.\n",
      "  warnings.warn(\n"
     ]
    }
   ],
   "source": [
    "model.freeze_feature_extractor()"
   ]
  },
  {
   "cell_type": "code",
   "execution_count": 45,
   "metadata": {
    "id": "KbeKSV7uzGPP"
   },
   "outputs": [
    {
     "name": "stderr",
     "output_type": "stream",
     "text": [
      "/home/morph/.pyenv/versions/3.10.15/lib/python3.10/site-packages/transformers/training_args.py:1568: FutureWarning: `evaluation_strategy` is deprecated and will be removed in version 4.46 of 🤗 Transformers. Use `eval_strategy` instead\n",
      "  warnings.warn(\n"
     ]
    }
   ],
   "source": [
    "training_args = TrainingArguments(\n",
    "  output_dir=\"/home/morph/Desktop/FINAL/ivanov182/181224checkpoint\",\n",
    "  group_by_length=True,\n",
    "  #per_device_train_batch_size=16,\n",
    "  per_device_train_batch_size=8,\n",
    "  gradient_accumulation_steps=2,\n",
    "  evaluation_strategy=\"steps\",\n",
    "  num_train_epochs=14, #50\n",
    "  fp16=True,\n",
    "  save_steps=500,\n",
    "  eval_steps=500,\n",
    "  logging_steps=500,\n",
    "  learning_rate=3e-4,\n",
    "  warmup_steps=1000,\n",
    "  save_total_limit=2,\n",
    ")"
   ]
  },
  {
   "cell_type": "code",
   "execution_count": 46,
   "metadata": {
    "id": "rY7vBmFCPFgC"
   },
   "outputs": [
    {
     "name": "stderr",
     "output_type": "stream",
     "text": [
      "/tmp/ipykernel_3189/1723340204.py:1: FutureWarning: `tokenizer` is deprecated and will be removed in version 5.0.0 for `Trainer.__init__`. Use `processing_class` instead.\n",
      "  trainer = Trainer(\n"
     ]
    }
   ],
   "source": [
    "trainer = Trainer(\n",
    "    model=model,\n",
    "    data_collator=data_collator,\n",
    "    args=training_args,\n",
    "    compute_metrics=compute_metrics,\n",
    "    train_dataset=dataset_prepared[\"train\"],\n",
    "    eval_dataset=dataset_prepared[\"test\"],\n",
    "    tokenizer=processor.feature_extractor,\n",
    ")"
   ]
  },
  {
   "cell_type": "markdown",
   "metadata": {
    "id": "rpvZHM1xReIW"
   },
   "source": [
    "## Training"
   ]
  },
  {
   "cell_type": "code",
   "execution_count": 58,
   "metadata": {},
   "outputs": [],
   "source": [
    "os.environ['PYTORCH_CUDA_ALLOC_CONF'] = 'expandable_segments:True'"
   ]
  },
  {
   "cell_type": "code",
   "execution_count": 59,
   "metadata": {
    "colab": {
     "base_uri": "https://localhost:8080/",
     "height": 75
    },
    "id": "_UEjJqGsQw24",
    "outputId": "4348d4cb-6816-4343-b724-49af10ba1771"
   },
   "outputs": [
    {
     "name": "stderr",
     "output_type": "stream",
     "text": [
      "/home/morph/.pyenv/versions/3.10.15/lib/python3.10/site-packages/transformers/models/wav2vec2/processing_wav2vec2.py:174: UserWarning: `as_target_processor` is deprecated and will be removed in v5 of Transformers. You can process your labels by using the argument `text` of the regular `__call__` method (either in the same call as your audio inputs, or in a separate call.\n",
      "  warnings.warn(\n"
     ]
    },
    {
     "data": {
      "text/html": [
       "\n",
       "    <div>\n",
       "      \n",
       "      <progress value='10584' max='10584' style='width:300px; height:20px; vertical-align: middle;'></progress>\n",
       "      [10584/10584 3:38:44, Epoch 14/14]\n",
       "    </div>\n",
       "    <table border=\"1\" class=\"dataframe\">\n",
       "  <thead>\n",
       " <tr style=\"text-align: left;\">\n",
       "      <th>Step</th>\n",
       "      <th>Training Loss</th>\n",
       "      <th>Validation Loss</th>\n",
       "      <th>Cer</th>\n",
       "    </tr>\n",
       "  </thead>\n",
       "  <tbody>\n",
       "    <tr>\n",
       "      <td>500</td>\n",
       "      <td>5.254100</td>\n",
       "      <td>2.240453</td>\n",
       "      <td>0.771866</td>\n",
       "    </tr>\n",
       "    <tr>\n",
       "      <td>1000</td>\n",
       "      <td>0.976100</td>\n",
       "      <td>0.455050</td>\n",
       "      <td>0.152634</td>\n",
       "    </tr>\n",
       "    <tr>\n",
       "      <td>1500</td>\n",
       "      <td>0.631800</td>\n",
       "      <td>0.371019</td>\n",
       "      <td>0.142552</td>\n",
       "    </tr>\n",
       "    <tr>\n",
       "      <td>2000</td>\n",
       "      <td>0.498800</td>\n",
       "      <td>0.332600</td>\n",
       "      <td>0.131276</td>\n",
       "    </tr>\n",
       "    <tr>\n",
       "      <td>2500</td>\n",
       "      <td>0.445700</td>\n",
       "      <td>0.316473</td>\n",
       "      <td>0.124620</td>\n",
       "    </tr>\n",
       "    <tr>\n",
       "      <td>3000</td>\n",
       "      <td>0.400100</td>\n",
       "      <td>0.295670</td>\n",
       "      <td>0.119820</td>\n",
       "    </tr>\n",
       "    <tr>\n",
       "      <td>3500</td>\n",
       "      <td>0.348100</td>\n",
       "      <td>0.280685</td>\n",
       "      <td>0.118479</td>\n",
       "    </tr>\n",
       "    <tr>\n",
       "      <td>4000</td>\n",
       "      <td>0.329900</td>\n",
       "      <td>0.276927</td>\n",
       "      <td>0.115901</td>\n",
       "    </tr>\n",
       "    <tr>\n",
       "      <td>4500</td>\n",
       "      <td>0.302400</td>\n",
       "      <td>0.266599</td>\n",
       "      <td>0.113692</td>\n",
       "    </tr>\n",
       "    <tr>\n",
       "      <td>5000</td>\n",
       "      <td>0.273000</td>\n",
       "      <td>0.251626</td>\n",
       "      <td>0.111350</td>\n",
       "    </tr>\n",
       "    <tr>\n",
       "      <td>5500</td>\n",
       "      <td>0.257300</td>\n",
       "      <td>0.267057</td>\n",
       "      <td>0.112191</td>\n",
       "    </tr>\n",
       "    <tr>\n",
       "      <td>6000</td>\n",
       "      <td>0.237300</td>\n",
       "      <td>0.268394</td>\n",
       "      <td>0.110121</td>\n",
       "    </tr>\n",
       "    <tr>\n",
       "      <td>6500</td>\n",
       "      <td>0.219600</td>\n",
       "      <td>0.264260</td>\n",
       "      <td>0.107300</td>\n",
       "    </tr>\n",
       "    <tr>\n",
       "      <td>7000</td>\n",
       "      <td>0.203300</td>\n",
       "      <td>0.276569</td>\n",
       "      <td>0.107251</td>\n",
       "    </tr>\n",
       "    <tr>\n",
       "      <td>7500</td>\n",
       "      <td>0.195800</td>\n",
       "      <td>0.258087</td>\n",
       "      <td>0.105605</td>\n",
       "    </tr>\n",
       "    <tr>\n",
       "      <td>8000</td>\n",
       "      <td>0.175800</td>\n",
       "      <td>0.267529</td>\n",
       "      <td>0.104722</td>\n",
       "    </tr>\n",
       "    <tr>\n",
       "      <td>8500</td>\n",
       "      <td>0.167100</td>\n",
       "      <td>0.266158</td>\n",
       "      <td>0.104243</td>\n",
       "    </tr>\n",
       "    <tr>\n",
       "      <td>9000</td>\n",
       "      <td>0.158900</td>\n",
       "      <td>0.265052</td>\n",
       "      <td>0.103986</td>\n",
       "    </tr>\n",
       "    <tr>\n",
       "      <td>9500</td>\n",
       "      <td>0.143300</td>\n",
       "      <td>0.270043</td>\n",
       "      <td>0.102450</td>\n",
       "    </tr>\n",
       "    <tr>\n",
       "      <td>10000</td>\n",
       "      <td>0.139400</td>\n",
       "      <td>0.271156</td>\n",
       "      <td>0.102645</td>\n",
       "    </tr>\n",
       "    <tr>\n",
       "      <td>10500</td>\n",
       "      <td>0.131800</td>\n",
       "      <td>0.270142</td>\n",
       "      <td>0.102749</td>\n",
       "    </tr>\n",
       "  </tbody>\n",
       "</table><p>"
      ],
      "text/plain": [
       "<IPython.core.display.HTML object>"
      ]
     },
     "metadata": {},
     "output_type": "display_data"
    },
    {
     "name": "stderr",
     "output_type": "stream",
     "text": [
      "Trainer.tokenizer is now deprecated. You should use Trainer.processing_class instead.\n",
      "Trainer.tokenizer is now deprecated. You should use Trainer.processing_class instead.\n",
      "/home/morph/.pyenv/versions/3.10.15/lib/python3.10/site-packages/transformers/models/wav2vec2/processing_wav2vec2.py:174: UserWarning: `as_target_processor` is deprecated and will be removed in v5 of Transformers. You can process your labels by using the argument `text` of the regular `__call__` method (either in the same call as your audio inputs, or in a separate call.\n",
      "  warnings.warn(\n",
      "Trainer.tokenizer is now deprecated. You should use Trainer.processing_class instead.\n",
      "Trainer.tokenizer is now deprecated. You should use Trainer.processing_class instead.\n",
      "/home/morph/.pyenv/versions/3.10.15/lib/python3.10/site-packages/transformers/models/wav2vec2/processing_wav2vec2.py:174: UserWarning: `as_target_processor` is deprecated and will be removed in v5 of Transformers. You can process your labels by using the argument `text` of the regular `__call__` method (either in the same call as your audio inputs, or in a separate call.\n",
      "  warnings.warn(\n",
      "Trainer.tokenizer is now deprecated. You should use Trainer.processing_class instead.\n",
      "Trainer.tokenizer is now deprecated. You should use Trainer.processing_class instead.\n",
      "/home/morph/.pyenv/versions/3.10.15/lib/python3.10/site-packages/transformers/models/wav2vec2/processing_wav2vec2.py:174: UserWarning: `as_target_processor` is deprecated and will be removed in v5 of Transformers. You can process your labels by using the argument `text` of the regular `__call__` method (either in the same call as your audio inputs, or in a separate call.\n",
      "  warnings.warn(\n",
      "Trainer.tokenizer is now deprecated. You should use Trainer.processing_class instead.\n",
      "Trainer.tokenizer is now deprecated. You should use Trainer.processing_class instead.\n",
      "/home/morph/.pyenv/versions/3.10.15/lib/python3.10/site-packages/transformers/models/wav2vec2/processing_wav2vec2.py:174: UserWarning: `as_target_processor` is deprecated and will be removed in v5 of Transformers. You can process your labels by using the argument `text` of the regular `__call__` method (either in the same call as your audio inputs, or in a separate call.\n",
      "  warnings.warn(\n",
      "Trainer.tokenizer is now deprecated. You should use Trainer.processing_class instead.\n",
      "Trainer.tokenizer is now deprecated. You should use Trainer.processing_class instead.\n",
      "/home/morph/.pyenv/versions/3.10.15/lib/python3.10/site-packages/transformers/models/wav2vec2/processing_wav2vec2.py:174: UserWarning: `as_target_processor` is deprecated and will be removed in v5 of Transformers. You can process your labels by using the argument `text` of the regular `__call__` method (either in the same call as your audio inputs, or in a separate call.\n",
      "  warnings.warn(\n",
      "Trainer.tokenizer is now deprecated. You should use Trainer.processing_class instead.\n",
      "Trainer.tokenizer is now deprecated. You should use Trainer.processing_class instead.\n",
      "/home/morph/.pyenv/versions/3.10.15/lib/python3.10/site-packages/transformers/models/wav2vec2/processing_wav2vec2.py:174: UserWarning: `as_target_processor` is deprecated and will be removed in v5 of Transformers. You can process your labels by using the argument `text` of the regular `__call__` method (either in the same call as your audio inputs, or in a separate call.\n",
      "  warnings.warn(\n",
      "Trainer.tokenizer is now deprecated. You should use Trainer.processing_class instead.\n",
      "Trainer.tokenizer is now deprecated. You should use Trainer.processing_class instead.\n",
      "/home/morph/.pyenv/versions/3.10.15/lib/python3.10/site-packages/transformers/models/wav2vec2/processing_wav2vec2.py:174: UserWarning: `as_target_processor` is deprecated and will be removed in v5 of Transformers. You can process your labels by using the argument `text` of the regular `__call__` method (either in the same call as your audio inputs, or in a separate call.\n",
      "  warnings.warn(\n",
      "Trainer.tokenizer is now deprecated. You should use Trainer.processing_class instead.\n",
      "Trainer.tokenizer is now deprecated. You should use Trainer.processing_class instead.\n",
      "/home/morph/.pyenv/versions/3.10.15/lib/python3.10/site-packages/transformers/models/wav2vec2/processing_wav2vec2.py:174: UserWarning: `as_target_processor` is deprecated and will be removed in v5 of Transformers. You can process your labels by using the argument `text` of the regular `__call__` method (either in the same call as your audio inputs, or in a separate call.\n",
      "  warnings.warn(\n",
      "Trainer.tokenizer is now deprecated. You should use Trainer.processing_class instead.\n",
      "Trainer.tokenizer is now deprecated. You should use Trainer.processing_class instead.\n",
      "/home/morph/.pyenv/versions/3.10.15/lib/python3.10/site-packages/transformers/models/wav2vec2/processing_wav2vec2.py:174: UserWarning: `as_target_processor` is deprecated and will be removed in v5 of Transformers. You can process your labels by using the argument `text` of the regular `__call__` method (either in the same call as your audio inputs, or in a separate call.\n",
      "  warnings.warn(\n",
      "Trainer.tokenizer is now deprecated. You should use Trainer.processing_class instead.\n",
      "Trainer.tokenizer is now deprecated. You should use Trainer.processing_class instead.\n",
      "/home/morph/.pyenv/versions/3.10.15/lib/python3.10/site-packages/transformers/models/wav2vec2/processing_wav2vec2.py:174: UserWarning: `as_target_processor` is deprecated and will be removed in v5 of Transformers. You can process your labels by using the argument `text` of the regular `__call__` method (either in the same call as your audio inputs, or in a separate call.\n",
      "  warnings.warn(\n",
      "Trainer.tokenizer is now deprecated. You should use Trainer.processing_class instead.\n",
      "Trainer.tokenizer is now deprecated. You should use Trainer.processing_class instead.\n",
      "/home/morph/.pyenv/versions/3.10.15/lib/python3.10/site-packages/transformers/models/wav2vec2/processing_wav2vec2.py:174: UserWarning: `as_target_processor` is deprecated and will be removed in v5 of Transformers. You can process your labels by using the argument `text` of the regular `__call__` method (either in the same call as your audio inputs, or in a separate call.\n",
      "  warnings.warn(\n",
      "Trainer.tokenizer is now deprecated. You should use Trainer.processing_class instead.\n",
      "Trainer.tokenizer is now deprecated. You should use Trainer.processing_class instead.\n",
      "/home/morph/.pyenv/versions/3.10.15/lib/python3.10/site-packages/transformers/models/wav2vec2/processing_wav2vec2.py:174: UserWarning: `as_target_processor` is deprecated and will be removed in v5 of Transformers. You can process your labels by using the argument `text` of the regular `__call__` method (either in the same call as your audio inputs, or in a separate call.\n",
      "  warnings.warn(\n",
      "Trainer.tokenizer is now deprecated. You should use Trainer.processing_class instead.\n",
      "Trainer.tokenizer is now deprecated. You should use Trainer.processing_class instead.\n",
      "/home/morph/.pyenv/versions/3.10.15/lib/python3.10/site-packages/transformers/models/wav2vec2/processing_wav2vec2.py:174: UserWarning: `as_target_processor` is deprecated and will be removed in v5 of Transformers. You can process your labels by using the argument `text` of the regular `__call__` method (either in the same call as your audio inputs, or in a separate call.\n",
      "  warnings.warn(\n",
      "Trainer.tokenizer is now deprecated. You should use Trainer.processing_class instead.\n",
      "Trainer.tokenizer is now deprecated. You should use Trainer.processing_class instead.\n",
      "/home/morph/.pyenv/versions/3.10.15/lib/python3.10/site-packages/transformers/models/wav2vec2/processing_wav2vec2.py:174: UserWarning: `as_target_processor` is deprecated and will be removed in v5 of Transformers. You can process your labels by using the argument `text` of the regular `__call__` method (either in the same call as your audio inputs, or in a separate call.\n",
      "  warnings.warn(\n",
      "Trainer.tokenizer is now deprecated. You should use Trainer.processing_class instead.\n",
      "Trainer.tokenizer is now deprecated. You should use Trainer.processing_class instead.\n",
      "/home/morph/.pyenv/versions/3.10.15/lib/python3.10/site-packages/transformers/models/wav2vec2/processing_wav2vec2.py:174: UserWarning: `as_target_processor` is deprecated and will be removed in v5 of Transformers. You can process your labels by using the argument `text` of the regular `__call__` method (either in the same call as your audio inputs, or in a separate call.\n",
      "  warnings.warn(\n",
      "Trainer.tokenizer is now deprecated. You should use Trainer.processing_class instead.\n",
      "Trainer.tokenizer is now deprecated. You should use Trainer.processing_class instead.\n",
      "/home/morph/.pyenv/versions/3.10.15/lib/python3.10/site-packages/transformers/models/wav2vec2/processing_wav2vec2.py:174: UserWarning: `as_target_processor` is deprecated and will be removed in v5 of Transformers. You can process your labels by using the argument `text` of the regular `__call__` method (either in the same call as your audio inputs, or in a separate call.\n",
      "  warnings.warn(\n",
      "Trainer.tokenizer is now deprecated. You should use Trainer.processing_class instead.\n",
      "Trainer.tokenizer is now deprecated. You should use Trainer.processing_class instead.\n",
      "/home/morph/.pyenv/versions/3.10.15/lib/python3.10/site-packages/transformers/models/wav2vec2/processing_wav2vec2.py:174: UserWarning: `as_target_processor` is deprecated and will be removed in v5 of Transformers. You can process your labels by using the argument `text` of the regular `__call__` method (either in the same call as your audio inputs, or in a separate call.\n",
      "  warnings.warn(\n",
      "Trainer.tokenizer is now deprecated. You should use Trainer.processing_class instead.\n",
      "Trainer.tokenizer is now deprecated. You should use Trainer.processing_class instead.\n",
      "/home/morph/.pyenv/versions/3.10.15/lib/python3.10/site-packages/transformers/models/wav2vec2/processing_wav2vec2.py:174: UserWarning: `as_target_processor` is deprecated and will be removed in v5 of Transformers. You can process your labels by using the argument `text` of the regular `__call__` method (either in the same call as your audio inputs, or in a separate call.\n",
      "  warnings.warn(\n",
      "Trainer.tokenizer is now deprecated. You should use Trainer.processing_class instead.\n",
      "Trainer.tokenizer is now deprecated. You should use Trainer.processing_class instead.\n",
      "/home/morph/.pyenv/versions/3.10.15/lib/python3.10/site-packages/transformers/models/wav2vec2/processing_wav2vec2.py:174: UserWarning: `as_target_processor` is deprecated and will be removed in v5 of Transformers. You can process your labels by using the argument `text` of the regular `__call__` method (either in the same call as your audio inputs, or in a separate call.\n",
      "  warnings.warn(\n",
      "Trainer.tokenizer is now deprecated. You should use Trainer.processing_class instead.\n",
      "Trainer.tokenizer is now deprecated. You should use Trainer.processing_class instead.\n",
      "/home/morph/.pyenv/versions/3.10.15/lib/python3.10/site-packages/transformers/models/wav2vec2/processing_wav2vec2.py:174: UserWarning: `as_target_processor` is deprecated and will be removed in v5 of Transformers. You can process your labels by using the argument `text` of the regular `__call__` method (either in the same call as your audio inputs, or in a separate call.\n",
      "  warnings.warn(\n",
      "Trainer.tokenizer is now deprecated. You should use Trainer.processing_class instead.\n",
      "Trainer.tokenizer is now deprecated. You should use Trainer.processing_class instead.\n",
      "/home/morph/.pyenv/versions/3.10.15/lib/python3.10/site-packages/transformers/models/wav2vec2/processing_wav2vec2.py:174: UserWarning: `as_target_processor` is deprecated and will be removed in v5 of Transformers. You can process your labels by using the argument `text` of the regular `__call__` method (either in the same call as your audio inputs, or in a separate call.\n",
      "  warnings.warn(\n"
     ]
    },
    {
     "data": {
      "text/plain": [
       "TrainOutput(global_step=10584, training_loss=0.5439145339769751, metrics={'train_runtime': 13130.1196, 'train_samples_per_second': 12.89, 'train_steps_per_second': 0.806, 'total_flos': 2.0915180948213604e+19, 'train_loss': 0.5439145339769751, 'epoch': 14.0})"
      ]
     },
     "execution_count": 59,
     "metadata": {},
     "output_type": "execute_result"
    }
   ],
   "source": [
    "trainer.train(resume_from_checkpoint=False)"
   ]
  },
  {
   "cell_type": "code",
   "execution_count": 64,
   "metadata": {},
   "outputs": [
    {
     "data": {
      "text/plain": [
       "[]"
      ]
     },
     "execution_count": 64,
     "metadata": {},
     "output_type": "execute_result"
    }
   ],
   "source": [
    "processor.save_pretrained(\"/home/morph/Desktop/FINAL/ivanov182/181224checkpoint\")"
   ]
  },
  {
   "cell_type": "markdown",
   "metadata": {
    "id": "nD4XP5IHncsY"
   },
   "source": [
    "## Evaluate"
   ]
  },
  {
   "cell_type": "code",
   "execution_count": 47,
   "metadata": {
    "id": "ZuQxZFzCANfl"
   },
   "outputs": [],
   "source": [
    "path = \"/home/morph/Desktop/FINAL/ivanov182/181224checkpoint/checkpoint-10584\"\n",
    "finetuned_model = Wav2Vec2ForCTC.from_pretrained(path)\n",
    "processor = Wav2Vec2Processor.from_pretrained(\"/home/morph/Desktop/FINAL/ivanov182/181224checkpoint\")"
   ]
  },
  {
   "cell_type": "code",
   "execution_count": 49,
   "metadata": {
    "id": "40naJl53n7jT"
   },
   "outputs": [],
   "source": [
    "def map_to_result(batch):\n",
    "  finetuned_model.to(\"cuda\")\n",
    "  input_values = processor(\n",
    "      batch[\"speech\"],\n",
    "      sampling_rate=batch[\"sampling_rate\"],\n",
    "      return_tensors=\"pt\"\n",
    "  ).input_values.to(\"cuda\")\n",
    "\n",
    "  with torch.no_grad():\n",
    "    logits = finetuned_model(input_values).logits\n",
    "\n",
    "  pred_ids = torch.argmax(logits, dim=-1)\n",
    "  batch[\"pred_str\"] = processor.batch_decode(pred_ids)[0]\n",
    "\n",
    "  return batch"
   ]
  },
  {
   "cell_type": "code",
   "execution_count": 50,
   "metadata": {
    "colab": {
     "base_uri": "https://localhost:8080/",
     "height": 66,
     "referenced_widgets": [
      "f5217b2c4b3e435db2bf69e2c79d6edd",
      "6ed87e8d02b9490182e8c2d06220002d",
      "3f71950fd58e4a329728ee976fbdf03f",
      "23f8b7eb2d4247648eef85cd7ff151af",
      "23c876a344044645b74825dc8deba3cb",
      "ada673d533d347c19903d3a24b37eec4",
      "56fab205c63a4713983dc5a670d024ab",
      "0aea306b774e4d15a3b5a5d94af89c84"
     ]
    },
    "id": "uPqH7gZqrGPi",
    "outputId": "b9dae72e-05fb-4904-fd60-5a415a8fe232"
   },
   "outputs": [
    {
     "name": "stderr",
     "output_type": "stream",
     "text": [
      "Parameter 'function'=<function map_to_result at 0x73a844f384c0> of the transform datasets.arrow_dataset.Dataset._map_single couldn't be hashed properly, a random hash was used instead. Make sure your transforms and parameters are serializable with pickle or dill for the dataset fingerprinting and caching to work. If you reuse this transform, the caching mechanism will consider it to be different from the previous calls and recompute everything. This warning is only showed once. Subsequent hashing failures won't be showed.\n"
     ]
    },
    {
     "data": {
      "application/vnd.jupyter.widget-view+json": {
       "model_id": "bae75462ec49417ca5ff8cbb2cb25f72",
       "version_major": 2,
       "version_minor": 0
      },
      "text/plain": [
       "Map:   0%|          | 0/3023 [00:00<?, ? examples/s]"
      ]
     },
     "metadata": {},
     "output_type": "display_data"
    }
   ],
   "source": [
    "results = dataset[\"test\"].map(map_to_result)"
   ]
  },
  {
   "cell_type": "code",
   "execution_count": 52,
   "metadata": {},
   "outputs": [
    {
     "data": {
      "application/vnd.jupyter.widget-view+json": {
       "model_id": "9e2e50f5b7cd47dc89f9a90d5d90b4ec",
       "version_major": 2,
       "version_minor": 0
      },
      "text/plain": [
       "Map:   0%|          | 0/3023 [00:00<?, ? examples/s]"
      ]
     },
     "metadata": {},
     "output_type": "display_data"
    }
   ],
   "source": [
    "def process_results(example):\n",
    "    # Удаляем токены [PAD] из pred_str\n",
    "    if isinstance(example['pred_str'], list):\n",
    "        example['pred_str'] = [s.replace('[PAD]', '') if isinstance(s, str) else s for s in example['pred_str']]\n",
    "    elif isinstance(example['pred_str'], str):\n",
    "        example['pred_str'] = example['pred_str'].replace('[PAD]', '')\n",
    "\n",
    "    # Заменяем | на пробел в target_text\n",
    "    if isinstance(example['target_text'], list):\n",
    "        example['target_text'] = [s.replace('|', ' ') if isinstance(s, str) else s for s in example['target_text']]\n",
    "    elif isinstance(example['target_text'], str):\n",
    "        example['target_text'] = example['target_text'].replace('|', ' ')\n",
    "\n",
    "    return example\n",
    "\n",
    "results = results.map(process_results)"
   ]
  },
  {
   "cell_type": "code",
   "execution_count": 53,
   "metadata": {},
   "outputs": [
    {
     "data": {
      "text/plain": [
       "0.07832534321929363"
      ]
     },
     "execution_count": 53,
     "metadata": {},
     "output_type": "execute_result"
    }
   ],
   "source": [
    "truth = \" \".join([\" \".join(target) if isinstance(target, list) else target for target in results[\"target_text\"]])\n",
    "hypothesis = \" \".join([\" \".join(pred) if isinstance(pred, list) else pred for pred in results[\"pred_str\"]])\n",
    "\n",
    "cer(truth, hypothesis)"
   ]
  },
  {
   "cell_type": "code",
   "execution_count": 54,
   "metadata": {},
   "outputs": [
    {
     "data": {
      "text/plain": [
       "0.06134798830011186"
      ]
     },
     "execution_count": 54,
     "metadata": {},
     "output_type": "execute_result"
    }
   ],
   "source": [
    "truth = results[\"target_text\"]\n",
    "hypothesis = results[\"pred_str\"]\n",
    "\n",
    "cer(truth, hypothesis)"
   ]
  },
  {
   "cell_type": "code",
   "execution_count": 55,
   "metadata": {},
   "outputs": [
    {
     "data": {
      "text/plain": [
       "('ɪts eɪ jæŋki d͡ʒoʊn kɹaɪd ', 'ɪts eɪ jæŋki d͡ʒoʊn kɹaɪd')"
      ]
     },
     "execution_count": 55,
     "metadata": {},
     "output_type": "execute_result"
    }
   ],
   "source": [
    "\"\".join(results[0]['target_text']), \"\".join(results[0]['pred_str'])"
   ]
  },
  {
   "cell_type": "code",
   "execution_count": 57,
   "metadata": {},
   "outputs": [
    {
     "data": {
      "text/html": [
       "\n",
       "                <audio  controls=\"controls\" >\n",
       "                    <source src=\"data:audio/x-wav;base64,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\" type=\"audio/x-wav\" />\n",
       "                    Your browser does not support the audio element.\n",
       "                </audio>\n",
       "              "
      ],
      "text/plain": [
       "<IPython.lib.display.Audio object>"
      ]
     },
     "execution_count": 57,
     "metadata": {},
     "output_type": "execute_result"
    }
   ],
   "source": [
    "def play_audio(data, sample_rate):\n",
    "    \"\"\"\n",
    "    Воспроизводит аудио на основе массива данных и частоты дискретизации.\n",
    "    \n",
    "    Параметры:\n",
    "        data (numpy array): Аудиосигнал (1D-массив)\n",
    "        sample_rate (int): Частота дискретизации в Гц\n",
    "    \"\"\"\n",
    "    # Нормализация данных, если они не находятся в диапазоне [-1, 1]\n",
    "    if np.max(np.abs(data)) > 1.0:\n",
    "        data = data / np.max(np.abs(data))\n",
    "    \n",
    "    # Конвертация в 16-битный формат PCM для воспроизведения\n",
    "    audio_data = (data * 32767).astype(np.int16)\n",
    "    \n",
    "    # Сохранение во временный файл\n",
    "    write(\"temp_audio.wav\", sample_rate, audio_data)\n",
    "    \n",
    "    # Воспроизведение аудио\n",
    "    return ipd.Audio(\"temp_audio.wav\")\n",
    "\n",
    "data = np.array(results[0]['speech'], dtype=float)\n",
    "sample_rate = 16000 \n",
    "play_audio(data, sample_rate)"
   ]
  },
  {
   "cell_type": "code",
   "execution_count": 58,
   "metadata": {
    "colab": {
     "base_uri": "https://localhost:8080/",
     "height": 359
    },
    "id": "odNDiFVRy53w",
    "outputId": "6ea86f9f-c37f-46a3-eb67-d4b20d0692f4"
   },
   "outputs": [
    {
     "data": {
      "text/html": [
       "<table border=\"1\" class=\"dataframe\">\n",
       "  <thead>\n",
       "    <tr style=\"text-align: right;\">\n",
       "      <th></th>\n",
       "      <th>target_text</th>\n",
       "      <th>pred_str</th>\n",
       "    </tr>\n",
       "  </thead>\n",
       "  <tbody>\n",
       "    <tr>\n",
       "      <th>0</th>\n",
       "      <td>noʊ ɪt ɪz ʌ pælʌs wɛɹɪn ðɛɹ ɑɹ mɛni sɚvʌnts</td>\n",
       "      <td>noʊ ɪt ɪz ʌ pælʌs wɛɹɪn ðɛɹ ɑɹ mɛni sɚvʌnts</td>\n",
       "    </tr>\n",
       "    <tr>\n",
       "      <th>1</th>\n",
       "      <td>ðɛɹ wʌz sʌmθɪŋ pʌθɛtɪk ɪn ðʌ ɡɚlz ætʌtud naʊ</td>\n",
       "      <td>ðɛɹ wʌz sʌmsɪmpʌtɛtɪk ɪn ðʌ ɡɚlz ætʌtud naʊ</td>\n",
       "    </tr>\n",
       "    <tr>\n",
       "      <th>2</th>\n",
       "      <td>d ju hiɹ mi</td>\n",
       "      <td>dɪ ju hɛɹ mi</td>\n",
       "    </tr>\n",
       "    <tr>\n",
       "      <th>3</th>\n",
       "      <td>doʊn æsk mi tɪ kɪɹi ɪn ɔɪli ɹæɡ laɪk ðæt</td>\n",
       "      <td>doʊn æs mɪ tɪ kɛɹi ɪn ɔɪli ɹæɡ laɪk ðæt</td>\n",
       "    </tr>\n",
       "    <tr>\n",
       "      <th>4</th>\n",
       "      <td>doʊn æs mi tɪ kɛɹi ɪn ɔɪli ɹæɡ laɪk θæt</td>\n",
       "      <td>doʊn æsk mi tɪ kɛɹi ɪn ɔɪli ɹæɡ laɪk ðæt</td>\n",
       "    </tr>\n",
       "    <tr>\n",
       "      <th>5</th>\n",
       "      <td>blʌd wʌz uzɪŋ sloʊli fɹʌm ðʌ wundɪd mænz ɹaɪt bɹɛst</td>\n",
       "      <td>blʌd wʌz uzɪŋ sloʊli fɹʌm ðʌ wundɪd mænz ɹaɪt bɹɛst</td>\n",
       "    </tr>\n",
       "    <tr>\n",
       "      <th>6</th>\n",
       "      <td>ðɪ kaʊ wʌndɚd fɹəm ðə fɑɹmlænd əɛn bɪkeɪm lɔst</td>\n",
       "      <td>ðɪ kaʊ wʌnɚd fɹəm ðə fɑɹmlɛnd ɪ æn bikeɪm lɔst</td>\n",
       "    </tr>\n",
       "    <tr>\n",
       "      <th>7</th>\n",
       "      <td>hɪz pɚskɹɪpʃɪn hɑ ən koʊld kɑmpɹɛsɪs tɪ ɪŋkɹis hɚ ɪbsɔɹpʃɪn ɪv wɑtɚ</td>\n",
       "      <td>hɪz pɹɪskɹɪpʃɪn hɑt ən koʊld kɑmpɹɛsɪz tɪ ɪŋkɹis hɚ ɪbsɔɹpʃɪn əv wɔtɚ</td>\n",
       "    </tr>\n",
       "    <tr>\n",
       "      <th>8</th>\n",
       "      <td>ðʌ bʊt͡ʃɚz ænd mit kʌtɚz ɹɪfjuzd tʌ hændʌl mit dɛstɪnd fɔɹ ʌnfɛɹ ɹɛstɹɑnts</td>\n",
       "      <td>ðʌ bʊt͡ʃɚz ænd mit kʌtɚz pɹʌfjuzd tʌ hændʌl mi dɛstɪnd fɔɹ ʌnfɛɹ ɹɛstɚɑnts</td>\n",
       "    </tr>\n",
       "    <tr>\n",
       "      <th>9</th>\n",
       "      <td>ɪt ɪz ɔlsoʊ æn ɪnsɪdiʌs dɪsitfʌl sʌn</td>\n",
       "      <td>ɪt ɪz ɔlsoʊ æn ɪnsɪdiʌs dɪsaɪtfʌl sʌn</td>\n",
       "    </tr>\n",
       "  </tbody>\n",
       "</table>"
      ],
      "text/plain": [
       "<IPython.core.display.HTML object>"
      ]
     },
     "metadata": {},
     "output_type": "display_data"
    }
   ],
   "source": [
    "show_random_elements(results.remove_columns([\"speech\", \"sampling_rate\"]))"
   ]
  }
 ],
 "metadata": {
  "accelerator": "GPU",
  "colab": {
   "machine_shape": "hm",
   "provenance": []
  },
  "kernelspec": {
   "display_name": "3.10.15",
   "language": "python",
   "name": "python3"
  },
  "language_info": {
   "codemirror_mode": {
    "name": "ipython",
    "version": 3
   },
   "file_extension": ".py",
   "mimetype": "text/x-python",
   "name": "python",
   "nbconvert_exporter": "python",
   "pygments_lexer": "ipython3",
   "version": "3.10.15"
  },
  "widgets": {
   "application/vnd.jupyter.widget-state+json": {
    "029cacd0917745e4805c430f90ca6fb8": {
     "model_module": "@jupyter-widgets/controls",
     "model_module_version": "1.5.0",
     "model_name": "DescriptionStyleModel",
     "state": {
      "_model_module": "@jupyter-widgets/controls",
      "_model_module_version": "1.5.0",
      "_model_name": "DescriptionStyleModel",
      "_view_count": null,
      "_view_module": "@jupyter-widgets/base",
      "_view_module_version": "1.2.0",
      "_view_name": "StyleView",
      "description_width": ""
     }
    },
    "07cf20166d434d95970d1345305cbace": {
     "model_module": "@jupyter-widgets/controls",
     "model_module_version": "1.5.0",
     "model_name": "HTMLModel",
     "state": {
      "_dom_classes": [],
      "_model_module": "@jupyter-widgets/controls",
      "_model_module_version": "1.5.0",
      "_model_name": "HTMLModel",
      "_view_count": null,
      "_view_module": "@jupyter-widgets/controls",
      "_view_module_version": "1.5.0",
      "_view_name": "HTMLView",
      "description": "",
      "description_tooltip": null,
      "layout": "IPY_MODEL_da098f72ac914e3c843101461c80958f",
      "placeholder": "​",
      "style": "IPY_MODEL_30356a479da340ad9a17ed8f53c19ee6",
      "value": " 145/145 [00:58&lt;00:00,  2.49ba/s]"
     }
    },
    "0aea306b774e4d15a3b5a5d94af89c84": {
     "model_module": "@jupyter-widgets/controls",
     "model_module_version": "1.5.0",
     "model_name": "DescriptionStyleModel",
     "state": {
      "_model_module": "@jupyter-widgets/controls",
      "_model_module_version": "1.5.0",
      "_model_name": "DescriptionStyleModel",
      "_view_count": null,
      "_view_module": "@jupyter-widgets/base",
      "_view_module_version": "1.2.0",
      "_view_name": "StyleView",
      "description_width": ""
     }
    },
    "0cd617b4eb2541c09ea02741a6449fd6": {
     "model_module": "@jupyter-widgets/controls",
     "model_module_version": "1.5.0",
     "model_name": "DescriptionStyleModel",
     "state": {
      "_model_module": "@jupyter-widgets/controls",
      "_model_module_version": "1.5.0",
      "_model_name": "DescriptionStyleModel",
      "_view_count": null,
      "_view_module": "@jupyter-widgets/base",
      "_view_module_version": "1.2.0",
      "_view_name": "StyleView",
      "description_width": ""
     }
    },
    "171d534be17d4bc3a361a5d99e345fe7": {
     "model_module": "@jupyter-widgets/controls",
     "model_module_version": "1.5.0",
     "model_name": "ProgressStyleModel",
     "state": {
      "_model_module": "@jupyter-widgets/controls",
      "_model_module_version": "1.5.0",
      "_model_name": "ProgressStyleModel",
      "_view_count": null,
      "_view_module": "@jupyter-widgets/base",
      "_view_module_version": "1.2.0",
      "_view_name": "StyleView",
      "bar_color": null,
      "description_width": "initial"
     }
    },
    "1c297360dc834eb8b8d7dd7844f1208b": {
     "model_module": "@jupyter-widgets/base",
     "model_module_version": "1.2.0",
     "model_name": "LayoutModel",
     "state": {
      "_model_module": "@jupyter-widgets/base",
      "_model_module_version": "1.2.0",
      "_model_name": "LayoutModel",
      "_view_count": null,
      "_view_module": "@jupyter-widgets/base",
      "_view_module_version": "1.2.0",
      "_view_name": "LayoutView",
      "align_content": null,
      "align_items": null,
      "align_self": null,
      "border": null,
      "bottom": null,
      "display": null,
      "flex": null,
      "flex_flow": null,
      "grid_area": null,
      "grid_auto_columns": null,
      "grid_auto_flow": null,
      "grid_auto_rows": null,
      "grid_column": null,
      "grid_gap": null,
      "grid_row": null,
      "grid_template_areas": null,
      "grid_template_columns": null,
      "grid_template_rows": null,
      "height": null,
      "justify_content": null,
      "justify_items": null,
      "left": null,
      "margin": null,
      "max_height": null,
      "max_width": null,
      "min_height": null,
      "min_width": null,
      "object_fit": null,
      "object_position": null,
      "order": null,
      "overflow": null,
      "overflow_x": null,
      "overflow_y": null,
      "padding": null,
      "right": null,
      "top": null,
      "visibility": null,
      "width": null
     }
    },
    "1cdd25b721b54b618d651a90c6558c4d": {
     "model_module": "@jupyter-widgets/base",
     "model_module_version": "1.2.0",
     "model_name": "LayoutModel",
     "state": {
      "_model_module": "@jupyter-widgets/base",
      "_model_module_version": "1.2.0",
      "_model_name": "LayoutModel",
      "_view_count": null,
      "_view_module": "@jupyter-widgets/base",
      "_view_module_version": "1.2.0",
      "_view_name": "LayoutView",
      "align_content": null,
      "align_items": null,
      "align_self": null,
      "border": null,
      "bottom": null,
      "display": null,
      "flex": null,
      "flex_flow": null,
      "grid_area": null,
      "grid_auto_columns": null,
      "grid_auto_flow": null,
      "grid_auto_rows": null,
      "grid_column": null,
      "grid_gap": null,
      "grid_row": null,
      "grid_template_areas": null,
      "grid_template_columns": null,
      "grid_template_rows": null,
      "height": null,
      "justify_content": null,
      "justify_items": null,
      "left": null,
      "margin": null,
      "max_height": null,
      "max_width": null,
      "min_height": null,
      "min_width": null,
      "object_fit": null,
      "object_position": null,
      "order": null,
      "overflow": null,
      "overflow_x": null,
      "overflow_y": null,
      "padding": null,
      "right": null,
      "top": null,
      "visibility": null,
      "width": null
     }
    },
    "1eda265ac01447c3bd50b54548478b03": {
     "model_module": "@jupyter-widgets/base",
     "model_module_version": "1.2.0",
     "model_name": "LayoutModel",
     "state": {
      "_model_module": "@jupyter-widgets/base",
      "_model_module_version": "1.2.0",
      "_model_name": "LayoutModel",
      "_view_count": null,
      "_view_module": "@jupyter-widgets/base",
      "_view_module_version": "1.2.0",
      "_view_name": "LayoutView",
      "align_content": null,
      "align_items": null,
      "align_self": null,
      "border": null,
      "bottom": null,
      "display": null,
      "flex": null,
      "flex_flow": null,
      "grid_area": null,
      "grid_auto_columns": null,
      "grid_auto_flow": null,
      "grid_auto_rows": null,
      "grid_column": null,
      "grid_gap": null,
      "grid_row": null,
      "grid_template_areas": null,
      "grid_template_columns": null,
      "grid_template_rows": null,
      "height": null,
      "justify_content": null,
      "justify_items": null,
      "left": null,
      "margin": null,
      "max_height": null,
      "max_width": null,
      "min_height": null,
      "min_width": null,
      "object_fit": null,
      "object_position": null,
      "order": null,
      "overflow": null,
      "overflow_x": null,
      "overflow_y": null,
      "padding": null,
      "right": null,
      "top": null,
      "visibility": null,
      "width": null
     }
    },
    "210165189f7d4a128aeb461290266fa0": {
     "model_module": "@jupyter-widgets/base",
     "model_module_version": "1.2.0",
     "model_name": "LayoutModel",
     "state": {
      "_model_module": "@jupyter-widgets/base",
      "_model_module_version": "1.2.0",
      "_model_name": "LayoutModel",
      "_view_count": null,
      "_view_module": "@jupyter-widgets/base",
      "_view_module_version": "1.2.0",
      "_view_name": "LayoutView",
      "align_content": null,
      "align_items": null,
      "align_self": null,
      "border": null,
      "bottom": null,
      "display": null,
      "flex": null,
      "flex_flow": null,
      "grid_area": null,
      "grid_auto_columns": null,
      "grid_auto_flow": null,
      "grid_auto_rows": null,
      "grid_column": null,
      "grid_gap": null,
      "grid_row": null,
      "grid_template_areas": null,
      "grid_template_columns": null,
      "grid_template_rows": null,
      "height": null,
      "justify_content": null,
      "justify_items": null,
      "left": null,
      "margin": null,
      "max_height": null,
      "max_width": null,
      "min_height": null,
      "min_width": null,
      "object_fit": null,
      "object_position": null,
      "order": null,
      "overflow": null,
      "overflow_x": null,
      "overflow_y": null,
      "padding": null,
      "right": null,
      "top": null,
      "visibility": null,
      "width": null
     }
    },
    "23c876a344044645b74825dc8deba3cb": {
     "model_module": "@jupyter-widgets/base",
     "model_module_version": "1.2.0",
     "model_name": "LayoutModel",
     "state": {
      "_model_module": "@jupyter-widgets/base",
      "_model_module_version": "1.2.0",
      "_model_name": "LayoutModel",
      "_view_count": null,
      "_view_module": "@jupyter-widgets/base",
      "_view_module_version": "1.2.0",
      "_view_name": "LayoutView",
      "align_content": null,
      "align_items": null,
      "align_self": null,
      "border": null,
      "bottom": null,
      "display": null,
      "flex": null,
      "flex_flow": null,
      "grid_area": null,
      "grid_auto_columns": null,
      "grid_auto_flow": null,
      "grid_auto_rows": null,
      "grid_column": null,
      "grid_gap": null,
      "grid_row": null,
      "grid_template_areas": null,
      "grid_template_columns": null,
      "grid_template_rows": null,
      "height": null,
      "justify_content": null,
      "justify_items": null,
      "left": null,
      "margin": null,
      "max_height": null,
      "max_width": null,
      "min_height": null,
      "min_width": null,
      "object_fit": null,
      "object_position": null,
      "order": null,
      "overflow": null,
      "overflow_x": null,
      "overflow_y": null,
      "padding": null,
      "right": null,
      "top": null,
      "visibility": null,
      "width": null
     }
    },
    "23f8b7eb2d4247648eef85cd7ff151af": {
     "model_module": "@jupyter-widgets/base",
     "model_module_version": "1.2.0",
     "model_name": "LayoutModel",
     "state": {
      "_model_module": "@jupyter-widgets/base",
      "_model_module_version": "1.2.0",
      "_model_name": "LayoutModel",
      "_view_count": null,
      "_view_module": "@jupyter-widgets/base",
      "_view_module_version": "1.2.0",
      "_view_name": "LayoutView",
      "align_content": null,
      "align_items": null,
      "align_self": null,
      "border": null,
      "bottom": null,
      "display": null,
      "flex": null,
      "flex_flow": null,
      "grid_area": null,
      "grid_auto_columns": null,
      "grid_auto_flow": null,
      "grid_auto_rows": null,
      "grid_column": null,
      "grid_gap": null,
      "grid_row": null,
      "grid_template_areas": null,
      "grid_template_columns": null,
      "grid_template_rows": null,
      "height": null,
      "justify_content": null,
      "justify_items": null,
      "left": null,
      "margin": null,
      "max_height": null,
      "max_width": null,
      "min_height": null,
      "min_width": null,
      "object_fit": null,
      "object_position": null,
      "order": null,
      "overflow": null,
      "overflow_x": null,
      "overflow_y": null,
      "padding": null,
      "right": null,
      "top": null,
      "visibility": null,
      "width": null
     }
    },
    "26b3e153106a40a8bee51a43cc48ed40": {
     "model_module": "@jupyter-widgets/controls",
     "model_module_version": "1.5.0",
     "model_name": "DescriptionStyleModel",
     "state": {
      "_model_module": "@jupyter-widgets/controls",
      "_model_module_version": "1.5.0",
      "_model_name": "DescriptionStyleModel",
      "_view_count": null,
      "_view_module": "@jupyter-widgets/base",
      "_view_module_version": "1.2.0",
      "_view_name": "StyleView",
      "description_width": ""
     }
    },
    "26ce1a9132a9438b8a44c52302d85b61": {
     "model_module": "@jupyter-widgets/controls",
     "model_module_version": "1.5.0",
     "model_name": "HBoxModel",
     "state": {
      "_dom_classes": [],
      "_model_module": "@jupyter-widgets/controls",
      "_model_module_version": "1.5.0",
      "_model_name": "HBoxModel",
      "_view_count": null,
      "_view_module": "@jupyter-widgets/controls",
      "_view_module_version": "1.5.0",
      "_view_name": "HBoxView",
      "box_style": "",
      "children": [
       "IPY_MODEL_8018b6fa50724d20adac39fb12fa148b",
       "IPY_MODEL_07cf20166d434d95970d1345305cbace"
      ],
      "layout": "IPY_MODEL_5fdeaefc67a246fb9717778d53285973"
     }
    },
    "290657585fbd4ab6adcfb9a5b3fbd24d": {
     "model_module": "@jupyter-widgets/base",
     "model_module_version": "1.2.0",
     "model_name": "LayoutModel",
     "state": {
      "_model_module": "@jupyter-widgets/base",
      "_model_module_version": "1.2.0",
      "_model_name": "LayoutModel",
      "_view_count": null,
      "_view_module": "@jupyter-widgets/base",
      "_view_module_version": "1.2.0",
      "_view_name": "LayoutView",
      "align_content": null,
      "align_items": null,
      "align_self": null,
      "border": null,
      "bottom": null,
      "display": null,
      "flex": null,
      "flex_flow": null,
      "grid_area": null,
      "grid_auto_columns": null,
      "grid_auto_flow": null,
      "grid_auto_rows": null,
      "grid_column": null,
      "grid_gap": null,
      "grid_row": null,
      "grid_template_areas": null,
      "grid_template_columns": null,
      "grid_template_rows": null,
      "height": null,
      "justify_content": null,
      "justify_items": null,
      "left": null,
      "margin": null,
      "max_height": null,
      "max_width": null,
      "min_height": null,
      "min_width": null,
      "object_fit": null,
      "object_position": null,
      "order": null,
      "overflow": null,
      "overflow_x": null,
      "overflow_y": null,
      "padding": null,
      "right": null,
      "top": null,
      "visibility": null,
      "width": null
     }
    },
    "30356a479da340ad9a17ed8f53c19ee6": {
     "model_module": "@jupyter-widgets/controls",
     "model_module_version": "1.5.0",
     "model_name": "DescriptionStyleModel",
     "state": {
      "_model_module": "@jupyter-widgets/controls",
      "_model_module_version": "1.5.0",
      "_model_name": "DescriptionStyleModel",
      "_view_count": null,
      "_view_module": "@jupyter-widgets/base",
      "_view_module_version": "1.2.0",
      "_view_name": "StyleView",
      "description_width": ""
     }
    },
    "306eb8a6a382423fb144b20f2aa34984": {
     "model_module": "@jupyter-widgets/base",
     "model_module_version": "1.2.0",
     "model_name": "LayoutModel",
     "state": {
      "_model_module": "@jupyter-widgets/base",
      "_model_module_version": "1.2.0",
      "_model_name": "LayoutModel",
      "_view_count": null,
      "_view_module": "@jupyter-widgets/base",
      "_view_module_version": "1.2.0",
      "_view_name": "LayoutView",
      "align_content": null,
      "align_items": null,
      "align_self": null,
      "border": null,
      "bottom": null,
      "display": null,
      "flex": null,
      "flex_flow": null,
      "grid_area": null,
      "grid_auto_columns": null,
      "grid_auto_flow": null,
      "grid_auto_rows": null,
      "grid_column": null,
      "grid_gap": null,
      "grid_row": null,
      "grid_template_areas": null,
      "grid_template_columns": null,
      "grid_template_rows": null,
      "height": null,
      "justify_content": null,
      "justify_items": null,
      "left": null,
      "margin": null,
      "max_height": null,
      "max_width": null,
      "min_height": null,
      "min_width": null,
      "object_fit": null,
      "object_position": null,
      "order": null,
      "overflow": null,
      "overflow_x": null,
      "overflow_y": null,
      "padding": null,
      "right": null,
      "top": null,
      "visibility": null,
      "width": null
     }
    },
    "34aa4c398e9c430cbbd6884a6bffd215": {
     "model_module": "@jupyter-widgets/base",
     "model_module_version": "1.2.0",
     "model_name": "LayoutModel",
     "state": {
      "_model_module": "@jupyter-widgets/base",
      "_model_module_version": "1.2.0",
      "_model_name": "LayoutModel",
      "_view_count": null,
      "_view_module": "@jupyter-widgets/base",
      "_view_module_version": "1.2.0",
      "_view_name": "LayoutView",
      "align_content": null,
      "align_items": null,
      "align_self": null,
      "border": null,
      "bottom": null,
      "display": null,
      "flex": null,
      "flex_flow": null,
      "grid_area": null,
      "grid_auto_columns": null,
      "grid_auto_flow": null,
      "grid_auto_rows": null,
      "grid_column": null,
      "grid_gap": null,
      "grid_row": null,
      "grid_template_areas": null,
      "grid_template_columns": null,
      "grid_template_rows": null,
      "height": null,
      "justify_content": null,
      "justify_items": null,
      "left": null,
      "margin": null,
      "max_height": null,
      "max_width": null,
      "min_height": null,
      "min_width": null,
      "object_fit": null,
      "object_position": null,
      "order": null,
      "overflow": null,
      "overflow_x": null,
      "overflow_y": null,
      "padding": null,
      "right": null,
      "top": null,
      "visibility": null,
      "width": null
     }
    },
    "354c4391de0d409f94b11a1cff331484": {
     "model_module": "@jupyter-widgets/controls",
     "model_module_version": "1.5.0",
     "model_name": "ProgressStyleModel",
     "state": {
      "_model_module": "@jupyter-widgets/controls",
      "_model_module_version": "1.5.0",
      "_model_name": "ProgressStyleModel",
      "_view_count": null,
      "_view_module": "@jupyter-widgets/base",
      "_view_module_version": "1.2.0",
      "_view_name": "StyleView",
      "bar_color": null,
      "description_width": "initial"
     }
    },
    "38d1e3d38c69470f9aebf1462c1e77b5": {
     "model_module": "@jupyter-widgets/controls",
     "model_module_version": "1.5.0",
     "model_name": "FloatProgressModel",
     "state": {
      "_dom_classes": [],
      "_model_module": "@jupyter-widgets/controls",
      "_model_module_version": "1.5.0",
      "_model_name": "FloatProgressModel",
      "_view_count": null,
      "_view_module": "@jupyter-widgets/controls",
      "_view_module_version": "1.5.0",
      "_view_name": "ProgressView",
      "bar_style": "success",
      "description": "#0: 100%",
      "description_tooltip": null,
      "layout": "IPY_MODEL_1cdd25b721b54b618d651a90c6558c4d",
      "max": 145,
      "min": 0,
      "orientation": "horizontal",
      "style": "IPY_MODEL_b4cefe57ba3048ffbb3f5e14e0893ce7",
      "value": 145
     }
    },
    "3f71950fd58e4a329728ee976fbdf03f": {
     "model_module": "@jupyter-widgets/controls",
     "model_module_version": "1.5.0",
     "model_name": "HTMLModel",
     "state": {
      "_dom_classes": [],
      "_model_module": "@jupyter-widgets/controls",
      "_model_module_version": "1.5.0",
      "_model_name": "HTMLModel",
      "_view_count": null,
      "_view_module": "@jupyter-widgets/controls",
      "_view_module_version": "1.5.0",
      "_view_name": "HTMLView",
      "description": "",
      "description_tooltip": null,
      "layout": "IPY_MODEL_56fab205c63a4713983dc5a670d024ab",
      "placeholder": "​",
      "style": "IPY_MODEL_0aea306b774e4d15a3b5a5d94af89c84",
      "value": " 1680/1680 [05:16&lt;00:00,  5.31ex/s]"
     }
    },
    "4037a8dd07484d15a52ad568801ec456": {
     "model_module": "@jupyter-widgets/base",
     "model_module_version": "1.2.0",
     "model_name": "LayoutModel",
     "state": {
      "_model_module": "@jupyter-widgets/base",
      "_model_module_version": "1.2.0",
      "_model_name": "LayoutModel",
      "_view_count": null,
      "_view_module": "@jupyter-widgets/base",
      "_view_module_version": "1.2.0",
      "_view_name": "LayoutView",
      "align_content": null,
      "align_items": null,
      "align_self": null,
      "border": null,
      "bottom": null,
      "display": null,
      "flex": null,
      "flex_flow": null,
      "grid_area": null,
      "grid_auto_columns": null,
      "grid_auto_flow": null,
      "grid_auto_rows": null,
      "grid_column": null,
      "grid_gap": null,
      "grid_row": null,
      "grid_template_areas": null,
      "grid_template_columns": null,
      "grid_template_rows": null,
      "height": null,
      "justify_content": null,
      "justify_items": null,
      "left": null,
      "margin": null,
      "max_height": null,
      "max_width": null,
      "min_height": null,
      "min_width": null,
      "object_fit": null,
      "object_position": null,
      "order": null,
      "overflow": null,
      "overflow_x": null,
      "overflow_y": null,
      "padding": null,
      "right": null,
      "top": null,
      "visibility": null,
      "width": null
     }
    },
    "40c650a488a145a5b6f11c37f993ec6e": {
     "model_module": "@jupyter-widgets/base",
     "model_module_version": "1.2.0",
     "model_name": "LayoutModel",
     "state": {
      "_model_module": "@jupyter-widgets/base",
      "_model_module_version": "1.2.0",
      "_model_name": "LayoutModel",
      "_view_count": null,
      "_view_module": "@jupyter-widgets/base",
      "_view_module_version": "1.2.0",
      "_view_name": "LayoutView",
      "align_content": null,
      "align_items": null,
      "align_self": null,
      "border": null,
      "bottom": null,
      "display": null,
      "flex": null,
      "flex_flow": null,
      "grid_area": null,
      "grid_auto_columns": null,
      "grid_auto_flow": null,
      "grid_auto_rows": null,
      "grid_column": null,
      "grid_gap": null,
      "grid_row": null,
      "grid_template_areas": null,
      "grid_template_columns": null,
      "grid_template_rows": null,
      "height": null,
      "justify_content": null,
      "justify_items": null,
      "left": null,
      "margin": null,
      "max_height": null,
      "max_width": null,
      "min_height": null,
      "min_width": null,
      "object_fit": null,
      "object_position": null,
      "order": null,
      "overflow": null,
      "overflow_x": null,
      "overflow_y": null,
      "padding": null,
      "right": null,
      "top": null,
      "visibility": null,
      "width": null
     }
    },
    "42674dc5fcd0452b8128bf1401458f90": {
     "model_module": "@jupyter-widgets/controls",
     "model_module_version": "1.5.0",
     "model_name": "DescriptionStyleModel",
     "state": {
      "_model_module": "@jupyter-widgets/controls",
      "_model_module_version": "1.5.0",
      "_model_name": "DescriptionStyleModel",
      "_view_count": null,
      "_view_module": "@jupyter-widgets/base",
      "_view_module_version": "1.2.0",
      "_view_name": "StyleView",
      "description_width": ""
     }
    },
    "45d3c6a41ebe44bd882bfdf483053971": {
     "model_module": "@jupyter-widgets/controls",
     "model_module_version": "1.5.0",
     "model_name": "HBoxModel",
     "state": {
      "_dom_classes": [],
      "_model_module": "@jupyter-widgets/controls",
      "_model_module_version": "1.5.0",
      "_model_name": "HBoxModel",
      "_view_count": null,
      "_view_module": "@jupyter-widgets/controls",
      "_view_module_version": "1.5.0",
      "_view_name": "HBoxView",
      "box_style": "",
      "children": [
       "IPY_MODEL_5a25bc22d13248659c80943ece36502a",
       "IPY_MODEL_4a1581d2df774145ac29b38a7c9bb566"
      ],
      "layout": "IPY_MODEL_907a25248d694d4ea323339e9329463b"
     }
    },
    "47f69f01f0d34ee1a237d00d45b3f398": {
     "model_module": "@jupyter-widgets/base",
     "model_module_version": "1.2.0",
     "model_name": "LayoutModel",
     "state": {
      "_model_module": "@jupyter-widgets/base",
      "_model_module_version": "1.2.0",
      "_model_name": "LayoutModel",
      "_view_count": null,
      "_view_module": "@jupyter-widgets/base",
      "_view_module_version": "1.2.0",
      "_view_name": "LayoutView",
      "align_content": null,
      "align_items": null,
      "align_self": null,
      "border": null,
      "bottom": null,
      "display": null,
      "flex": null,
      "flex_flow": null,
      "grid_area": null,
      "grid_auto_columns": null,
      "grid_auto_flow": null,
      "grid_auto_rows": null,
      "grid_column": null,
      "grid_gap": null,
      "grid_row": null,
      "grid_template_areas": null,
      "grid_template_columns": null,
      "grid_template_rows": null,
      "height": null,
      "justify_content": null,
      "justify_items": null,
      "left": null,
      "margin": null,
      "max_height": null,
      "max_width": null,
      "min_height": null,
      "min_width": null,
      "object_fit": null,
      "object_position": null,
      "order": null,
      "overflow": null,
      "overflow_x": null,
      "overflow_y": null,
      "padding": null,
      "right": null,
      "top": null,
      "visibility": null,
      "width": null
     }
    },
    "4a1581d2df774145ac29b38a7c9bb566": {
     "model_module": "@jupyter-widgets/controls",
     "model_module_version": "1.5.0",
     "model_name": "HTMLModel",
     "state": {
      "_dom_classes": [],
      "_model_module": "@jupyter-widgets/controls",
      "_model_module_version": "1.5.0",
      "_model_name": "HTMLModel",
      "_view_count": null,
      "_view_module": "@jupyter-widgets/controls",
      "_view_module_version": "1.5.0",
      "_view_name": "HTMLView",
      "description": "",
      "description_tooltip": null,
      "layout": "IPY_MODEL_1eda265ac01447c3bd50b54548478b03",
      "placeholder": "​",
      "style": "IPY_MODEL_0cd617b4eb2541c09ea02741a6449fd6",
      "value": " 145/145 [00:57&lt;00:00,  2.51ba/s]"
     }
    },
    "4c072429588544c5af48a344f9848937": {
     "model_module": "@jupyter-widgets/controls",
     "model_module_version": "1.5.0",
     "model_name": "ProgressStyleModel",
     "state": {
      "_model_module": "@jupyter-widgets/controls",
      "_model_module_version": "1.5.0",
      "_model_name": "ProgressStyleModel",
      "_view_count": null,
      "_view_module": "@jupyter-widgets/base",
      "_view_module_version": "1.2.0",
      "_view_name": "StyleView",
      "bar_color": null,
      "description_width": "initial"
     }
    },
    "4e521bce60634da6a4c64f9b6d34b4a9": {
     "model_module": "@jupyter-widgets/base",
     "model_module_version": "1.2.0",
     "model_name": "LayoutModel",
     "state": {
      "_model_module": "@jupyter-widgets/base",
      "_model_module_version": "1.2.0",
      "_model_name": "LayoutModel",
      "_view_count": null,
      "_view_module": "@jupyter-widgets/base",
      "_view_module_version": "1.2.0",
      "_view_name": "LayoutView",
      "align_content": null,
      "align_items": null,
      "align_self": null,
      "border": null,
      "bottom": null,
      "display": null,
      "flex": null,
      "flex_flow": null,
      "grid_area": null,
      "grid_auto_columns": null,
      "grid_auto_flow": null,
      "grid_auto_rows": null,
      "grid_column": null,
      "grid_gap": null,
      "grid_row": null,
      "grid_template_areas": null,
      "grid_template_columns": null,
      "grid_template_rows": null,
      "height": null,
      "justify_content": null,
      "justify_items": null,
      "left": null,
      "margin": null,
      "max_height": null,
      "max_width": null,
      "min_height": null,
      "min_width": null,
      "object_fit": null,
      "object_position": null,
      "order": null,
      "overflow": null,
      "overflow_x": null,
      "overflow_y": null,
      "padding": null,
      "right": null,
      "top": null,
      "visibility": null,
      "width": null
     }
    },
    "4f8874fc37bd44f3ad2072216af11821": {
     "model_module": "@jupyter-widgets/controls",
     "model_module_version": "1.5.0",
     "model_name": "FloatProgressModel",
     "state": {
      "_dom_classes": [],
      "_model_module": "@jupyter-widgets/controls",
      "_model_module_version": "1.5.0",
      "_model_name": "FloatProgressModel",
      "_view_count": null,
      "_view_module": "@jupyter-widgets/controls",
      "_view_module_version": "1.5.0",
      "_view_name": "ProgressView",
      "bar_style": "success",
      "description": "#0: 100%",
      "description_tooltip": null,
      "layout": "IPY_MODEL_4e521bce60634da6a4c64f9b6d34b4a9",
      "max": 53,
      "min": 0,
      "orientation": "horizontal",
      "style": "IPY_MODEL_354c4391de0d409f94b11a1cff331484",
      "value": 53
     }
    },
    "56fab205c63a4713983dc5a670d024ab": {
     "model_module": "@jupyter-widgets/base",
     "model_module_version": "1.2.0",
     "model_name": "LayoutModel",
     "state": {
      "_model_module": "@jupyter-widgets/base",
      "_model_module_version": "1.2.0",
      "_model_name": "LayoutModel",
      "_view_count": null,
      "_view_module": "@jupyter-widgets/base",
      "_view_module_version": "1.2.0",
      "_view_name": "LayoutView",
      "align_content": null,
      "align_items": null,
      "align_self": null,
      "border": null,
      "bottom": null,
      "display": null,
      "flex": null,
      "flex_flow": null,
      "grid_area": null,
      "grid_auto_columns": null,
      "grid_auto_flow": null,
      "grid_auto_rows": null,
      "grid_column": null,
      "grid_gap": null,
      "grid_row": null,
      "grid_template_areas": null,
      "grid_template_columns": null,
      "grid_template_rows": null,
      "height": null,
      "justify_content": null,
      "justify_items": null,
      "left": null,
      "margin": null,
      "max_height": null,
      "max_width": null,
      "min_height": null,
      "min_width": null,
      "object_fit": null,
      "object_position": null,
      "order": null,
      "overflow": null,
      "overflow_x": null,
      "overflow_y": null,
      "padding": null,
      "right": null,
      "top": null,
      "visibility": null,
      "width": null
     }
    },
    "5a25bc22d13248659c80943ece36502a": {
     "model_module": "@jupyter-widgets/controls",
     "model_module_version": "1.5.0",
     "model_name": "FloatProgressModel",
     "state": {
      "_dom_classes": [],
      "_model_module": "@jupyter-widgets/controls",
      "_model_module_version": "1.5.0",
      "_model_name": "FloatProgressModel",
      "_view_count": null,
      "_view_module": "@jupyter-widgets/controls",
      "_view_module_version": "1.5.0",
      "_view_name": "ProgressView",
      "bar_style": "success",
      "description": "#1: 100%",
      "description_tooltip": null,
      "layout": "IPY_MODEL_8bdc91a879424cae99998259a191e195",
      "max": 145,
      "min": 0,
      "orientation": "horizontal",
      "style": "IPY_MODEL_4c072429588544c5af48a344f9848937",
      "value": 145
     }
    },
    "5fdeaefc67a246fb9717778d53285973": {
     "model_module": "@jupyter-widgets/base",
     "model_module_version": "1.2.0",
     "model_name": "LayoutModel",
     "state": {
      "_model_module": "@jupyter-widgets/base",
      "_model_module_version": "1.2.0",
      "_model_name": "LayoutModel",
      "_view_count": null,
      "_view_module": "@jupyter-widgets/base",
      "_view_module_version": "1.2.0",
      "_view_name": "LayoutView",
      "align_content": null,
      "align_items": null,
      "align_self": null,
      "border": null,
      "bottom": null,
      "display": null,
      "flex": null,
      "flex_flow": null,
      "grid_area": null,
      "grid_auto_columns": null,
      "grid_auto_flow": null,
      "grid_auto_rows": null,
      "grid_column": null,
      "grid_gap": null,
      "grid_row": null,
      "grid_template_areas": null,
      "grid_template_columns": null,
      "grid_template_rows": null,
      "height": null,
      "justify_content": null,
      "justify_items": null,
      "left": null,
      "margin": null,
      "max_height": null,
      "max_width": null,
      "min_height": null,
      "min_width": null,
      "object_fit": null,
      "object_position": null,
      "order": null,
      "overflow": null,
      "overflow_x": null,
      "overflow_y": null,
      "padding": null,
      "right": null,
      "top": null,
      "visibility": null,
      "width": null
     }
    },
    "6b9edb92d58b43569ccc25249bd0c5fc": {
     "model_module": "@jupyter-widgets/controls",
     "model_module_version": "1.5.0",
     "model_name": "HBoxModel",
     "state": {
      "_dom_classes": [],
      "_model_module": "@jupyter-widgets/controls",
      "_model_module_version": "1.5.0",
      "_model_name": "HBoxModel",
      "_view_count": null,
      "_view_module": "@jupyter-widgets/controls",
      "_view_module_version": "1.5.0",
      "_view_name": "HBoxView",
      "box_style": "",
      "children": [
       "IPY_MODEL_4f8874fc37bd44f3ad2072216af11821",
       "IPY_MODEL_98bf606e152845f7af422dfb79e875c3"
      ],
      "layout": "IPY_MODEL_47f69f01f0d34ee1a237d00d45b3f398"
     }
    },
    "6d10b5077e844e7385997f45276151a5": {
     "model_module": "@jupyter-widgets/base",
     "model_module_version": "1.2.0",
     "model_name": "LayoutModel",
     "state": {
      "_model_module": "@jupyter-widgets/base",
      "_model_module_version": "1.2.0",
      "_model_name": "LayoutModel",
      "_view_count": null,
      "_view_module": "@jupyter-widgets/base",
      "_view_module_version": "1.2.0",
      "_view_name": "LayoutView",
      "align_content": null,
      "align_items": null,
      "align_self": null,
      "border": null,
      "bottom": null,
      "display": null,
      "flex": null,
      "flex_flow": null,
      "grid_area": null,
      "grid_auto_columns": null,
      "grid_auto_flow": null,
      "grid_auto_rows": null,
      "grid_column": null,
      "grid_gap": null,
      "grid_row": null,
      "grid_template_areas": null,
      "grid_template_columns": null,
      "grid_template_rows": null,
      "height": null,
      "justify_content": null,
      "justify_items": null,
      "left": null,
      "margin": null,
      "max_height": null,
      "max_width": null,
      "min_height": null,
      "min_width": null,
      "object_fit": null,
      "object_position": null,
      "order": null,
      "overflow": null,
      "overflow_x": null,
      "overflow_y": null,
      "padding": null,
      "right": null,
      "top": null,
      "visibility": null,
      "width": null
     }
    },
    "6ed87e8d02b9490182e8c2d06220002d": {
     "model_module": "@jupyter-widgets/controls",
     "model_module_version": "1.5.0",
     "model_name": "FloatProgressModel",
     "state": {
      "_dom_classes": [],
      "_model_module": "@jupyter-widgets/controls",
      "_model_module_version": "1.5.0",
      "_model_name": "FloatProgressModel",
      "_view_count": null,
      "_view_module": "@jupyter-widgets/controls",
      "_view_module_version": "1.5.0",
      "_view_name": "ProgressView",
      "bar_style": "success",
      "description": "100%",
      "description_tooltip": null,
      "layout": "IPY_MODEL_23c876a344044645b74825dc8deba3cb",
      "max": 1680,
      "min": 0,
      "orientation": "horizontal",
      "style": "IPY_MODEL_ada673d533d347c19903d3a24b37eec4",
      "value": 1680
     }
    },
    "704c7b0495dc4d52b2e1fc870f2876c2": {
     "model_module": "@jupyter-widgets/controls",
     "model_module_version": "1.5.0",
     "model_name": "FloatProgressModel",
     "state": {
      "_dom_classes": [],
      "_model_module": "@jupyter-widgets/controls",
      "_model_module_version": "1.5.0",
      "_model_name": "FloatProgressModel",
      "_view_count": null,
      "_view_module": "@jupyter-widgets/controls",
      "_view_module_version": "1.5.0",
      "_view_name": "ProgressView",
      "bar_style": "success",
      "description": "100%",
      "description_tooltip": null,
      "layout": "IPY_MODEL_724d1c4970f94c628b4f8693e6d1b7a5",
      "max": 1,
      "min": 0,
      "orientation": "horizontal",
      "style": "IPY_MODEL_d9ce371e0cc34c13b48c5f23e81e9b5f",
      "value": 1
     }
    },
    "723be6a7ac554c69887a4b814492e7ed": {
     "model_module": "@jupyter-widgets/controls",
     "model_module_version": "1.5.0",
     "model_name": "DescriptionStyleModel",
     "state": {
      "_model_module": "@jupyter-widgets/controls",
      "_model_module_version": "1.5.0",
      "_model_name": "DescriptionStyleModel",
      "_view_count": null,
      "_view_module": "@jupyter-widgets/base",
      "_view_module_version": "1.2.0",
      "_view_name": "StyleView",
      "description_width": ""
     }
    },
    "724d1c4970f94c628b4f8693e6d1b7a5": {
     "model_module": "@jupyter-widgets/base",
     "model_module_version": "1.2.0",
     "model_name": "LayoutModel",
     "state": {
      "_model_module": "@jupyter-widgets/base",
      "_model_module_version": "1.2.0",
      "_model_name": "LayoutModel",
      "_view_count": null,
      "_view_module": "@jupyter-widgets/base",
      "_view_module_version": "1.2.0",
      "_view_name": "LayoutView",
      "align_content": null,
      "align_items": null,
      "align_self": null,
      "border": null,
      "bottom": null,
      "display": null,
      "flex": null,
      "flex_flow": null,
      "grid_area": null,
      "grid_auto_columns": null,
      "grid_auto_flow": null,
      "grid_auto_rows": null,
      "grid_column": null,
      "grid_gap": null,
      "grid_row": null,
      "grid_template_areas": null,
      "grid_template_columns": null,
      "grid_template_rows": null,
      "height": null,
      "justify_content": null,
      "justify_items": null,
      "left": null,
      "margin": null,
      "max_height": null,
      "max_width": null,
      "min_height": null,
      "min_width": null,
      "object_fit": null,
      "object_position": null,
      "order": null,
      "overflow": null,
      "overflow_x": null,
      "overflow_y": null,
      "padding": null,
      "right": null,
      "top": null,
      "visibility": null,
      "width": null
     }
    },
    "73894ffd96fd4eb387a983c2d8744565": {
     "model_module": "@jupyter-widgets/controls",
     "model_module_version": "1.5.0",
     "model_name": "DescriptionStyleModel",
     "state": {
      "_model_module": "@jupyter-widgets/controls",
      "_model_module_version": "1.5.0",
      "_model_name": "DescriptionStyleModel",
      "_view_count": null,
      "_view_module": "@jupyter-widgets/base",
      "_view_module_version": "1.2.0",
      "_view_name": "StyleView",
      "description_width": ""
     }
    },
    "73cdc847928c49a99f404ed8689efaac": {
     "model_module": "@jupyter-widgets/controls",
     "model_module_version": "1.5.0",
     "model_name": "HTMLModel",
     "state": {
      "_dom_classes": [],
      "_model_module": "@jupyter-widgets/controls",
      "_model_module_version": "1.5.0",
      "_model_name": "HTMLModel",
      "_view_count": null,
      "_view_module": "@jupyter-widgets/controls",
      "_view_module_version": "1.5.0",
      "_view_name": "HTMLView",
      "description": "",
      "description_tooltip": null,
      "layout": "IPY_MODEL_1c297360dc834eb8b8d7dd7844f1208b",
      "placeholder": "​",
      "style": "IPY_MODEL_f7b8b9d8b9634eaa9817d1f8df8d54fb",
      "value": " 1/1 [00:47&lt;00:00, 47.05s/ba]"
     }
    },
    "7ef86d04fdd0489386f585c455f98870": {
     "model_module": "@jupyter-widgets/base",
     "model_module_version": "1.2.0",
     "model_name": "LayoutModel",
     "state": {
      "_model_module": "@jupyter-widgets/base",
      "_model_module_version": "1.2.0",
      "_model_name": "LayoutModel",
      "_view_count": null,
      "_view_module": "@jupyter-widgets/base",
      "_view_module_version": "1.2.0",
      "_view_name": "LayoutView",
      "align_content": null,
      "align_items": null,
      "align_self": null,
      "border": null,
      "bottom": null,
      "display": null,
      "flex": null,
      "flex_flow": null,
      "grid_area": null,
      "grid_auto_columns": null,
      "grid_auto_flow": null,
      "grid_auto_rows": null,
      "grid_column": null,
      "grid_gap": null,
      "grid_row": null,
      "grid_template_areas": null,
      "grid_template_columns": null,
      "grid_template_rows": null,
      "height": null,
      "justify_content": null,
      "justify_items": null,
      "left": null,
      "margin": null,
      "max_height": null,
      "max_width": null,
      "min_height": null,
      "min_width": null,
      "object_fit": null,
      "object_position": null,
      "order": null,
      "overflow": null,
      "overflow_x": null,
      "overflow_y": null,
      "padding": null,
      "right": null,
      "top": null,
      "visibility": null,
      "width": null
     }
    },
    "7efbfabf9ba44b2d8c9905114cc2f70c": {
     "model_module": "@jupyter-widgets/base",
     "model_module_version": "1.2.0",
     "model_name": "LayoutModel",
     "state": {
      "_model_module": "@jupyter-widgets/base",
      "_model_module_version": "1.2.0",
      "_model_name": "LayoutModel",
      "_view_count": null,
      "_view_module": "@jupyter-widgets/base",
      "_view_module_version": "1.2.0",
      "_view_name": "LayoutView",
      "align_content": null,
      "align_items": null,
      "align_self": null,
      "border": null,
      "bottom": null,
      "display": null,
      "flex": null,
      "flex_flow": null,
      "grid_area": null,
      "grid_auto_columns": null,
      "grid_auto_flow": null,
      "grid_auto_rows": null,
      "grid_column": null,
      "grid_gap": null,
      "grid_row": null,
      "grid_template_areas": null,
      "grid_template_columns": null,
      "grid_template_rows": null,
      "height": null,
      "justify_content": null,
      "justify_items": null,
      "left": null,
      "margin": null,
      "max_height": null,
      "max_width": null,
      "min_height": null,
      "min_width": null,
      "object_fit": null,
      "object_position": null,
      "order": null,
      "overflow": null,
      "overflow_x": null,
      "overflow_y": null,
      "padding": null,
      "right": null,
      "top": null,
      "visibility": null,
      "width": null
     }
    },
    "7f60e35fcec14a6a875fe60499d64866": {
     "model_module": "@jupyter-widgets/base",
     "model_module_version": "1.2.0",
     "model_name": "LayoutModel",
     "state": {
      "_model_module": "@jupyter-widgets/base",
      "_model_module_version": "1.2.0",
      "_model_name": "LayoutModel",
      "_view_count": null,
      "_view_module": "@jupyter-widgets/base",
      "_view_module_version": "1.2.0",
      "_view_name": "LayoutView",
      "align_content": null,
      "align_items": null,
      "align_self": null,
      "border": null,
      "bottom": null,
      "display": null,
      "flex": null,
      "flex_flow": null,
      "grid_area": null,
      "grid_auto_columns": null,
      "grid_auto_flow": null,
      "grid_auto_rows": null,
      "grid_column": null,
      "grid_gap": null,
      "grid_row": null,
      "grid_template_areas": null,
      "grid_template_columns": null,
      "grid_template_rows": null,
      "height": null,
      "justify_content": null,
      "justify_items": null,
      "left": null,
      "margin": null,
      "max_height": null,
      "max_width": null,
      "min_height": null,
      "min_width": null,
      "object_fit": null,
      "object_position": null,
      "order": null,
      "overflow": null,
      "overflow_x": null,
      "overflow_y": null,
      "padding": null,
      "right": null,
      "top": null,
      "visibility": null,
      "width": null
     }
    },
    "7f6de27e32554ba0943406b02b9a4b64": {
     "model_module": "@jupyter-widgets/base",
     "model_module_version": "1.2.0",
     "model_name": "LayoutModel",
     "state": {
      "_model_module": "@jupyter-widgets/base",
      "_model_module_version": "1.2.0",
      "_model_name": "LayoutModel",
      "_view_count": null,
      "_view_module": "@jupyter-widgets/base",
      "_view_module_version": "1.2.0",
      "_view_name": "LayoutView",
      "align_content": null,
      "align_items": null,
      "align_self": null,
      "border": null,
      "bottom": null,
      "display": null,
      "flex": null,
      "flex_flow": null,
      "grid_area": null,
      "grid_auto_columns": null,
      "grid_auto_flow": null,
      "grid_auto_rows": null,
      "grid_column": null,
      "grid_gap": null,
      "grid_row": null,
      "grid_template_areas": null,
      "grid_template_columns": null,
      "grid_template_rows": null,
      "height": null,
      "justify_content": null,
      "justify_items": null,
      "left": null,
      "margin": null,
      "max_height": null,
      "max_width": null,
      "min_height": null,
      "min_width": null,
      "object_fit": null,
      "object_position": null,
      "order": null,
      "overflow": null,
      "overflow_x": null,
      "overflow_y": null,
      "padding": null,
      "right": null,
      "top": null,
      "visibility": null,
      "width": null
     }
    },
    "7ffb88f51d7b42dc8753697e5caad80d": {
     "model_module": "@jupyter-widgets/controls",
     "model_module_version": "1.5.0",
     "model_name": "FloatProgressModel",
     "state": {
      "_dom_classes": [],
      "_model_module": "@jupyter-widgets/controls",
      "_model_module_version": "1.5.0",
      "_model_name": "FloatProgressModel",
      "_view_count": null,
      "_view_module": "@jupyter-widgets/controls",
      "_view_module_version": "1.5.0",
      "_view_name": "ProgressView",
      "bar_style": "success",
      "description": "#3: 100%",
      "description_tooltip": null,
      "layout": "IPY_MODEL_7ef86d04fdd0489386f585c455f98870",
      "max": 53,
      "min": 0,
      "orientation": "horizontal",
      "style": "IPY_MODEL_171d534be17d4bc3a361a5d99e345fe7",
      "value": 53
     }
    },
    "8018b6fa50724d20adac39fb12fa148b": {
     "model_module": "@jupyter-widgets/controls",
     "model_module_version": "1.5.0",
     "model_name": "FloatProgressModel",
     "state": {
      "_dom_classes": [],
      "_model_module": "@jupyter-widgets/controls",
      "_model_module_version": "1.5.0",
      "_model_name": "FloatProgressModel",
      "_view_count": null,
      "_view_module": "@jupyter-widgets/controls",
      "_view_module_version": "1.5.0",
      "_view_name": "ProgressView",
      "bar_style": "success",
      "description": "#2: 100%",
      "description_tooltip": null,
      "layout": "IPY_MODEL_b87b31608ad94614ad9fedfcb685bc6e",
      "max": 145,
      "min": 0,
      "orientation": "horizontal",
      "style": "IPY_MODEL_95620f3f3f204ac4839a6806e168fce3",
      "value": 145
     }
    },
    "835386a9f6f44d798d9bd5dce56e88ca": {
     "model_module": "@jupyter-widgets/controls",
     "model_module_version": "1.5.0",
     "model_name": "ProgressStyleModel",
     "state": {
      "_model_module": "@jupyter-widgets/controls",
      "_model_module_version": "1.5.0",
      "_model_name": "ProgressStyleModel",
      "_view_count": null,
      "_view_module": "@jupyter-widgets/base",
      "_view_module_version": "1.2.0",
      "_view_name": "StyleView",
      "bar_color": null,
      "description_width": "initial"
     }
    },
    "847526c9c641469e8a7e8aa1d0e05d55": {
     "model_module": "@jupyter-widgets/base",
     "model_module_version": "1.2.0",
     "model_name": "LayoutModel",
     "state": {
      "_model_module": "@jupyter-widgets/base",
      "_model_module_version": "1.2.0",
      "_model_name": "LayoutModel",
      "_view_count": null,
      "_view_module": "@jupyter-widgets/base",
      "_view_module_version": "1.2.0",
      "_view_name": "LayoutView",
      "align_content": null,
      "align_items": null,
      "align_self": null,
      "border": null,
      "bottom": null,
      "display": null,
      "flex": null,
      "flex_flow": null,
      "grid_area": null,
      "grid_auto_columns": null,
      "grid_auto_flow": null,
      "grid_auto_rows": null,
      "grid_column": null,
      "grid_gap": null,
      "grid_row": null,
      "grid_template_areas": null,
      "grid_template_columns": null,
      "grid_template_rows": null,
      "height": null,
      "justify_content": null,
      "justify_items": null,
      "left": null,
      "margin": null,
      "max_height": null,
      "max_width": null,
      "min_height": null,
      "min_width": null,
      "object_fit": null,
      "object_position": null,
      "order": null,
      "overflow": null,
      "overflow_x": null,
      "overflow_y": null,
      "padding": null,
      "right": null,
      "top": null,
      "visibility": null,
      "width": null
     }
    },
    "8ab1e36d6cda412aa9d61d562d37d4b3": {
     "model_module": "@jupyter-widgets/controls",
     "model_module_version": "1.5.0",
     "model_name": "FloatProgressModel",
     "state": {
      "_dom_classes": [],
      "_model_module": "@jupyter-widgets/controls",
      "_model_module_version": "1.5.0",
      "_model_name": "FloatProgressModel",
      "_view_count": null,
      "_view_module": "@jupyter-widgets/controls",
      "_view_module_version": "1.5.0",
      "_view_name": "ProgressView",
      "bar_style": "success",
      "description": "#1: 100%",
      "description_tooltip": null,
      "layout": "IPY_MODEL_290657585fbd4ab6adcfb9a5b3fbd24d",
      "max": 53,
      "min": 0,
      "orientation": "horizontal",
      "style": "IPY_MODEL_ca371478247248dd8baa3011a4fbfe47",
      "value": 53
     }
    },
    "8bdc91a879424cae99998259a191e195": {
     "model_module": "@jupyter-widgets/base",
     "model_module_version": "1.2.0",
     "model_name": "LayoutModel",
     "state": {
      "_model_module": "@jupyter-widgets/base",
      "_model_module_version": "1.2.0",
      "_model_name": "LayoutModel",
      "_view_count": null,
      "_view_module": "@jupyter-widgets/base",
      "_view_module_version": "1.2.0",
      "_view_name": "LayoutView",
      "align_content": null,
      "align_items": null,
      "align_self": null,
      "border": null,
      "bottom": null,
      "display": null,
      "flex": null,
      "flex_flow": null,
      "grid_area": null,
      "grid_auto_columns": null,
      "grid_auto_flow": null,
      "grid_auto_rows": null,
      "grid_column": null,
      "grid_gap": null,
      "grid_row": null,
      "grid_template_areas": null,
      "grid_template_columns": null,
      "grid_template_rows": null,
      "height": null,
      "justify_content": null,
      "justify_items": null,
      "left": null,
      "margin": null,
      "max_height": null,
      "max_width": null,
      "min_height": null,
      "min_width": null,
      "object_fit": null,
      "object_position": null,
      "order": null,
      "overflow": null,
      "overflow_x": null,
      "overflow_y": null,
      "padding": null,
      "right": null,
      "top": null,
      "visibility": null,
      "width": null
     }
    },
    "8c74ee03e07f497088d72b3f55b521c3": {
     "model_module": "@jupyter-widgets/base",
     "model_module_version": "1.2.0",
     "model_name": "LayoutModel",
     "state": {
      "_model_module": "@jupyter-widgets/base",
      "_model_module_version": "1.2.0",
      "_model_name": "LayoutModel",
      "_view_count": null,
      "_view_module": "@jupyter-widgets/base",
      "_view_module_version": "1.2.0",
      "_view_name": "LayoutView",
      "align_content": null,
      "align_items": null,
      "align_self": null,
      "border": null,
      "bottom": null,
      "display": null,
      "flex": null,
      "flex_flow": null,
      "grid_area": null,
      "grid_auto_columns": null,
      "grid_auto_flow": null,
      "grid_auto_rows": null,
      "grid_column": null,
      "grid_gap": null,
      "grid_row": null,
      "grid_template_areas": null,
      "grid_template_columns": null,
      "grid_template_rows": null,
      "height": null,
      "justify_content": null,
      "justify_items": null,
      "left": null,
      "margin": null,
      "max_height": null,
      "max_width": null,
      "min_height": null,
      "min_width": null,
      "object_fit": null,
      "object_position": null,
      "order": null,
      "overflow": null,
      "overflow_x": null,
      "overflow_y": null,
      "padding": null,
      "right": null,
      "top": null,
      "visibility": null,
      "width": null
     }
    },
    "907a25248d694d4ea323339e9329463b": {
     "model_module": "@jupyter-widgets/base",
     "model_module_version": "1.2.0",
     "model_name": "LayoutModel",
     "state": {
      "_model_module": "@jupyter-widgets/base",
      "_model_module_version": "1.2.0",
      "_model_name": "LayoutModel",
      "_view_count": null,
      "_view_module": "@jupyter-widgets/base",
      "_view_module_version": "1.2.0",
      "_view_name": "LayoutView",
      "align_content": null,
      "align_items": null,
      "align_self": null,
      "border": null,
      "bottom": null,
      "display": null,
      "flex": null,
      "flex_flow": null,
      "grid_area": null,
      "grid_auto_columns": null,
      "grid_auto_flow": null,
      "grid_auto_rows": null,
      "grid_column": null,
      "grid_gap": null,
      "grid_row": null,
      "grid_template_areas": null,
      "grid_template_columns": null,
      "grid_template_rows": null,
      "height": null,
      "justify_content": null,
      "justify_items": null,
      "left": null,
      "margin": null,
      "max_height": null,
      "max_width": null,
      "min_height": null,
      "min_width": null,
      "object_fit": null,
      "object_position": null,
      "order": null,
      "overflow": null,
      "overflow_x": null,
      "overflow_y": null,
      "padding": null,
      "right": null,
      "top": null,
      "visibility": null,
      "width": null
     }
    },
    "95620f3f3f204ac4839a6806e168fce3": {
     "model_module": "@jupyter-widgets/controls",
     "model_module_version": "1.5.0",
     "model_name": "ProgressStyleModel",
     "state": {
      "_model_module": "@jupyter-widgets/controls",
      "_model_module_version": "1.5.0",
      "_model_name": "ProgressStyleModel",
      "_view_count": null,
      "_view_module": "@jupyter-widgets/base",
      "_view_module_version": "1.2.0",
      "_view_name": "StyleView",
      "bar_color": null,
      "description_width": "initial"
     }
    },
    "98bf606e152845f7af422dfb79e875c3": {
     "model_module": "@jupyter-widgets/controls",
     "model_module_version": "1.5.0",
     "model_name": "HTMLModel",
     "state": {
      "_dom_classes": [],
      "_model_module": "@jupyter-widgets/controls",
      "_model_module_version": "1.5.0",
      "_model_name": "HTMLModel",
      "_view_count": null,
      "_view_module": "@jupyter-widgets/controls",
      "_view_module_version": "1.5.0",
      "_view_name": "HTMLView",
      "description": "",
      "description_tooltip": null,
      "layout": "IPY_MODEL_8c74ee03e07f497088d72b3f55b521c3",
      "placeholder": "​",
      "style": "IPY_MODEL_42674dc5fcd0452b8128bf1401458f90",
      "value": " 53/53 [00:21&lt;00:00,  2.45ba/s]"
     }
    },
    "99be4740a04b440895462f8c609b8ca2": {
     "model_module": "@jupyter-widgets/base",
     "model_module_version": "1.2.0",
     "model_name": "LayoutModel",
     "state": {
      "_model_module": "@jupyter-widgets/base",
      "_model_module_version": "1.2.0",
      "_model_name": "LayoutModel",
      "_view_count": null,
      "_view_module": "@jupyter-widgets/base",
      "_view_module_version": "1.2.0",
      "_view_name": "LayoutView",
      "align_content": null,
      "align_items": null,
      "align_self": null,
      "border": null,
      "bottom": null,
      "display": null,
      "flex": null,
      "flex_flow": null,
      "grid_area": null,
      "grid_auto_columns": null,
      "grid_auto_flow": null,
      "grid_auto_rows": null,
      "grid_column": null,
      "grid_gap": null,
      "grid_row": null,
      "grid_template_areas": null,
      "grid_template_columns": null,
      "grid_template_rows": null,
      "height": null,
      "justify_content": null,
      "justify_items": null,
      "left": null,
      "margin": null,
      "max_height": null,
      "max_width": null,
      "min_height": null,
      "min_width": null,
      "object_fit": null,
      "object_position": null,
      "order": null,
      "overflow": null,
      "overflow_x": null,
      "overflow_y": null,
      "padding": null,
      "right": null,
      "top": null,
      "visibility": null,
      "width": null
     }
    },
    "9ce9548b953a42c9bdeef28d77663e60": {
     "model_module": "@jupyter-widgets/controls",
     "model_module_version": "1.5.0",
     "model_name": "HTMLModel",
     "state": {
      "_dom_classes": [],
      "_model_module": "@jupyter-widgets/controls",
      "_model_module_version": "1.5.0",
      "_model_name": "HTMLModel",
      "_view_count": null,
      "_view_module": "@jupyter-widgets/controls",
      "_view_module_version": "1.5.0",
      "_view_name": "HTMLView",
      "description": "",
      "description_tooltip": null,
      "layout": "IPY_MODEL_7efbfabf9ba44b2d8c9905114cc2f70c",
      "placeholder": "​",
      "style": "IPY_MODEL_73894ffd96fd4eb387a983c2d8744565",
      "value": " 1/1 [00:56&lt;00:00, 56.65s/ba]"
     }
    },
    "9e73f99f1d1b4ecdbfe0f0dc5844955a": {
     "model_module": "@jupyter-widgets/controls",
     "model_module_version": "1.5.0",
     "model_name": "HBoxModel",
     "state": {
      "_dom_classes": [],
      "_model_module": "@jupyter-widgets/controls",
      "_model_module_version": "1.5.0",
      "_model_name": "HBoxModel",
      "_view_count": null,
      "_view_module": "@jupyter-widgets/controls",
      "_view_module_version": "1.5.0",
      "_view_name": "HBoxView",
      "box_style": "",
      "children": [
       "IPY_MODEL_fe32247271f74190b10eef2bfcf2e507",
       "IPY_MODEL_e228a9304970445196c9df6fc27716d6"
      ],
      "layout": "IPY_MODEL_306eb8a6a382423fb144b20f2aa34984"
     }
    },
    "a83640392e974feda2caf8bf2d8cb295": {
     "model_module": "@jupyter-widgets/base",
     "model_module_version": "1.2.0",
     "model_name": "LayoutModel",
     "state": {
      "_model_module": "@jupyter-widgets/base",
      "_model_module_version": "1.2.0",
      "_model_name": "LayoutModel",
      "_view_count": null,
      "_view_module": "@jupyter-widgets/base",
      "_view_module_version": "1.2.0",
      "_view_name": "LayoutView",
      "align_content": null,
      "align_items": null,
      "align_self": null,
      "border": null,
      "bottom": null,
      "display": null,
      "flex": null,
      "flex_flow": null,
      "grid_area": null,
      "grid_auto_columns": null,
      "grid_auto_flow": null,
      "grid_auto_rows": null,
      "grid_column": null,
      "grid_gap": null,
      "grid_row": null,
      "grid_template_areas": null,
      "grid_template_columns": null,
      "grid_template_rows": null,
      "height": null,
      "justify_content": null,
      "justify_items": null,
      "left": null,
      "margin": null,
      "max_height": null,
      "max_width": null,
      "min_height": null,
      "min_width": null,
      "object_fit": null,
      "object_position": null,
      "order": null,
      "overflow": null,
      "overflow_x": null,
      "overflow_y": null,
      "padding": null,
      "right": null,
      "top": null,
      "visibility": null,
      "width": null
     }
    },
    "ac0d30e3b3c9419d99b85ca6620d92b3": {
     "model_module": "@jupyter-widgets/base",
     "model_module_version": "1.2.0",
     "model_name": "LayoutModel",
     "state": {
      "_model_module": "@jupyter-widgets/base",
      "_model_module_version": "1.2.0",
      "_model_name": "LayoutModel",
      "_view_count": null,
      "_view_module": "@jupyter-widgets/base",
      "_view_module_version": "1.2.0",
      "_view_name": "LayoutView",
      "align_content": null,
      "align_items": null,
      "align_self": null,
      "border": null,
      "bottom": null,
      "display": null,
      "flex": null,
      "flex_flow": null,
      "grid_area": null,
      "grid_auto_columns": null,
      "grid_auto_flow": null,
      "grid_auto_rows": null,
      "grid_column": null,
      "grid_gap": null,
      "grid_row": null,
      "grid_template_areas": null,
      "grid_template_columns": null,
      "grid_template_rows": null,
      "height": null,
      "justify_content": null,
      "justify_items": null,
      "left": null,
      "margin": null,
      "max_height": null,
      "max_width": null,
      "min_height": null,
      "min_width": null,
      "object_fit": null,
      "object_position": null,
      "order": null,
      "overflow": null,
      "overflow_x": null,
      "overflow_y": null,
      "padding": null,
      "right": null,
      "top": null,
      "visibility": null,
      "width": null
     }
    },
    "ada673d533d347c19903d3a24b37eec4": {
     "model_module": "@jupyter-widgets/controls",
     "model_module_version": "1.5.0",
     "model_name": "ProgressStyleModel",
     "state": {
      "_model_module": "@jupyter-widgets/controls",
      "_model_module_version": "1.5.0",
      "_model_name": "ProgressStyleModel",
      "_view_count": null,
      "_view_module": "@jupyter-widgets/base",
      "_view_module_version": "1.2.0",
      "_view_name": "StyleView",
      "bar_color": null,
      "description_width": "initial"
     }
    },
    "b19107d7bb59426d8b8349189672bdce": {
     "model_module": "@jupyter-widgets/controls",
     "model_module_version": "1.5.0",
     "model_name": "HBoxModel",
     "state": {
      "_dom_classes": [],
      "_model_module": "@jupyter-widgets/controls",
      "_model_module_version": "1.5.0",
      "_model_name": "HBoxModel",
      "_view_count": null,
      "_view_module": "@jupyter-widgets/controls",
      "_view_module_version": "1.5.0",
      "_view_name": "HBoxView",
      "box_style": "",
      "children": [
       "IPY_MODEL_8ab1e36d6cda412aa9d61d562d37d4b3",
       "IPY_MODEL_e2d6e675b6d24f8496393ec96d150ac7"
      ],
      "layout": "IPY_MODEL_847526c9c641469e8a7e8aa1d0e05d55"
     }
    },
    "b1f039e26d4542d0890c845cd10d819f": {
     "model_module": "@jupyter-widgets/controls",
     "model_module_version": "1.5.0",
     "model_name": "FloatProgressModel",
     "state": {
      "_dom_classes": [],
      "_model_module": "@jupyter-widgets/controls",
      "_model_module_version": "1.5.0",
      "_model_name": "FloatProgressModel",
      "_view_count": null,
      "_view_module": "@jupyter-widgets/controls",
      "_view_module_version": "1.5.0",
      "_view_name": "ProgressView",
      "bar_style": "success",
      "description": "100%",
      "description_tooltip": null,
      "layout": "IPY_MODEL_e187a8b813854455a43cb9868962c4a0",
      "max": 1,
      "min": 0,
      "orientation": "horizontal",
      "style": "IPY_MODEL_835386a9f6f44d798d9bd5dce56e88ca",
      "value": 1
     }
    },
    "b496b36c85db48b89581550b7bb61c72": {
     "model_module": "@jupyter-widgets/controls",
     "model_module_version": "1.5.0",
     "model_name": "HTMLModel",
     "state": {
      "_dom_classes": [],
      "_model_module": "@jupyter-widgets/controls",
      "_model_module_version": "1.5.0",
      "_model_name": "HTMLModel",
      "_view_count": null,
      "_view_module": "@jupyter-widgets/controls",
      "_view_module_version": "1.5.0",
      "_view_name": "HTMLView",
      "description": "",
      "description_tooltip": null,
      "layout": "IPY_MODEL_7f60e35fcec14a6a875fe60499d64866",
      "placeholder": "​",
      "style": "IPY_MODEL_26b3e153106a40a8bee51a43cc48ed40",
      "value": " 145/145 [00:58&lt;00:00,  2.49ba/s]"
     }
    },
    "b4cefe57ba3048ffbb3f5e14e0893ce7": {
     "model_module": "@jupyter-widgets/controls",
     "model_module_version": "1.5.0",
     "model_name": "ProgressStyleModel",
     "state": {
      "_model_module": "@jupyter-widgets/controls",
      "_model_module_version": "1.5.0",
      "_model_name": "ProgressStyleModel",
      "_view_count": null,
      "_view_module": "@jupyter-widgets/base",
      "_view_module_version": "1.2.0",
      "_view_name": "StyleView",
      "bar_color": null,
      "description_width": "initial"
     }
    },
    "b597d2bb04d34fddaca3f32c23b771ac": {
     "model_module": "@jupyter-widgets/controls",
     "model_module_version": "1.5.0",
     "model_name": "DescriptionStyleModel",
     "state": {
      "_model_module": "@jupyter-widgets/controls",
      "_model_module_version": "1.5.0",
      "_model_name": "DescriptionStyleModel",
      "_view_count": null,
      "_view_module": "@jupyter-widgets/base",
      "_view_module_version": "1.2.0",
      "_view_name": "StyleView",
      "description_width": ""
     }
    },
    "b87b31608ad94614ad9fedfcb685bc6e": {
     "model_module": "@jupyter-widgets/base",
     "model_module_version": "1.2.0",
     "model_name": "LayoutModel",
     "state": {
      "_model_module": "@jupyter-widgets/base",
      "_model_module_version": "1.2.0",
      "_model_name": "LayoutModel",
      "_view_count": null,
      "_view_module": "@jupyter-widgets/base",
      "_view_module_version": "1.2.0",
      "_view_name": "LayoutView",
      "align_content": null,
      "align_items": null,
      "align_self": null,
      "border": null,
      "bottom": null,
      "display": null,
      "flex": null,
      "flex_flow": null,
      "grid_area": null,
      "grid_auto_columns": null,
      "grid_auto_flow": null,
      "grid_auto_rows": null,
      "grid_column": null,
      "grid_gap": null,
      "grid_row": null,
      "grid_template_areas": null,
      "grid_template_columns": null,
      "grid_template_rows": null,
      "height": null,
      "justify_content": null,
      "justify_items": null,
      "left": null,
      "margin": null,
      "max_height": null,
      "max_width": null,
      "min_height": null,
      "min_width": null,
      "object_fit": null,
      "object_position": null,
      "order": null,
      "overflow": null,
      "overflow_x": null,
      "overflow_y": null,
      "padding": null,
      "right": null,
      "top": null,
      "visibility": null,
      "width": null
     }
    },
    "b89a47dc39734fbdba859277c89e7d55": {
     "model_module": "@jupyter-widgets/controls",
     "model_module_version": "1.5.0",
     "model_name": "HTMLModel",
     "state": {
      "_dom_classes": [],
      "_model_module": "@jupyter-widgets/controls",
      "_model_module_version": "1.5.0",
      "_model_name": "HTMLModel",
      "_view_count": null,
      "_view_module": "@jupyter-widgets/controls",
      "_view_module_version": "1.5.0",
      "_view_name": "HTMLView",
      "description": "",
      "description_tooltip": null,
      "layout": "IPY_MODEL_6d10b5077e844e7385997f45276151a5",
      "placeholder": "​",
      "style": "IPY_MODEL_b597d2bb04d34fddaca3f32c23b771ac",
      "value": " 53/53 [00:21&lt;00:00,  2.45ba/s]"
     }
    },
    "c3e95481522f49bc87d56a8865e91638": {
     "model_module": "@jupyter-widgets/base",
     "model_module_version": "1.2.0",
     "model_name": "LayoutModel",
     "state": {
      "_model_module": "@jupyter-widgets/base",
      "_model_module_version": "1.2.0",
      "_model_name": "LayoutModel",
      "_view_count": null,
      "_view_module": "@jupyter-widgets/base",
      "_view_module_version": "1.2.0",
      "_view_name": "LayoutView",
      "align_content": null,
      "align_items": null,
      "align_self": null,
      "border": null,
      "bottom": null,
      "display": null,
      "flex": null,
      "flex_flow": null,
      "grid_area": null,
      "grid_auto_columns": null,
      "grid_auto_flow": null,
      "grid_auto_rows": null,
      "grid_column": null,
      "grid_gap": null,
      "grid_row": null,
      "grid_template_areas": null,
      "grid_template_columns": null,
      "grid_template_rows": null,
      "height": null,
      "justify_content": null,
      "justify_items": null,
      "left": null,
      "margin": null,
      "max_height": null,
      "max_width": null,
      "min_height": null,
      "min_width": null,
      "object_fit": null,
      "object_position": null,
      "order": null,
      "overflow": null,
      "overflow_x": null,
      "overflow_y": null,
      "padding": null,
      "right": null,
      "top": null,
      "visibility": null,
      "width": null
     }
    },
    "ca371478247248dd8baa3011a4fbfe47": {
     "model_module": "@jupyter-widgets/controls",
     "model_module_version": "1.5.0",
     "model_name": "ProgressStyleModel",
     "state": {
      "_model_module": "@jupyter-widgets/controls",
      "_model_module_version": "1.5.0",
      "_model_name": "ProgressStyleModel",
      "_view_count": null,
      "_view_module": "@jupyter-widgets/base",
      "_view_module_version": "1.2.0",
      "_view_name": "StyleView",
      "bar_color": null,
      "description_width": "initial"
     }
    },
    "d7080a9c2aa94ff1999c02269a1401d4": {
     "model_module": "@jupyter-widgets/controls",
     "model_module_version": "1.5.0",
     "model_name": "HBoxModel",
     "state": {
      "_dom_classes": [],
      "_model_module": "@jupyter-widgets/controls",
      "_model_module_version": "1.5.0",
      "_model_name": "HBoxModel",
      "_view_count": null,
      "_view_module": "@jupyter-widgets/controls",
      "_view_module_version": "1.5.0",
      "_view_name": "HBoxView",
      "box_style": "",
      "children": [
       "IPY_MODEL_7ffb88f51d7b42dc8753697e5caad80d",
       "IPY_MODEL_b89a47dc39734fbdba859277c89e7d55"
      ],
      "layout": "IPY_MODEL_a83640392e974feda2caf8bf2d8cb295"
     }
    },
    "d7b502b349ef4ae7979c392614d7921a": {
     "model_module": "@jupyter-widgets/controls",
     "model_module_version": "1.5.0",
     "model_name": "HBoxModel",
     "state": {
      "_dom_classes": [],
      "_model_module": "@jupyter-widgets/controls",
      "_model_module_version": "1.5.0",
      "_model_name": "HBoxModel",
      "_view_count": null,
      "_view_module": "@jupyter-widgets/controls",
      "_view_module_version": "1.5.0",
      "_view_name": "HBoxView",
      "box_style": "",
      "children": [
       "IPY_MODEL_38d1e3d38c69470f9aebf1462c1e77b5",
       "IPY_MODEL_b496b36c85db48b89581550b7bb61c72"
      ],
      "layout": "IPY_MODEL_99be4740a04b440895462f8c609b8ca2"
     }
    },
    "d9ce371e0cc34c13b48c5f23e81e9b5f": {
     "model_module": "@jupyter-widgets/controls",
     "model_module_version": "1.5.0",
     "model_name": "ProgressStyleModel",
     "state": {
      "_model_module": "@jupyter-widgets/controls",
      "_model_module_version": "1.5.0",
      "_model_name": "ProgressStyleModel",
      "_view_count": null,
      "_view_module": "@jupyter-widgets/base",
      "_view_module_version": "1.2.0",
      "_view_name": "StyleView",
      "bar_color": null,
      "description_width": "initial"
     }
    },
    "d9f69a77108e4a61a96dd4609fe4365c": {
     "model_module": "@jupyter-widgets/controls",
     "model_module_version": "1.5.0",
     "model_name": "HBoxModel",
     "state": {
      "_dom_classes": [],
      "_model_module": "@jupyter-widgets/controls",
      "_model_module_version": "1.5.0",
      "_model_name": "HBoxModel",
      "_view_count": null,
      "_view_module": "@jupyter-widgets/controls",
      "_view_module_version": "1.5.0",
      "_view_name": "HBoxView",
      "box_style": "",
      "children": [
       "IPY_MODEL_e6a7354b5e74480d92c3be073d05c6cf",
       "IPY_MODEL_fdeaaa2d47814caca542b6668ea219f1"
      ],
      "layout": "IPY_MODEL_7f6de27e32554ba0943406b02b9a4b64"
     }
    },
    "da098f72ac914e3c843101461c80958f": {
     "model_module": "@jupyter-widgets/base",
     "model_module_version": "1.2.0",
     "model_name": "LayoutModel",
     "state": {
      "_model_module": "@jupyter-widgets/base",
      "_model_module_version": "1.2.0",
      "_model_name": "LayoutModel",
      "_view_count": null,
      "_view_module": "@jupyter-widgets/base",
      "_view_module_version": "1.2.0",
      "_view_name": "LayoutView",
      "align_content": null,
      "align_items": null,
      "align_self": null,
      "border": null,
      "bottom": null,
      "display": null,
      "flex": null,
      "flex_flow": null,
      "grid_area": null,
      "grid_auto_columns": null,
      "grid_auto_flow": null,
      "grid_auto_rows": null,
      "grid_column": null,
      "grid_gap": null,
      "grid_row": null,
      "grid_template_areas": null,
      "grid_template_columns": null,
      "grid_template_rows": null,
      "height": null,
      "justify_content": null,
      "justify_items": null,
      "left": null,
      "margin": null,
      "max_height": null,
      "max_width": null,
      "min_height": null,
      "min_width": null,
      "object_fit": null,
      "object_position": null,
      "order": null,
      "overflow": null,
      "overflow_x": null,
      "overflow_y": null,
      "padding": null,
      "right": null,
      "top": null,
      "visibility": null,
      "width": null
     }
    },
    "db58cbb663c5428f8052b1b5a50f6d93": {
     "model_module": "@jupyter-widgets/controls",
     "model_module_version": "1.5.0",
     "model_name": "HBoxModel",
     "state": {
      "_dom_classes": [],
      "_model_module": "@jupyter-widgets/controls",
      "_model_module_version": "1.5.0",
      "_model_name": "HBoxModel",
      "_view_count": null,
      "_view_module": "@jupyter-widgets/controls",
      "_view_module_version": "1.5.0",
      "_view_name": "HBoxView",
      "box_style": "",
      "children": [
       "IPY_MODEL_b1f039e26d4542d0890c845cd10d819f",
       "IPY_MODEL_73cdc847928c49a99f404ed8689efaac"
      ],
      "layout": "IPY_MODEL_34aa4c398e9c430cbbd6884a6bffd215"
     }
    },
    "e187a8b813854455a43cb9868962c4a0": {
     "model_module": "@jupyter-widgets/base",
     "model_module_version": "1.2.0",
     "model_name": "LayoutModel",
     "state": {
      "_model_module": "@jupyter-widgets/base",
      "_model_module_version": "1.2.0",
      "_model_name": "LayoutModel",
      "_view_count": null,
      "_view_module": "@jupyter-widgets/base",
      "_view_module_version": "1.2.0",
      "_view_name": "LayoutView",
      "align_content": null,
      "align_items": null,
      "align_self": null,
      "border": null,
      "bottom": null,
      "display": null,
      "flex": null,
      "flex_flow": null,
      "grid_area": null,
      "grid_auto_columns": null,
      "grid_auto_flow": null,
      "grid_auto_rows": null,
      "grid_column": null,
      "grid_gap": null,
      "grid_row": null,
      "grid_template_areas": null,
      "grid_template_columns": null,
      "grid_template_rows": null,
      "height": null,
      "justify_content": null,
      "justify_items": null,
      "left": null,
      "margin": null,
      "max_height": null,
      "max_width": null,
      "min_height": null,
      "min_width": null,
      "object_fit": null,
      "object_position": null,
      "order": null,
      "overflow": null,
      "overflow_x": null,
      "overflow_y": null,
      "padding": null,
      "right": null,
      "top": null,
      "visibility": null,
      "width": null
     }
    },
    "e228a9304970445196c9df6fc27716d6": {
     "model_module": "@jupyter-widgets/controls",
     "model_module_version": "1.5.0",
     "model_name": "HTMLModel",
     "state": {
      "_dom_classes": [],
      "_model_module": "@jupyter-widgets/controls",
      "_model_module_version": "1.5.0",
      "_model_name": "HTMLModel",
      "_view_count": null,
      "_view_module": "@jupyter-widgets/controls",
      "_view_module_version": "1.5.0",
      "_view_name": "HTMLView",
      "description": "",
      "description_tooltip": null,
      "layout": "IPY_MODEL_40c650a488a145a5b6f11c37f993ec6e",
      "placeholder": "​",
      "style": "IPY_MODEL_029cacd0917745e4805c430f90ca6fb8",
      "value": " 145/145 [00:57&lt;00:00,  2.52ba/s]"
     }
    },
    "e2d6e675b6d24f8496393ec96d150ac7": {
     "model_module": "@jupyter-widgets/controls",
     "model_module_version": "1.5.0",
     "model_name": "HTMLModel",
     "state": {
      "_dom_classes": [],
      "_model_module": "@jupyter-widgets/controls",
      "_model_module_version": "1.5.0",
      "_model_name": "HTMLModel",
      "_view_count": null,
      "_view_module": "@jupyter-widgets/controls",
      "_view_module_version": "1.5.0",
      "_view_name": "HTMLView",
      "description": "",
      "description_tooltip": null,
      "layout": "IPY_MODEL_4037a8dd07484d15a52ad568801ec456",
      "placeholder": "​",
      "style": "IPY_MODEL_723be6a7ac554c69887a4b814492e7ed",
      "value": " 53/53 [00:21&lt;00:00,  2.46ba/s]"
     }
    },
    "e3b3911f8c54445b85fdb72141bebd9b": {
     "model_module": "@jupyter-widgets/base",
     "model_module_version": "1.2.0",
     "model_name": "LayoutModel",
     "state": {
      "_model_module": "@jupyter-widgets/base",
      "_model_module_version": "1.2.0",
      "_model_name": "LayoutModel",
      "_view_count": null,
      "_view_module": "@jupyter-widgets/base",
      "_view_module_version": "1.2.0",
      "_view_name": "LayoutView",
      "align_content": null,
      "align_items": null,
      "align_self": null,
      "border": null,
      "bottom": null,
      "display": null,
      "flex": null,
      "flex_flow": null,
      "grid_area": null,
      "grid_auto_columns": null,
      "grid_auto_flow": null,
      "grid_auto_rows": null,
      "grid_column": null,
      "grid_gap": null,
      "grid_row": null,
      "grid_template_areas": null,
      "grid_template_columns": null,
      "grid_template_rows": null,
      "height": null,
      "justify_content": null,
      "justify_items": null,
      "left": null,
      "margin": null,
      "max_height": null,
      "max_width": null,
      "min_height": null,
      "min_width": null,
      "object_fit": null,
      "object_position": null,
      "order": null,
      "overflow": null,
      "overflow_x": null,
      "overflow_y": null,
      "padding": null,
      "right": null,
      "top": null,
      "visibility": null,
      "width": null
     }
    },
    "e6a7354b5e74480d92c3be073d05c6cf": {
     "model_module": "@jupyter-widgets/controls",
     "model_module_version": "1.5.0",
     "model_name": "FloatProgressModel",
     "state": {
      "_dom_classes": [],
      "_model_module": "@jupyter-widgets/controls",
      "_model_module_version": "1.5.0",
      "_model_name": "FloatProgressModel",
      "_view_count": null,
      "_view_module": "@jupyter-widgets/controls",
      "_view_module_version": "1.5.0",
      "_view_name": "ProgressView",
      "bar_style": "success",
      "description": "#2: 100%",
      "description_tooltip": null,
      "layout": "IPY_MODEL_e3b3911f8c54445b85fdb72141bebd9b",
      "max": 53,
      "min": 0,
      "orientation": "horizontal",
      "style": "IPY_MODEL_f978fd9701024c08a2c7d6dfc1b00554",
      "value": 53
     }
    },
    "e6cf4f0799c94e77827385899867943e": {
     "model_module": "@jupyter-widgets/controls",
     "model_module_version": "1.5.0",
     "model_name": "HBoxModel",
     "state": {
      "_dom_classes": [],
      "_model_module": "@jupyter-widgets/controls",
      "_model_module_version": "1.5.0",
      "_model_name": "HBoxModel",
      "_view_count": null,
      "_view_module": "@jupyter-widgets/controls",
      "_view_module_version": "1.5.0",
      "_view_name": "HBoxView",
      "box_style": "",
      "children": [
       "IPY_MODEL_704c7b0495dc4d52b2e1fc870f2876c2",
       "IPY_MODEL_9ce9548b953a42c9bdeef28d77663e60"
      ],
      "layout": "IPY_MODEL_c3e95481522f49bc87d56a8865e91638"
     }
    },
    "e8ea82049c2443fdbb0bcf23d3764df9": {
     "model_module": "@jupyter-widgets/controls",
     "model_module_version": "1.5.0",
     "model_name": "ProgressStyleModel",
     "state": {
      "_model_module": "@jupyter-widgets/controls",
      "_model_module_version": "1.5.0",
      "_model_name": "ProgressStyleModel",
      "_view_count": null,
      "_view_module": "@jupyter-widgets/base",
      "_view_module_version": "1.2.0",
      "_view_name": "StyleView",
      "bar_color": null,
      "description_width": "initial"
     }
    },
    "f4a32346155f4ef590b6d40288e68eb5": {
     "model_module": "@jupyter-widgets/controls",
     "model_module_version": "1.5.0",
     "model_name": "DescriptionStyleModel",
     "state": {
      "_model_module": "@jupyter-widgets/controls",
      "_model_module_version": "1.5.0",
      "_model_name": "DescriptionStyleModel",
      "_view_count": null,
      "_view_module": "@jupyter-widgets/base",
      "_view_module_version": "1.2.0",
      "_view_name": "StyleView",
      "description_width": ""
     }
    },
    "f5217b2c4b3e435db2bf69e2c79d6edd": {
     "model_module": "@jupyter-widgets/controls",
     "model_module_version": "1.5.0",
     "model_name": "HBoxModel",
     "state": {
      "_dom_classes": [],
      "_model_module": "@jupyter-widgets/controls",
      "_model_module_version": "1.5.0",
      "_model_name": "HBoxModel",
      "_view_count": null,
      "_view_module": "@jupyter-widgets/controls",
      "_view_module_version": "1.5.0",
      "_view_name": "HBoxView",
      "box_style": "",
      "children": [
       "IPY_MODEL_6ed87e8d02b9490182e8c2d06220002d",
       "IPY_MODEL_3f71950fd58e4a329728ee976fbdf03f"
      ],
      "layout": "IPY_MODEL_23f8b7eb2d4247648eef85cd7ff151af"
     }
    },
    "f7b8b9d8b9634eaa9817d1f8df8d54fb": {
     "model_module": "@jupyter-widgets/controls",
     "model_module_version": "1.5.0",
     "model_name": "DescriptionStyleModel",
     "state": {
      "_model_module": "@jupyter-widgets/controls",
      "_model_module_version": "1.5.0",
      "_model_name": "DescriptionStyleModel",
      "_view_count": null,
      "_view_module": "@jupyter-widgets/base",
      "_view_module_version": "1.2.0",
      "_view_name": "StyleView",
      "description_width": ""
     }
    },
    "f978fd9701024c08a2c7d6dfc1b00554": {
     "model_module": "@jupyter-widgets/controls",
     "model_module_version": "1.5.0",
     "model_name": "ProgressStyleModel",
     "state": {
      "_model_module": "@jupyter-widgets/controls",
      "_model_module_version": "1.5.0",
      "_model_name": "ProgressStyleModel",
      "_view_count": null,
      "_view_module": "@jupyter-widgets/base",
      "_view_module_version": "1.2.0",
      "_view_name": "StyleView",
      "bar_color": null,
      "description_width": "initial"
     }
    },
    "fdeaaa2d47814caca542b6668ea219f1": {
     "model_module": "@jupyter-widgets/controls",
     "model_module_version": "1.5.0",
     "model_name": "HTMLModel",
     "state": {
      "_dom_classes": [],
      "_model_module": "@jupyter-widgets/controls",
      "_model_module_version": "1.5.0",
      "_model_name": "HTMLModel",
      "_view_count": null,
      "_view_module": "@jupyter-widgets/controls",
      "_view_module_version": "1.5.0",
      "_view_name": "HTMLView",
      "description": "",
      "description_tooltip": null,
      "layout": "IPY_MODEL_ac0d30e3b3c9419d99b85ca6620d92b3",
      "placeholder": "​",
      "style": "IPY_MODEL_f4a32346155f4ef590b6d40288e68eb5",
      "value": " 53/53 [00:21&lt;00:00,  2.50ba/s]"
     }
    },
    "fe32247271f74190b10eef2bfcf2e507": {
     "model_module": "@jupyter-widgets/controls",
     "model_module_version": "1.5.0",
     "model_name": "FloatProgressModel",
     "state": {
      "_dom_classes": [],
      "_model_module": "@jupyter-widgets/controls",
      "_model_module_version": "1.5.0",
      "_model_name": "FloatProgressModel",
      "_view_count": null,
      "_view_module": "@jupyter-widgets/controls",
      "_view_module_version": "1.5.0",
      "_view_name": "ProgressView",
      "bar_style": "success",
      "description": "#3: 100%",
      "description_tooltip": null,
      "layout": "IPY_MODEL_210165189f7d4a128aeb461290266fa0",
      "max": 145,
      "min": 0,
      "orientation": "horizontal",
      "style": "IPY_MODEL_e8ea82049c2443fdbb0bcf23d3764df9",
      "value": 145
     }
    }
   }
  }
 },
 "nbformat": 4,
 "nbformat_minor": 0
}
